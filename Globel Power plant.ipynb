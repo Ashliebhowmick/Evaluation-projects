{
 "cells": [
  {
   "cell_type": "code",
   "execution_count": 1,
   "id": "db290702",
   "metadata": {},
   "outputs": [],
   "source": [
    "# importing the necessary libraries\n",
    "import pandas as pd\n",
    "import numpy as np\n",
    "import seaborn as sns\n",
    "import matplotlib.pyplot as plt\n",
    "import warnings\n",
    "warnings.filterwarnings('ignore')\n",
    "import matplotlib.pyplot as plt\n",
    "from sklearn.svm import SVR\n",
    "from sklearn import model_selection\n",
    "from sklearn.linear_model import LinearRegression\n",
    "from sklearn.ensemble import RandomForestRegressor\n",
    "from sklearn.preprocessing import OrdinalEncoder, StandardScaler\n",
    "from sklearn.neighbors import KNeighborsRegressor as KNN\n",
    "from sklearn.model_selection import train_test_split\n",
    "from sklearn.metrics import accuracy_score,confusion_matrix\n",
    "from scipy.stats import zscore\n",
    "from sklearn.ensemble import ExtraTreesRegressor\n",
    "from sklearn.metrics import confusion_matrix,classification_report, accuracy_score, roc_curve, roc_auc_score\n",
    "from sklearn.model_selection import train_test_split, cross_val_score,GridSearchCV"
   ]
  },
  {
   "cell_type": "code",
   "execution_count": 2,
   "id": "e62f2aaa",
   "metadata": {},
   "outputs": [],
   "source": [
    "#importing file\n",
    "ind=pd.read_csv('https://raw.githubusercontent.com/Lab-of-Infinity/Datatrained-Projects/main/Evaluation%20Project%204%20Global%20Power%20Plant%20Database/Powerplant_India.csv')"
   ]
  },
  {
   "cell_type": "code",
   "execution_count": 3,
   "id": "d07ee7bd",
   "metadata": {},
   "outputs": [],
   "source": [
    "aus=pd.read_csv('https://raw.githubusercontent.com/wri/global-power-plant-database/master/source_databases_csv/database_AUS.csv')"
   ]
  },
  {
   "cell_type": "code",
   "execution_count": 4,
   "id": "bb49aa45",
   "metadata": {},
   "outputs": [],
   "source": [
    "usa=pd.read_csv('https://raw.githubusercontent.com/wri/global-power-plant-database/master/source_databases_csv/database_USA.csv')"
   ]
  },
  {
   "cell_type": "markdown",
   "id": "1e5a2484",
   "metadata": {},
   "source": [
    "This Dataset is a comprehensive, open source database of power plants around the world. \n",
    "The database covers approximately 14,000 power plants from 3 countries(USA, AUS, INDIA) and includes thermal plants\n",
    "(e.g. coal, gas, oil, nuclear, biomass, waste, geothermal) and renewables (e.g. hydro, wind, solar). \n",
    "Each power plant is geolocated and entries contain information on plant capacity, generation, ownership, and fuel type. "
   ]
  },
  {
   "cell_type": "code",
   "execution_count": 5,
   "id": "76a19f6a",
   "metadata": {
    "scrolled": true
   },
   "outputs": [],
   "source": [
    "#merging the three file into one single flie\n",
    "combine='combine'\n",
    "df_combine=pd.concat([ind,aus,usa],ignore_index=True)\n",
    "df_combine.to_csv(combine,index=False)\n"
   ]
  },
  {
   "cell_type": "code",
   "execution_count": 6,
   "id": "b25ca210",
   "metadata": {},
   "outputs": [
    {
     "data": {
      "text/html": [
       "<div>\n",
       "<style scoped>\n",
       "    .dataframe tbody tr th:only-of-type {\n",
       "        vertical-align: middle;\n",
       "    }\n",
       "\n",
       "    .dataframe tbody tr th {\n",
       "        vertical-align: top;\n",
       "    }\n",
       "\n",
       "    .dataframe thead th {\n",
       "        text-align: right;\n",
       "    }\n",
       "</style>\n",
       "<table border=\"1\" class=\"dataframe\">\n",
       "  <thead>\n",
       "    <tr style=\"text-align: right;\">\n",
       "      <th></th>\n",
       "      <th>country</th>\n",
       "      <th>country_long</th>\n",
       "      <th>name</th>\n",
       "      <th>gppd_idnr</th>\n",
       "      <th>capacity_mw</th>\n",
       "      <th>latitude</th>\n",
       "      <th>longitude</th>\n",
       "      <th>primary_fuel</th>\n",
       "      <th>other_fuel1</th>\n",
       "      <th>other_fuel2</th>\n",
       "      <th>...</th>\n",
       "      <th>year_of_capacity_data</th>\n",
       "      <th>generation_gwh_2013</th>\n",
       "      <th>generation_gwh_2014</th>\n",
       "      <th>generation_gwh_2015</th>\n",
       "      <th>generation_gwh_2016</th>\n",
       "      <th>generation_gwh_2017</th>\n",
       "      <th>generation_data_source</th>\n",
       "      <th>estimated_generation_gwh</th>\n",
       "      <th>generation_gwh_2018</th>\n",
       "      <th>generation_gwh_2019</th>\n",
       "    </tr>\n",
       "  </thead>\n",
       "  <tbody>\n",
       "    <tr>\n",
       "      <th>0</th>\n",
       "      <td>IND</td>\n",
       "      <td>India</td>\n",
       "      <td>ACME Solar Tower</td>\n",
       "      <td>WRI1020239</td>\n",
       "      <td>2.5</td>\n",
       "      <td>28.1839</td>\n",
       "      <td>73.2407</td>\n",
       "      <td>Solar</td>\n",
       "      <td>NaN</td>\n",
       "      <td>NaN</td>\n",
       "      <td>...</td>\n",
       "      <td>NaN</td>\n",
       "      <td>NaN</td>\n",
       "      <td>NaN</td>\n",
       "      <td>NaN</td>\n",
       "      <td>NaN</td>\n",
       "      <td>NaN</td>\n",
       "      <td>NaN</td>\n",
       "      <td>NaN</td>\n",
       "      <td>NaN</td>\n",
       "      <td>NaN</td>\n",
       "    </tr>\n",
       "    <tr>\n",
       "      <th>1</th>\n",
       "      <td>IND</td>\n",
       "      <td>India</td>\n",
       "      <td>ADITYA CEMENT WORKS</td>\n",
       "      <td>WRI1019881</td>\n",
       "      <td>98.0</td>\n",
       "      <td>24.7663</td>\n",
       "      <td>74.6090</td>\n",
       "      <td>Coal</td>\n",
       "      <td>NaN</td>\n",
       "      <td>NaN</td>\n",
       "      <td>...</td>\n",
       "      <td>NaN</td>\n",
       "      <td>NaN</td>\n",
       "      <td>NaN</td>\n",
       "      <td>NaN</td>\n",
       "      <td>NaN</td>\n",
       "      <td>NaN</td>\n",
       "      <td>NaN</td>\n",
       "      <td>NaN</td>\n",
       "      <td>NaN</td>\n",
       "      <td>NaN</td>\n",
       "    </tr>\n",
       "    <tr>\n",
       "      <th>2</th>\n",
       "      <td>IND</td>\n",
       "      <td>India</td>\n",
       "      <td>AES Saurashtra Windfarms</td>\n",
       "      <td>WRI1026669</td>\n",
       "      <td>39.2</td>\n",
       "      <td>21.9038</td>\n",
       "      <td>69.3732</td>\n",
       "      <td>Wind</td>\n",
       "      <td>NaN</td>\n",
       "      <td>NaN</td>\n",
       "      <td>...</td>\n",
       "      <td>NaN</td>\n",
       "      <td>NaN</td>\n",
       "      <td>NaN</td>\n",
       "      <td>NaN</td>\n",
       "      <td>NaN</td>\n",
       "      <td>NaN</td>\n",
       "      <td>NaN</td>\n",
       "      <td>NaN</td>\n",
       "      <td>NaN</td>\n",
       "      <td>NaN</td>\n",
       "    </tr>\n",
       "    <tr>\n",
       "      <th>3</th>\n",
       "      <td>IND</td>\n",
       "      <td>India</td>\n",
       "      <td>AGARTALA GT</td>\n",
       "      <td>IND0000001</td>\n",
       "      <td>135.0</td>\n",
       "      <td>23.8712</td>\n",
       "      <td>91.3602</td>\n",
       "      <td>Gas</td>\n",
       "      <td>NaN</td>\n",
       "      <td>NaN</td>\n",
       "      <td>...</td>\n",
       "      <td>2018.0</td>\n",
       "      <td>631.777928</td>\n",
       "      <td>617.789264</td>\n",
       "      <td>843.747</td>\n",
       "      <td>886.004428</td>\n",
       "      <td>663.774500</td>\n",
       "      <td>Central Electricity Authority</td>\n",
       "      <td>NaN</td>\n",
       "      <td>NaN</td>\n",
       "      <td>NaN</td>\n",
       "    </tr>\n",
       "    <tr>\n",
       "      <th>4</th>\n",
       "      <td>IND</td>\n",
       "      <td>India</td>\n",
       "      <td>AKALTARA TPP</td>\n",
       "      <td>IND0000002</td>\n",
       "      <td>1800.0</td>\n",
       "      <td>21.9603</td>\n",
       "      <td>82.4091</td>\n",
       "      <td>Coal</td>\n",
       "      <td>Oil</td>\n",
       "      <td>NaN</td>\n",
       "      <td>...</td>\n",
       "      <td>2018.0</td>\n",
       "      <td>1668.290000</td>\n",
       "      <td>3035.550000</td>\n",
       "      <td>5916.370</td>\n",
       "      <td>6243.000000</td>\n",
       "      <td>5385.579736</td>\n",
       "      <td>Central Electricity Authority</td>\n",
       "      <td>NaN</td>\n",
       "      <td>NaN</td>\n",
       "      <td>NaN</td>\n",
       "    </tr>\n",
       "    <tr>\n",
       "      <th>...</th>\n",
       "      <td>...</td>\n",
       "      <td>...</td>\n",
       "      <td>...</td>\n",
       "      <td>...</td>\n",
       "      <td>...</td>\n",
       "      <td>...</td>\n",
       "      <td>...</td>\n",
       "      <td>...</td>\n",
       "      <td>...</td>\n",
       "      <td>...</td>\n",
       "      <td>...</td>\n",
       "      <td>...</td>\n",
       "      <td>...</td>\n",
       "      <td>...</td>\n",
       "      <td>...</td>\n",
       "      <td>...</td>\n",
       "      <td>...</td>\n",
       "      <td>...</td>\n",
       "      <td>...</td>\n",
       "      <td>...</td>\n",
       "      <td>...</td>\n",
       "    </tr>\n",
       "    <tr>\n",
       "      <th>13294</th>\n",
       "      <td>USA</td>\n",
       "      <td>United States of America</td>\n",
       "      <td>Zotos International WPGF</td>\n",
       "      <td>USA0057648</td>\n",
       "      <td>3.4</td>\n",
       "      <td>42.8869</td>\n",
       "      <td>-76.9683</td>\n",
       "      <td>Wind</td>\n",
       "      <td>NaN</td>\n",
       "      <td>NaN</td>\n",
       "      <td>...</td>\n",
       "      <td>2019.0</td>\n",
       "      <td>3.671000</td>\n",
       "      <td>2.460150</td>\n",
       "      <td>2.489</td>\n",
       "      <td>1.670000</td>\n",
       "      <td>1.233490</td>\n",
       "      <td>U.S. Energy Information Administration</td>\n",
       "      <td>NaN</td>\n",
       "      <td>2.630</td>\n",
       "      <td>1.21100</td>\n",
       "    </tr>\n",
       "    <tr>\n",
       "      <th>13295</th>\n",
       "      <td>USA</td>\n",
       "      <td>United States of America</td>\n",
       "      <td>Zumbro Community Solar Garden</td>\n",
       "      <td>USA0061574</td>\n",
       "      <td>1.0</td>\n",
       "      <td>44.3195</td>\n",
       "      <td>-92.6703</td>\n",
       "      <td>Solar</td>\n",
       "      <td>NaN</td>\n",
       "      <td>NaN</td>\n",
       "      <td>...</td>\n",
       "      <td>2019.0</td>\n",
       "      <td>NaN</td>\n",
       "      <td>NaN</td>\n",
       "      <td>NaN</td>\n",
       "      <td>NaN</td>\n",
       "      <td>NaN</td>\n",
       "      <td>U.S. Energy Information Administration</td>\n",
       "      <td>NaN</td>\n",
       "      <td>1.161</td>\n",
       "      <td>1.58900</td>\n",
       "    </tr>\n",
       "    <tr>\n",
       "      <th>13296</th>\n",
       "      <td>USA</td>\n",
       "      <td>United States of America</td>\n",
       "      <td>Zumbro Solar Garden</td>\n",
       "      <td>USA0063426</td>\n",
       "      <td>0.0</td>\n",
       "      <td>44.0460</td>\n",
       "      <td>-92.7600</td>\n",
       "      <td>NaN</td>\n",
       "      <td>NaN</td>\n",
       "      <td>NaN</td>\n",
       "      <td>...</td>\n",
       "      <td>2019.0</td>\n",
       "      <td>NaN</td>\n",
       "      <td>NaN</td>\n",
       "      <td>NaN</td>\n",
       "      <td>NaN</td>\n",
       "      <td>NaN</td>\n",
       "      <td>NaN</td>\n",
       "      <td>NaN</td>\n",
       "      <td>NaN</td>\n",
       "      <td>NaN</td>\n",
       "    </tr>\n",
       "    <tr>\n",
       "      <th>13297</th>\n",
       "      <td>USA</td>\n",
       "      <td>United States of America</td>\n",
       "      <td>Zuni</td>\n",
       "      <td>USA0000478</td>\n",
       "      <td>0.0</td>\n",
       "      <td>39.7373</td>\n",
       "      <td>-105.0170</td>\n",
       "      <td>NaN</td>\n",
       "      <td>NaN</td>\n",
       "      <td>NaN</td>\n",
       "      <td>...</td>\n",
       "      <td>2019.0</td>\n",
       "      <td>0.000000</td>\n",
       "      <td>0.000000</td>\n",
       "      <td>0.000</td>\n",
       "      <td>NaN</td>\n",
       "      <td>NaN</td>\n",
       "      <td>U.S. Energy Information Administration</td>\n",
       "      <td>NaN</td>\n",
       "      <td>NaN</td>\n",
       "      <td>NaN</td>\n",
       "    </tr>\n",
       "    <tr>\n",
       "      <th>13298</th>\n",
       "      <td>USA</td>\n",
       "      <td>United States of America</td>\n",
       "      <td>eBay - South Jordan</td>\n",
       "      <td>USA0059281</td>\n",
       "      <td>9.8</td>\n",
       "      <td>40.5606</td>\n",
       "      <td>-112.0478</td>\n",
       "      <td>Gas</td>\n",
       "      <td>NaN</td>\n",
       "      <td>NaN</td>\n",
       "      <td>...</td>\n",
       "      <td>2019.0</td>\n",
       "      <td>12.968000</td>\n",
       "      <td>51.276000</td>\n",
       "      <td>71.505</td>\n",
       "      <td>76.392000</td>\n",
       "      <td>76.631000</td>\n",
       "      <td>U.S. Energy Information Administration</td>\n",
       "      <td>NaN</td>\n",
       "      <td>75.228</td>\n",
       "      <td>72.06506</td>\n",
       "    </tr>\n",
       "  </tbody>\n",
       "</table>\n",
       "<p>13299 rows × 27 columns</p>\n",
       "</div>"
      ],
      "text/plain": [
       "      country              country_long                           name  \\\n",
       "0         IND                     India               ACME Solar Tower   \n",
       "1         IND                     India            ADITYA CEMENT WORKS   \n",
       "2         IND                     India       AES Saurashtra Windfarms   \n",
       "3         IND                     India                    AGARTALA GT   \n",
       "4         IND                     India                   AKALTARA TPP   \n",
       "...       ...                       ...                            ...   \n",
       "13294     USA  United States of America       Zotos International WPGF   \n",
       "13295     USA  United States of America  Zumbro Community Solar Garden   \n",
       "13296     USA  United States of America            Zumbro Solar Garden   \n",
       "13297     USA  United States of America                           Zuni   \n",
       "13298     USA  United States of America            eBay - South Jordan   \n",
       "\n",
       "        gppd_idnr  capacity_mw  latitude  longitude primary_fuel other_fuel1  \\\n",
       "0      WRI1020239          2.5   28.1839    73.2407        Solar         NaN   \n",
       "1      WRI1019881         98.0   24.7663    74.6090         Coal         NaN   \n",
       "2      WRI1026669         39.2   21.9038    69.3732         Wind         NaN   \n",
       "3      IND0000001        135.0   23.8712    91.3602          Gas         NaN   \n",
       "4      IND0000002       1800.0   21.9603    82.4091         Coal         Oil   \n",
       "...           ...          ...       ...        ...          ...         ...   \n",
       "13294  USA0057648          3.4   42.8869   -76.9683         Wind         NaN   \n",
       "13295  USA0061574          1.0   44.3195   -92.6703        Solar         NaN   \n",
       "13296  USA0063426          0.0   44.0460   -92.7600          NaN         NaN   \n",
       "13297  USA0000478          0.0   39.7373  -105.0170          NaN         NaN   \n",
       "13298  USA0059281          9.8   40.5606  -112.0478          Gas         NaN   \n",
       "\n",
       "      other_fuel2  ... year_of_capacity_data  generation_gwh_2013  \\\n",
       "0             NaN  ...                   NaN                  NaN   \n",
       "1             NaN  ...                   NaN                  NaN   \n",
       "2             NaN  ...                   NaN                  NaN   \n",
       "3             NaN  ...                2018.0           631.777928   \n",
       "4             NaN  ...                2018.0          1668.290000   \n",
       "...           ...  ...                   ...                  ...   \n",
       "13294         NaN  ...                2019.0             3.671000   \n",
       "13295         NaN  ...                2019.0                  NaN   \n",
       "13296         NaN  ...                2019.0                  NaN   \n",
       "13297         NaN  ...                2019.0             0.000000   \n",
       "13298         NaN  ...                2019.0            12.968000   \n",
       "\n",
       "      generation_gwh_2014 generation_gwh_2015 generation_gwh_2016  \\\n",
       "0                     NaN                 NaN                 NaN   \n",
       "1                     NaN                 NaN                 NaN   \n",
       "2                     NaN                 NaN                 NaN   \n",
       "3              617.789264             843.747          886.004428   \n",
       "4             3035.550000            5916.370         6243.000000   \n",
       "...                   ...                 ...                 ...   \n",
       "13294            2.460150               2.489            1.670000   \n",
       "13295                 NaN                 NaN                 NaN   \n",
       "13296                 NaN                 NaN                 NaN   \n",
       "13297            0.000000               0.000                 NaN   \n",
       "13298           51.276000              71.505           76.392000   \n",
       "\n",
       "      generation_gwh_2017                  generation_data_source  \\\n",
       "0                     NaN                                     NaN   \n",
       "1                     NaN                                     NaN   \n",
       "2                     NaN                                     NaN   \n",
       "3              663.774500           Central Electricity Authority   \n",
       "4             5385.579736           Central Electricity Authority   \n",
       "...                   ...                                     ...   \n",
       "13294            1.233490  U.S. Energy Information Administration   \n",
       "13295                 NaN  U.S. Energy Information Administration   \n",
       "13296                 NaN                                     NaN   \n",
       "13297                 NaN  U.S. Energy Information Administration   \n",
       "13298           76.631000  U.S. Energy Information Administration   \n",
       "\n",
       "       estimated_generation_gwh  generation_gwh_2018  generation_gwh_2019  \n",
       "0                           NaN                  NaN                  NaN  \n",
       "1                           NaN                  NaN                  NaN  \n",
       "2                           NaN                  NaN                  NaN  \n",
       "3                           NaN                  NaN                  NaN  \n",
       "4                           NaN                  NaN                  NaN  \n",
       "...                         ...                  ...                  ...  \n",
       "13294                       NaN                2.630              1.21100  \n",
       "13295                       NaN                1.161              1.58900  \n",
       "13296                       NaN                  NaN                  NaN  \n",
       "13297                       NaN                  NaN                  NaN  \n",
       "13298                       NaN               75.228             72.06506  \n",
       "\n",
       "[13299 rows x 27 columns]"
      ]
     },
     "execution_count": 6,
     "metadata": {},
     "output_type": "execute_result"
    }
   ],
   "source": [
    "df_combine"
   ]
  },
  {
   "cell_type": "code",
   "execution_count": 7,
   "id": "d77e5837",
   "metadata": {},
   "outputs": [
    {
     "data": {
      "text/plain": [
       "(13299, 27)"
      ]
     },
     "execution_count": 7,
     "metadata": {},
     "output_type": "execute_result"
    }
   ],
   "source": [
    "df_combine.shape"
   ]
  },
  {
   "cell_type": "markdown",
   "id": "c447c30e",
   "metadata": {},
   "source": [
    "After combining the three file we can see that there are total 13299 row and 27 columns"
   ]
  },
  {
   "cell_type": "code",
   "execution_count": 8,
   "id": "dcf4cbfc",
   "metadata": {},
   "outputs": [
    {
     "name": "stdout",
     "output_type": "stream",
     "text": [
      "<class 'pandas.core.frame.DataFrame'>\n",
      "RangeIndex: 13299 entries, 0 to 13298\n",
      "Data columns (total 27 columns):\n",
      " #   Column                    Non-Null Count  Dtype  \n",
      "---  ------                    --------------  -----  \n",
      " 0   country                   13299 non-null  object \n",
      " 1   country_long              13299 non-null  object \n",
      " 2   name                      13299 non-null  object \n",
      " 3   gppd_idnr                 13299 non-null  object \n",
      " 4   capacity_mw               13293 non-null  float64\n",
      " 5   latitude                  13221 non-null  float64\n",
      " 6   longitude                 13221 non-null  float64\n",
      " 7   primary_fuel              11270 non-null  object \n",
      " 8   other_fuel1               1629 non-null   object \n",
      " 9   other_fuel2               270 non-null    object \n",
      " 10  other_fuel3               92 non-null     object \n",
      " 11  commissioning_year        10357 non-null  float64\n",
      " 12  owner                     12703 non-null  object \n",
      " 13  source                    13299 non-null  object \n",
      " 14  url                       13299 non-null  object \n",
      " 15  geolocation_source        13276 non-null  object \n",
      " 16  wepp_id                   0 non-null      float64\n",
      " 17  year_of_capacity_data     12353 non-null  float64\n",
      " 18  generation_gwh_2013       7082 non-null   float64\n",
      " 19  generation_gwh_2014       7493 non-null   float64\n",
      " 20  generation_gwh_2015       7952 non-null   float64\n",
      " 21  generation_gwh_2016       8660 non-null   float64\n",
      " 22  generation_gwh_2017       9253 non-null   float64\n",
      " 23  generation_data_source    10804 non-null  object \n",
      " 24  estimated_generation_gwh  0 non-null      float64\n",
      " 25  generation_gwh_2018       9370 non-null   float64\n",
      " 26  generation_gwh_2019       9776 non-null   float64\n",
      "dtypes: float64(14), object(13)\n",
      "memory usage: 2.7+ MB\n"
     ]
    }
   ],
   "source": [
    "df_combine.info()"
   ]
  },
  {
   "cell_type": "markdown",
   "id": "cfe6da91",
   "metadata": {},
   "source": [
    "Here we can see the information of dtype . there are 13 object dtype and 14 float64 dtype.\n",
    "We can see that there are null values present in the data as the non null counts are not same.\n",
    "estimated_generation_gwh and wepp_id are empty columns."
   ]
  },
  {
   "cell_type": "code",
   "execution_count": 9,
   "id": "feb80890",
   "metadata": {},
   "outputs": [
    {
     "data": {
      "text/plain": [
       "Index(['country', 'country_long', 'name', 'gppd_idnr', 'capacity_mw',\n",
       "       'latitude', 'longitude', 'primary_fuel', 'other_fuel1', 'other_fuel2',\n",
       "       'other_fuel3', 'commissioning_year', 'owner', 'source', 'url',\n",
       "       'geolocation_source', 'wepp_id', 'year_of_capacity_data',\n",
       "       'generation_gwh_2013', 'generation_gwh_2014', 'generation_gwh_2015',\n",
       "       'generation_gwh_2016', 'generation_gwh_2017', 'generation_data_source',\n",
       "       'estimated_generation_gwh', 'generation_gwh_2018',\n",
       "       'generation_gwh_2019'],\n",
       "      dtype='object')"
      ]
     },
     "execution_count": 9,
     "metadata": {},
     "output_type": "execute_result"
    }
   ],
   "source": [
    "df_combine.columns"
   ]
  },
  {
   "cell_type": "markdown",
   "id": "6bf1747f",
   "metadata": {},
   "source": [
    "This are the name of all the columns of the dataset."
   ]
  },
  {
   "cell_type": "code",
   "execution_count": 10,
   "id": "2c18369e",
   "metadata": {},
   "outputs": [
    {
     "data": {
      "text/plain": [
       "country                         0\n",
       "country_long                    0\n",
       "name                            0\n",
       "gppd_idnr                       0\n",
       "capacity_mw                     6\n",
       "latitude                       78\n",
       "longitude                      78\n",
       "primary_fuel                 2029\n",
       "other_fuel1                 11670\n",
       "other_fuel2                 13029\n",
       "other_fuel3                 13207\n",
       "commissioning_year           2942\n",
       "owner                         596\n",
       "source                          0\n",
       "url                             0\n",
       "geolocation_source             23\n",
       "wepp_id                     13299\n",
       "year_of_capacity_data         946\n",
       "generation_gwh_2013          6217\n",
       "generation_gwh_2014          5806\n",
       "generation_gwh_2015          5347\n",
       "generation_gwh_2016          4639\n",
       "generation_gwh_2017          4046\n",
       "generation_data_source       2495\n",
       "estimated_generation_gwh    13299\n",
       "generation_gwh_2018          3929\n",
       "generation_gwh_2019          3523\n",
       "dtype: int64"
      ]
     },
     "execution_count": 10,
     "metadata": {},
     "output_type": "execute_result"
    }
   ],
   "source": [
    "#checking the null values\n",
    "df_combine.isnull().sum()"
   ]
  },
  {
   "cell_type": "markdown",
   "id": "b2f5cecd",
   "metadata": {},
   "source": [
    "This are the count of missing values present in each column.\n",
    "There are some columns with 0 values and some have irrelevant data which need to be removed."
   ]
  },
  {
   "cell_type": "code",
   "execution_count": 11,
   "id": "0698aa1d",
   "metadata": {},
   "outputs": [
    {
     "data": {
      "text/html": [
       "<div>\n",
       "<style scoped>\n",
       "    .dataframe tbody tr th:only-of-type {\n",
       "        vertical-align: middle;\n",
       "    }\n",
       "\n",
       "    .dataframe tbody tr th {\n",
       "        vertical-align: top;\n",
       "    }\n",
       "\n",
       "    .dataframe thead th {\n",
       "        text-align: right;\n",
       "    }\n",
       "</style>\n",
       "<table border=\"1\" class=\"dataframe\">\n",
       "  <thead>\n",
       "    <tr style=\"text-align: right;\">\n",
       "      <th></th>\n",
       "      <th>No of unique values</th>\n",
       "    </tr>\n",
       "  </thead>\n",
       "  <tbody>\n",
       "    <tr>\n",
       "      <th>country</th>\n",
       "      <td>3</td>\n",
       "    </tr>\n",
       "    <tr>\n",
       "      <th>country_long</th>\n",
       "      <td>3</td>\n",
       "    </tr>\n",
       "    <tr>\n",
       "      <th>name</th>\n",
       "      <td>13267</td>\n",
       "    </tr>\n",
       "    <tr>\n",
       "      <th>gppd_idnr</th>\n",
       "      <td>13299</td>\n",
       "    </tr>\n",
       "    <tr>\n",
       "      <th>capacity_mw</th>\n",
       "      <td>2434</td>\n",
       "    </tr>\n",
       "    <tr>\n",
       "      <th>latitude</th>\n",
       "      <td>12386</td>\n",
       "    </tr>\n",
       "    <tr>\n",
       "      <th>longitude</th>\n",
       "      <td>12734</td>\n",
       "    </tr>\n",
       "    <tr>\n",
       "      <th>primary_fuel</th>\n",
       "      <td>14</td>\n",
       "    </tr>\n",
       "    <tr>\n",
       "      <th>other_fuel1</th>\n",
       "      <td>12</td>\n",
       "    </tr>\n",
       "    <tr>\n",
       "      <th>other_fuel2</th>\n",
       "      <td>11</td>\n",
       "    </tr>\n",
       "    <tr>\n",
       "      <th>other_fuel3</th>\n",
       "      <td>9</td>\n",
       "    </tr>\n",
       "    <tr>\n",
       "      <th>commissioning_year</th>\n",
       "      <td>2006</td>\n",
       "    </tr>\n",
       "    <tr>\n",
       "      <th>owner</th>\n",
       "      <td>5877</td>\n",
       "    </tr>\n",
       "    <tr>\n",
       "      <th>source</th>\n",
       "      <td>206</td>\n",
       "    </tr>\n",
       "    <tr>\n",
       "      <th>url</th>\n",
       "      <td>325</td>\n",
       "    </tr>\n",
       "    <tr>\n",
       "      <th>geolocation_source</th>\n",
       "      <td>5</td>\n",
       "    </tr>\n",
       "    <tr>\n",
       "      <th>wepp_id</th>\n",
       "      <td>0</td>\n",
       "    </tr>\n",
       "    <tr>\n",
       "      <th>year_of_capacity_data</th>\n",
       "      <td>2</td>\n",
       "    </tr>\n",
       "    <tr>\n",
       "      <th>generation_gwh_2013</th>\n",
       "      <td>5984</td>\n",
       "    </tr>\n",
       "    <tr>\n",
       "      <th>generation_gwh_2014</th>\n",
       "      <td>6309</td>\n",
       "    </tr>\n",
       "    <tr>\n",
       "      <th>generation_gwh_2015</th>\n",
       "      <td>6696</td>\n",
       "    </tr>\n",
       "    <tr>\n",
       "      <th>generation_gwh_2016</th>\n",
       "      <td>7160</td>\n",
       "    </tr>\n",
       "    <tr>\n",
       "      <th>generation_gwh_2017</th>\n",
       "      <td>7646</td>\n",
       "    </tr>\n",
       "    <tr>\n",
       "      <th>generation_data_source</th>\n",
       "      <td>3</td>\n",
       "    </tr>\n",
       "    <tr>\n",
       "      <th>estimated_generation_gwh</th>\n",
       "      <td>0</td>\n",
       "    </tr>\n",
       "    <tr>\n",
       "      <th>generation_gwh_2018</th>\n",
       "      <td>7637</td>\n",
       "    </tr>\n",
       "    <tr>\n",
       "      <th>generation_gwh_2019</th>\n",
       "      <td>8382</td>\n",
       "    </tr>\n",
       "  </tbody>\n",
       "</table>\n",
       "</div>"
      ],
      "text/plain": [
       "                          No of unique values\n",
       "country                                     3\n",
       "country_long                                3\n",
       "name                                    13267\n",
       "gppd_idnr                               13299\n",
       "capacity_mw                              2434\n",
       "latitude                                12386\n",
       "longitude                               12734\n",
       "primary_fuel                               14\n",
       "other_fuel1                                12\n",
       "other_fuel2                                11\n",
       "other_fuel3                                 9\n",
       "commissioning_year                       2006\n",
       "owner                                    5877\n",
       "source                                    206\n",
       "url                                       325\n",
       "geolocation_source                          5\n",
       "wepp_id                                     0\n",
       "year_of_capacity_data                       2\n",
       "generation_gwh_2013                      5984\n",
       "generation_gwh_2014                      6309\n",
       "generation_gwh_2015                      6696\n",
       "generation_gwh_2016                      7160\n",
       "generation_gwh_2017                      7646\n",
       "generation_data_source                      3\n",
       "estimated_generation_gwh                    0\n",
       "generation_gwh_2018                      7637\n",
       "generation_gwh_2019                      8382"
      ]
     },
     "execution_count": 11,
     "metadata": {},
     "output_type": "execute_result"
    }
   ],
   "source": [
    "df_combine.nunique().to_frame('No of unique values')"
   ]
  },
  {
   "cell_type": "markdown",
   "id": "b6a0ce2a",
   "metadata": {},
   "source": [
    "This shows the unique value count of each column."
   ]
  },
  {
   "cell_type": "code",
   "execution_count": 12,
   "id": "e2724306",
   "metadata": {},
   "outputs": [
    {
     "data": {
      "text/plain": [
       "<Axes: >"
      ]
     },
     "execution_count": 12,
     "metadata": {},
     "output_type": "execute_result"
    },
    {
     "data": {
      "image/png": "[encoded data removed]",
      "text/plain": [
       "<Figure size 640x480 with 1 Axes>"
      ]
     },
     "metadata": {},
     "output_type": "display_data"
    }
   ],
   "source": [
    "#dropping of duplicates values\n",
    "df_combine.drop_duplicates(inplace=True)\n",
    "sns.boxplot(df_combine)"
   ]
  },
  {
   "cell_type": "code",
   "execution_count": 13,
   "id": "f20d326c",
   "metadata": {},
   "outputs": [
    {
     "data": {
      "text/plain": [
       "0"
      ]
     },
     "execution_count": 13,
     "metadata": {},
     "output_type": "execute_result"
    }
   ],
   "source": [
    "df_combine.duplicated().sum()"
   ]
  },
  {
   "cell_type": "markdown",
   "id": "67424aee",
   "metadata": {},
   "source": [
    "After dropping the duplicate values we can see that there are no duplicate values."
   ]
  },
  {
   "cell_type": "code",
   "execution_count": 14,
   "id": "972e8d60",
   "metadata": {},
   "outputs": [],
   "source": [
    "df_combine.drop([\"country\",\"country_long\",'url','year_of_capacity_data',\n",
    "                 'gppd_idnr','owner','estimated_generation_gwh','wepp_id'],axis=1,inplace=True)"
   ]
  },
  {
   "cell_type": "markdown",
   "id": "192b2807",
   "metadata": {},
   "source": [
    "1.estimated_generation_gwh ,wepp_id,other_fuel3 are Empty.\n",
    "2.other_fuel2 has 98% data missing.\n",
    "3.owner has More than 60 % data missing.\n",
    "4.year_of_capacity_data - Missing data with single unique value.\n",
    "5.country, country_long, url and gppd_idnr are non relevalent info.\n",
    ".so we have dropped it."
   ]
  },
  {
   "cell_type": "code",
   "execution_count": 15,
   "id": "0692183b",
   "metadata": {},
   "outputs": [],
   "source": [
    "#filling the missing values\n",
    "df_combine=df_combine.fillna(0)"
   ]
  },
  {
   "cell_type": "code",
   "execution_count": 16,
   "id": "4ae0ab8c",
   "metadata": {},
   "outputs": [
    {
     "data": {
      "text/plain": [
       "<Axes: >"
      ]
     },
     "execution_count": 16,
     "metadata": {},
     "output_type": "execute_result"
    },
    {
     "data": {
      "image/png": "[encoded data removed]",
      "text/plain": [
       "<Figure size 640x480 with 2 Axes>"
      ]
     },
     "metadata": {},
     "output_type": "display_data"
    }
   ],
   "source": [
    "#checking null values through heat map\n",
    "sns.heatmap(df_combine.isnull())"
   ]
  },
  {
   "cell_type": "markdown",
   "id": "1f268f59",
   "metadata": {},
   "source": [
    "After filling all the null values we can see that there are no null values with the help of heatmap.\n",
    "As it contain one colour (bright red) which is shown on the scale that is not negative so that means it has no null values."
   ]
  },
  {
   "cell_type": "code",
   "execution_count": 17,
   "id": "c4bb5036",
   "metadata": {},
   "outputs": [
    {
     "data": {
      "text/html": [
       "<div>\n",
       "<style scoped>\n",
       "    .dataframe tbody tr th:only-of-type {\n",
       "        vertical-align: middle;\n",
       "    }\n",
       "\n",
       "    .dataframe tbody tr th {\n",
       "        vertical-align: top;\n",
       "    }\n",
       "\n",
       "    .dataframe thead th {\n",
       "        text-align: right;\n",
       "    }\n",
       "</style>\n",
       "<table border=\"1\" class=\"dataframe\">\n",
       "  <thead>\n",
       "    <tr style=\"text-align: right;\">\n",
       "      <th></th>\n",
       "      <th>capacity_mw</th>\n",
       "      <th>latitude</th>\n",
       "      <th>longitude</th>\n",
       "      <th>commissioning_year</th>\n",
       "      <th>generation_gwh_2013</th>\n",
       "      <th>generation_gwh_2014</th>\n",
       "      <th>generation_gwh_2015</th>\n",
       "      <th>generation_gwh_2016</th>\n",
       "      <th>generation_gwh_2017</th>\n",
       "      <th>generation_gwh_2018</th>\n",
       "      <th>generation_gwh_2019</th>\n",
       "    </tr>\n",
       "  </thead>\n",
       "  <tbody>\n",
       "    <tr>\n",
       "      <th>count</th>\n",
       "      <td>13299.000000</td>\n",
       "      <td>13299.000000</td>\n",
       "      <td>13299.000000</td>\n",
       "      <td>13299.000000</td>\n",
       "      <td>13299.000000</td>\n",
       "      <td>13299.000000</td>\n",
       "      <td>13299.000000</td>\n",
       "      <td>13299.000000</td>\n",
       "      <td>13299.000000</td>\n",
       "      <td>13299.000000</td>\n",
       "      <td>13299.000000</td>\n",
       "    </tr>\n",
       "    <tr>\n",
       "      <th>mean</th>\n",
       "      <td>117.347785</td>\n",
       "      <td>34.846468</td>\n",
       "      <td>-73.351138</td>\n",
       "      <td>1556.145121</td>\n",
       "      <td>354.305687</td>\n",
       "      <td>357.963768</td>\n",
       "      <td>368.881145</td>\n",
       "      <td>365.619408</td>\n",
       "      <td>369.898860</td>\n",
       "      <td>290.834394</td>\n",
       "      <td>309.949595</td>\n",
       "    </tr>\n",
       "    <tr>\n",
       "      <th>std</th>\n",
       "      <td>345.782504</td>\n",
       "      <td>15.630045</td>\n",
       "      <td>62.945388</td>\n",
       "      <td>829.687821</td>\n",
       "      <td>1652.920637</td>\n",
       "      <td>1677.842390</td>\n",
       "      <td>1691.296943</td>\n",
       "      <td>1678.691778</td>\n",
       "      <td>1688.752836</td>\n",
       "      <td>1451.103146</td>\n",
       "      <td>1463.134110</td>\n",
       "    </tr>\n",
       "    <tr>\n",
       "      <th>min</th>\n",
       "      <td>0.000000</td>\n",
       "      <td>-42.888300</td>\n",
       "      <td>-171.712400</td>\n",
       "      <td>0.000000</td>\n",
       "      <td>-947.600000</td>\n",
       "      <td>-989.619000</td>\n",
       "      <td>-864.428000</td>\n",
       "      <td>-768.620000</td>\n",
       "      <td>-934.944000</td>\n",
       "      <td>-982.622000</td>\n",
       "      <td>-780.339000</td>\n",
       "    </tr>\n",
       "    <tr>\n",
       "      <th>25%</th>\n",
       "      <td>1.500000</td>\n",
       "      <td>33.826400</td>\n",
       "      <td>-104.583400</td>\n",
       "      <td>1930.146067</td>\n",
       "      <td>0.000000</td>\n",
       "      <td>0.000000</td>\n",
       "      <td>0.000000</td>\n",
       "      <td>0.000000</td>\n",
       "      <td>0.000000</td>\n",
       "      <td>0.000000</td>\n",
       "      <td>0.000000</td>\n",
       "    </tr>\n",
       "    <tr>\n",
       "      <th>50%</th>\n",
       "      <td>5.500000</td>\n",
       "      <td>38.330300</td>\n",
       "      <td>-87.101100</td>\n",
       "      <td>1999.000000</td>\n",
       "      <td>0.000000</td>\n",
       "      <td>0.000000</td>\n",
       "      <td>0.148000</td>\n",
       "      <td>1.683000</td>\n",
       "      <td>2.789000</td>\n",
       "      <td>2.753000</td>\n",
       "      <td>3.941000</td>\n",
       "    </tr>\n",
       "    <tr>\n",
       "      <th>75%</th>\n",
       "      <td>52.750000</td>\n",
       "      <td>42.165950</td>\n",
       "      <td>-75.288550</td>\n",
       "      <td>2014.000000</td>\n",
       "      <td>33.146000</td>\n",
       "      <td>33.668000</td>\n",
       "      <td>38.877083</td>\n",
       "      <td>44.367000</td>\n",
       "      <td>50.702000</td>\n",
       "      <td>38.340000</td>\n",
       "      <td>46.120500</td>\n",
       "    </tr>\n",
       "    <tr>\n",
       "      <th>max</th>\n",
       "      <td>6809.000000</td>\n",
       "      <td>425.246100</td>\n",
       "      <td>153.434100</td>\n",
       "      <td>2020.000000</td>\n",
       "      <td>31431.080000</td>\n",
       "      <td>32320.917000</td>\n",
       "      <td>32525.595000</td>\n",
       "      <td>32377.477000</td>\n",
       "      <td>35116.000000</td>\n",
       "      <td>31097.259000</td>\n",
       "      <td>31920.368000</td>\n",
       "    </tr>\n",
       "  </tbody>\n",
       "</table>\n",
       "</div>"
      ],
      "text/plain": [
       "        capacity_mw      latitude     longitude  commissioning_year  \\\n",
       "count  13299.000000  13299.000000  13299.000000        13299.000000   \n",
       "mean     117.347785     34.846468    -73.351138         1556.145121   \n",
       "std      345.782504     15.630045     62.945388          829.687821   \n",
       "min        0.000000    -42.888300   -171.712400            0.000000   \n",
       "25%        1.500000     33.826400   -104.583400         1930.146067   \n",
       "50%        5.500000     38.330300    -87.101100         1999.000000   \n",
       "75%       52.750000     42.165950    -75.288550         2014.000000   \n",
       "max     6809.000000    425.246100    153.434100         2020.000000   \n",
       "\n",
       "       generation_gwh_2013  generation_gwh_2014  generation_gwh_2015  \\\n",
       "count         13299.000000         13299.000000         13299.000000   \n",
       "mean            354.305687           357.963768           368.881145   \n",
       "std            1652.920637          1677.842390          1691.296943   \n",
       "min            -947.600000          -989.619000          -864.428000   \n",
       "25%               0.000000             0.000000             0.000000   \n",
       "50%               0.000000             0.000000             0.148000   \n",
       "75%              33.146000            33.668000            38.877083   \n",
       "max           31431.080000         32320.917000         32525.595000   \n",
       "\n",
       "       generation_gwh_2016  generation_gwh_2017  generation_gwh_2018  \\\n",
       "count         13299.000000         13299.000000         13299.000000   \n",
       "mean            365.619408           369.898860           290.834394   \n",
       "std            1678.691778          1688.752836          1451.103146   \n",
       "min            -768.620000          -934.944000          -982.622000   \n",
       "25%               0.000000             0.000000             0.000000   \n",
       "50%               1.683000             2.789000             2.753000   \n",
       "75%              44.367000            50.702000            38.340000   \n",
       "max           32377.477000         35116.000000         31097.259000   \n",
       "\n",
       "       generation_gwh_2019  \n",
       "count         13299.000000  \n",
       "mean            309.949595  \n",
       "std            1463.134110  \n",
       "min            -780.339000  \n",
       "25%               0.000000  \n",
       "50%               3.941000  \n",
       "75%              46.120500  \n",
       "max           31920.368000  "
      ]
     },
     "execution_count": 17,
     "metadata": {},
     "output_type": "execute_result"
    }
   ],
   "source": [
    "df_combine.describe()"
   ]
  },
  {
   "cell_type": "markdown",
   "id": "826d3346",
   "metadata": {},
   "source": [
    "#This shows the statistical information of the numerical columns.\n",
    "It has no negative values from the above abservation we can say that-\n",
    "\n",
    "The count of all columns are same that means it has no missing values. \n",
    "The mean value is greater than median(50%) in most of the columns, which means data is skewed to the right. \n",
    "There is huge difference between the max and 75% so there are outliers present in the data. \n",
    "The standard deviation,25% percentile value and min can be notice by this describe method."
   ]
  },
  {
   "cell_type": "code",
   "execution_count": 18,
   "id": "820173fe",
   "metadata": {},
   "outputs": [
    {
     "data": {
      "text/html": [
       "<div>\n",
       "<style scoped>\n",
       "    .dataframe tbody tr th:only-of-type {\n",
       "        vertical-align: middle;\n",
       "    }\n",
       "\n",
       "    .dataframe tbody tr th {\n",
       "        vertical-align: top;\n",
       "    }\n",
       "\n",
       "    .dataframe thead th {\n",
       "        text-align: right;\n",
       "    }\n",
       "</style>\n",
       "<table border=\"1\" class=\"dataframe\">\n",
       "  <thead>\n",
       "    <tr style=\"text-align: right;\">\n",
       "      <th></th>\n",
       "      <th>capacity_mw</th>\n",
       "      <th>latitude</th>\n",
       "      <th>longitude</th>\n",
       "      <th>commissioning_year</th>\n",
       "      <th>generation_gwh_2013</th>\n",
       "      <th>generation_gwh_2014</th>\n",
       "      <th>generation_gwh_2015</th>\n",
       "      <th>generation_gwh_2016</th>\n",
       "      <th>generation_gwh_2017</th>\n",
       "      <th>generation_gwh_2018</th>\n",
       "      <th>generation_gwh_2019</th>\n",
       "    </tr>\n",
       "  </thead>\n",
       "  <tbody>\n",
       "    <tr>\n",
       "      <th>capacity_mw</th>\n",
       "      <td>1.000000</td>\n",
       "      <td>-0.075408</td>\n",
       "      <td>0.122830</td>\n",
       "      <td>0.135997</td>\n",
       "      <td>0.782911</td>\n",
       "      <td>0.799726</td>\n",
       "      <td>0.817099</td>\n",
       "      <td>0.816447</td>\n",
       "      <td>0.815126</td>\n",
       "      <td>0.694271</td>\n",
       "      <td>0.728134</td>\n",
       "    </tr>\n",
       "    <tr>\n",
       "      <th>latitude</th>\n",
       "      <td>-0.075408</td>\n",
       "      <td>1.000000</td>\n",
       "      <td>-0.776121</td>\n",
       "      <td>0.389447</td>\n",
       "      <td>-0.043027</td>\n",
       "      <td>-0.045114</td>\n",
       "      <td>-0.048197</td>\n",
       "      <td>-0.052030</td>\n",
       "      <td>-0.052102</td>\n",
       "      <td>-0.011937</td>\n",
       "      <td>0.031238</td>\n",
       "    </tr>\n",
       "    <tr>\n",
       "      <th>longitude</th>\n",
       "      <td>0.122830</td>\n",
       "      <td>-0.776121</td>\n",
       "      <td>1.000000</td>\n",
       "      <td>-0.363643</td>\n",
       "      <td>0.078865</td>\n",
       "      <td>0.087196</td>\n",
       "      <td>0.092642</td>\n",
       "      <td>0.098790</td>\n",
       "      <td>0.102910</td>\n",
       "      <td>-0.022518</td>\n",
       "      <td>-0.062137</td>\n",
       "    </tr>\n",
       "    <tr>\n",
       "      <th>commissioning_year</th>\n",
       "      <td>0.135997</td>\n",
       "      <td>0.389447</td>\n",
       "      <td>-0.363643</td>\n",
       "      <td>1.000000</td>\n",
       "      <td>0.073289</td>\n",
       "      <td>0.075588</td>\n",
       "      <td>0.081613</td>\n",
       "      <td>0.084608</td>\n",
       "      <td>0.086498</td>\n",
       "      <td>0.075721</td>\n",
       "      <td>0.107638</td>\n",
       "    </tr>\n",
       "    <tr>\n",
       "      <th>generation_gwh_2013</th>\n",
       "      <td>0.782911</td>\n",
       "      <td>-0.043027</td>\n",
       "      <td>0.078865</td>\n",
       "      <td>0.073289</td>\n",
       "      <td>1.000000</td>\n",
       "      <td>0.962285</td>\n",
       "      <td>0.936351</td>\n",
       "      <td>0.904060</td>\n",
       "      <td>0.903691</td>\n",
       "      <td>0.796902</td>\n",
       "      <td>0.762275</td>\n",
       "    </tr>\n",
       "    <tr>\n",
       "      <th>generation_gwh_2014</th>\n",
       "      <td>0.799726</td>\n",
       "      <td>-0.045114</td>\n",
       "      <td>0.087196</td>\n",
       "      <td>0.075588</td>\n",
       "      <td>0.962285</td>\n",
       "      <td>1.000000</td>\n",
       "      <td>0.970143</td>\n",
       "      <td>0.938156</td>\n",
       "      <td>0.921881</td>\n",
       "      <td>0.805787</td>\n",
       "      <td>0.756540</td>\n",
       "    </tr>\n",
       "    <tr>\n",
       "      <th>generation_gwh_2015</th>\n",
       "      <td>0.817099</td>\n",
       "      <td>-0.048197</td>\n",
       "      <td>0.092642</td>\n",
       "      <td>0.081613</td>\n",
       "      <td>0.936351</td>\n",
       "      <td>0.970143</td>\n",
       "      <td>1.000000</td>\n",
       "      <td>0.964525</td>\n",
       "      <td>0.944541</td>\n",
       "      <td>0.813728</td>\n",
       "      <td>0.765860</td>\n",
       "    </tr>\n",
       "    <tr>\n",
       "      <th>generation_gwh_2016</th>\n",
       "      <td>0.816447</td>\n",
       "      <td>-0.052030</td>\n",
       "      <td>0.098790</td>\n",
       "      <td>0.084608</td>\n",
       "      <td>0.904060</td>\n",
       "      <td>0.938156</td>\n",
       "      <td>0.964525</td>\n",
       "      <td>1.000000</td>\n",
       "      <td>0.970642</td>\n",
       "      <td>0.815090</td>\n",
       "      <td>0.762137</td>\n",
       "    </tr>\n",
       "    <tr>\n",
       "      <th>generation_gwh_2017</th>\n",
       "      <td>0.815126</td>\n",
       "      <td>-0.052102</td>\n",
       "      <td>0.102910</td>\n",
       "      <td>0.086498</td>\n",
       "      <td>0.903691</td>\n",
       "      <td>0.921881</td>\n",
       "      <td>0.944541</td>\n",
       "      <td>0.970642</td>\n",
       "      <td>1.000000</td>\n",
       "      <td>0.814128</td>\n",
       "      <td>0.766036</td>\n",
       "    </tr>\n",
       "    <tr>\n",
       "      <th>generation_gwh_2018</th>\n",
       "      <td>0.694271</td>\n",
       "      <td>-0.011937</td>\n",
       "      <td>-0.022518</td>\n",
       "      <td>0.075721</td>\n",
       "      <td>0.796902</td>\n",
       "      <td>0.805787</td>\n",
       "      <td>0.813728</td>\n",
       "      <td>0.815090</td>\n",
       "      <td>0.814128</td>\n",
       "      <td>1.000000</td>\n",
       "      <td>0.902792</td>\n",
       "    </tr>\n",
       "    <tr>\n",
       "      <th>generation_gwh_2019</th>\n",
       "      <td>0.728134</td>\n",
       "      <td>0.031238</td>\n",
       "      <td>-0.062137</td>\n",
       "      <td>0.107638</td>\n",
       "      <td>0.762275</td>\n",
       "      <td>0.756540</td>\n",
       "      <td>0.765860</td>\n",
       "      <td>0.762137</td>\n",
       "      <td>0.766036</td>\n",
       "      <td>0.902792</td>\n",
       "      <td>1.000000</td>\n",
       "    </tr>\n",
       "  </tbody>\n",
       "</table>\n",
       "</div>"
      ],
      "text/plain": [
       "                     capacity_mw  latitude  longitude  commissioning_year  \\\n",
       "capacity_mw             1.000000 -0.075408   0.122830            0.135997   \n",
       "latitude               -0.075408  1.000000  -0.776121            0.389447   \n",
       "longitude               0.122830 -0.776121   1.000000           -0.363643   \n",
       "commissioning_year      0.135997  0.389447  -0.363643            1.000000   \n",
       "generation_gwh_2013     0.782911 -0.043027   0.078865            0.073289   \n",
       "generation_gwh_2014     0.799726 -0.045114   0.087196            0.075588   \n",
       "generation_gwh_2015     0.817099 -0.048197   0.092642            0.081613   \n",
       "generation_gwh_2016     0.816447 -0.052030   0.098790            0.084608   \n",
       "generation_gwh_2017     0.815126 -0.052102   0.102910            0.086498   \n",
       "generation_gwh_2018     0.694271 -0.011937  -0.022518            0.075721   \n",
       "generation_gwh_2019     0.728134  0.031238  -0.062137            0.107638   \n",
       "\n",
       "                     generation_gwh_2013  generation_gwh_2014  \\\n",
       "capacity_mw                     0.782911             0.799726   \n",
       "latitude                       -0.043027            -0.045114   \n",
       "longitude                       0.078865             0.087196   \n",
       "commissioning_year              0.073289             0.075588   \n",
       "generation_gwh_2013             1.000000             0.962285   \n",
       "generation_gwh_2014             0.962285             1.000000   \n",
       "generation_gwh_2015             0.936351             0.970143   \n",
       "generation_gwh_2016             0.904060             0.938156   \n",
       "generation_gwh_2017             0.903691             0.921881   \n",
       "generation_gwh_2018             0.796902             0.805787   \n",
       "generation_gwh_2019             0.762275             0.756540   \n",
       "\n",
       "                     generation_gwh_2015  generation_gwh_2016  \\\n",
       "capacity_mw                     0.817099             0.816447   \n",
       "latitude                       -0.048197            -0.052030   \n",
       "longitude                       0.092642             0.098790   \n",
       "commissioning_year              0.081613             0.084608   \n",
       "generation_gwh_2013             0.936351             0.904060   \n",
       "generation_gwh_2014             0.970143             0.938156   \n",
       "generation_gwh_2015             1.000000             0.964525   \n",
       "generation_gwh_2016             0.964525             1.000000   \n",
       "generation_gwh_2017             0.944541             0.970642   \n",
       "generation_gwh_2018             0.813728             0.815090   \n",
       "generation_gwh_2019             0.765860             0.762137   \n",
       "\n",
       "                     generation_gwh_2017  generation_gwh_2018  \\\n",
       "capacity_mw                     0.815126             0.694271   \n",
       "latitude                       -0.052102            -0.011937   \n",
       "longitude                       0.102910            -0.022518   \n",
       "commissioning_year              0.086498             0.075721   \n",
       "generation_gwh_2013             0.903691             0.796902   \n",
       "generation_gwh_2014             0.921881             0.805787   \n",
       "generation_gwh_2015             0.944541             0.813728   \n",
       "generation_gwh_2016             0.970642             0.815090   \n",
       "generation_gwh_2017             1.000000             0.814128   \n",
       "generation_gwh_2018             0.814128             1.000000   \n",
       "generation_gwh_2019             0.766036             0.902792   \n",
       "\n",
       "                     generation_gwh_2019  \n",
       "capacity_mw                     0.728134  \n",
       "latitude                        0.031238  \n",
       "longitude                      -0.062137  \n",
       "commissioning_year              0.107638  \n",
       "generation_gwh_2013             0.762275  \n",
       "generation_gwh_2014             0.756540  \n",
       "generation_gwh_2015             0.765860  \n",
       "generation_gwh_2016             0.762137  \n",
       "generation_gwh_2017             0.766036  \n",
       "generation_gwh_2018             0.902792  \n",
       "generation_gwh_2019             1.000000  "
      ]
     },
     "execution_count": 18,
     "metadata": {},
     "output_type": "execute_result"
    }
   ],
   "source": [
    "#checking thr correlation\n",
    "df_combine.corr()"
   ]
  },
  {
   "cell_type": "code",
   "execution_count": 19,
   "id": "78e8097b",
   "metadata": {},
   "outputs": [
    {
     "data": {
      "image/png": "[encoded data removed]",
      "text/plain": [
       "<Figure size 2000x2000 with 2 Axes>"
      ]
     },
     "metadata": {},
     "output_type": "display_data"
    }
   ],
   "source": [
    "#checking of correlation with the heatmap\n",
    "plt.figure(figsize=(20,20))\n",
    "sns.heatmap(df_combine.corr(),cmap='pink',annot=True)\n",
    "plt.show()"
   ]
  },
  {
   "cell_type": "markdown",
   "id": "11e1d7d3",
   "metadata": {},
   "source": [
    "Visualization of correlation through heatmap.\n",
    "we can se that longitude and latitude are negatively correlated with each other.\n",
    "generation_gwh_2013,2014,2015,2016,2017,2018 and 2019 are positively correlated with each other."
   ]
  },
  {
   "cell_type": "code",
   "execution_count": 20,
   "id": "167ab8c9",
   "metadata": {},
   "outputs": [
    {
     "name": "stdout",
     "output_type": "stream",
     "text": [
      "Minimum Capacity of Powerplant: 0.0\n",
      "Maximum Capacity of Powerplant: 6809.0\n"
     ]
    }
   ],
   "source": [
    "print('Minimum Capacity of Powerplant:',df_combine.capacity_mw.min())\n",
    "print('Maximum Capacity of Powerplant:',df_combine.capacity_mw.max())"
   ]
  },
  {
   "cell_type": "code",
   "execution_count": 21,
   "id": "497131ed",
   "metadata": {
    "scrolled": true
   },
   "outputs": [
    {
     "data": {
      "text/plain": [
       "Solar           3476\n",
       "Gas             2029\n",
       "0               2029\n",
       "Hydro           1778\n",
       "Wind            1338\n",
       "Oil              960\n",
       "Waste            591\n",
       "Coal             573\n",
       "Biomass          228\n",
       "Storage          104\n",
       "Nuclear           67\n",
       "Geothermal        65\n",
       "Cogeneration      34\n",
       "Other             16\n",
       "Petcoke           11\n",
       "Name: primary_fuel, dtype: int64"
      ]
     },
     "execution_count": 21,
     "metadata": {},
     "output_type": "execute_result"
    }
   ],
   "source": [
    "df_combine.primary_fuel.value_counts()"
   ]
  },
  {
   "cell_type": "markdown",
   "id": "5a19b76b",
   "metadata": {},
   "source": [
    "Maximum Number of powerplant are solar based powerplant followed by Gas energy based powerplant.\n",
    "There are only 67 Nuclear powerplant. Usually these powerplant build for high capacity.\n",
    "Let find Total Generation capacity of all powerplant, afterwards we will look for capacity of powerplant according to fuel type."
   ]
  },
  {
   "cell_type": "code",
   "execution_count": 22,
   "id": "80144caa",
   "metadata": {},
   "outputs": [
    {
     "name": "stdout",
     "output_type": "stream",
     "text": [
      "Total Power Generation Capacity of all Power Plants: 1560608.187 MW\n"
     ]
    }
   ],
   "source": [
    "print('Total Power Generation Capacity of all Power Plants:',df_combine['capacity_mw'].sum(),'MW')"
   ]
  },
  {
   "cell_type": "code",
   "execution_count": 23,
   "id": "44e00a3a",
   "metadata": {
    "scrolled": true
   },
   "outputs": [
    {
     "data": {
      "text/html": [
       "<div>\n",
       "<style scoped>\n",
       "    .dataframe tbody tr th:only-of-type {\n",
       "        vertical-align: middle;\n",
       "    }\n",
       "\n",
       "    .dataframe tbody tr th {\n",
       "        vertical-align: top;\n",
       "    }\n",
       "\n",
       "    .dataframe thead th {\n",
       "        text-align: right;\n",
       "    }\n",
       "</style>\n",
       "<table border=\"1\" class=\"dataframe\">\n",
       "  <thead>\n",
       "    <tr style=\"text-align: right;\">\n",
       "      <th></th>\n",
       "      <th>sum</th>\n",
       "    </tr>\n",
       "    <tr>\n",
       "      <th>primary_fuel</th>\n",
       "      <th></th>\n",
       "    </tr>\n",
       "  </thead>\n",
       "  <tbody>\n",
       "    <tr>\n",
       "      <th>0</th>\n",
       "      <td>0.000</td>\n",
       "    </tr>\n",
       "    <tr>\n",
       "      <th>Biomass</th>\n",
       "      <td>6715.960</td>\n",
       "    </tr>\n",
       "    <tr>\n",
       "      <th>Coal</th>\n",
       "      <td>476115.320</td>\n",
       "    </tr>\n",
       "    <tr>\n",
       "      <th>Cogeneration</th>\n",
       "      <td>1042.000</td>\n",
       "    </tr>\n",
       "    <tr>\n",
       "      <th>Gas</th>\n",
       "      <td>591576.691</td>\n",
       "    </tr>\n",
       "    <tr>\n",
       "      <th>Geothermal</th>\n",
       "      <td>3889.200</td>\n",
       "    </tr>\n",
       "    <tr>\n",
       "      <th>Hydro</th>\n",
       "      <td>156513.220</td>\n",
       "    </tr>\n",
       "    <tr>\n",
       "      <th>Nuclear</th>\n",
       "      <td>113013.100</td>\n",
       "    </tr>\n",
       "    <tr>\n",
       "      <th>Oil</th>\n",
       "      <td>40281.580</td>\n",
       "    </tr>\n",
       "    <tr>\n",
       "      <th>Other</th>\n",
       "      <td>572.400</td>\n",
       "    </tr>\n",
       "    <tr>\n",
       "      <th>Petcoke</th>\n",
       "      <td>2361.600</td>\n",
       "    </tr>\n",
       "    <tr>\n",
       "      <th>Solar</th>\n",
       "      <td>43423.400</td>\n",
       "    </tr>\n",
       "    <tr>\n",
       "      <th>Storage</th>\n",
       "      <td>815.600</td>\n",
       "    </tr>\n",
       "    <tr>\n",
       "      <th>Waste</th>\n",
       "      <td>9957.126</td>\n",
       "    </tr>\n",
       "    <tr>\n",
       "      <th>Wind</th>\n",
       "      <td>114330.990</td>\n",
       "    </tr>\n",
       "  </tbody>\n",
       "</table>\n",
       "</div>"
      ],
      "text/plain": [
       "                     sum\n",
       "primary_fuel            \n",
       "0                  0.000\n",
       "Biomass         6715.960\n",
       "Coal          476115.320\n",
       "Cogeneration    1042.000\n",
       "Gas           591576.691\n",
       "Geothermal      3889.200\n",
       "Hydro         156513.220\n",
       "Nuclear       113013.100\n",
       "Oil            40281.580\n",
       "Other            572.400\n",
       "Petcoke         2361.600\n",
       "Solar          43423.400\n",
       "Storage          815.600\n",
       "Waste           9957.126\n",
       "Wind          114330.990"
      ]
     },
     "execution_count": 23,
     "metadata": {},
     "output_type": "execute_result"
    }
   ],
   "source": [
    "df_combine[\"capacity_mw\"].groupby(df_combine[\"primary_fuel\"]).agg([sum])"
   ]
  },
  {
   "cell_type": "markdown",
   "id": "196c96b8",
   "metadata": {},
   "source": [
    "Out of Total PowerGeneration Maximum power comes from gas.\n",
    "Over all Power Generation capacity of coal powerplants is greater than Unconventional Energy sources based powerplant \n",
    "(biomass, wind,solar) combined."
   ]
  },
  {
   "cell_type": "code",
   "execution_count": 24,
   "id": "3bb2af48",
   "metadata": {},
   "outputs": [
    {
     "data": {
      "image/png": "[encoded data removed]",
      "text/plain": [
       "<Figure size 1000x800 with 1 Axes>"
      ]
     },
     "metadata": {},
     "output_type": "display_data"
    }
   ],
   "source": [
    "#Lets check the relation between primary_fuel and  Average capacity_mw\n",
    "plt.figure(figsize = (10,8))\n",
    "y = df_combine[\"capacity_mw\"]\n",
    "p = sns.barplot(x = \"primary_fuel\", y = \"capacity_mw\", data = df_combine)\n",
    "plt.title('Comparision between Primary fuel Type and Mean Capacity in mw', fontsize=22, fontweight='bold')\n",
    "p.set_xlabel('Primary fuel Type',fontsize=18,fontweight ='bold')\n",
    "p.set_ylabel('Mean Capacity in mw',fontsize=18,fontweight ='bold')\n",
    "plt.show()"
   ]
  },
  {
   "cell_type": "markdown",
   "id": "a0403b07",
   "metadata": {},
   "source": [
    "As we can see that nuclear energy has the highest mean capicity over 1600.\n",
    "coal has capicity over 800."
   ]
  },
  {
   "cell_type": "code",
   "execution_count": 25,
   "id": "52a10605",
   "metadata": {},
   "outputs": [
    {
     "data": {
      "image/png": "[encoded data removed]",
      "text/plain": [
       "<Figure size 1000x600 with 1 Axes>"
      ]
     },
     "metadata": {},
     "output_type": "display_data"
    }
   ],
   "source": [
    "#Lets check the relation between geolocation_source and capacity_mw\n",
    "plt.figure(figsize = (10,6))\n",
    "sns.barplot(x = \"geolocation_source\", y = \"capacity_mw\", data = df_combine)\n",
    "plt.show()"
   ]
  },
  {
   "cell_type": "code",
   "execution_count": 26,
   "id": "e79c800c",
   "metadata": {},
   "outputs": [],
   "source": [
    "#converting categorical data into numerical data\n",
    "enc=OrdinalEncoder()\n",
    "df_combine[['source','name']]=enc.fit_transform(df_combine[['source','name']])"
   ]
  },
  {
   "cell_type": "code",
   "execution_count": 27,
   "id": "5b187630",
   "metadata": {},
   "outputs": [],
   "source": [
    "#converting the mix data into numerical data\n",
    "pd.to_numeric(df_combine['primary_fuel'], errors='coerce').fillna(0)\n",
    "df_combine[\"primary_fuel\"] = pd.to_numeric(df_combine['primary_fuel'], errors='coerce').fillna(0)"
   ]
  },
  {
   "cell_type": "code",
   "execution_count": 28,
   "id": "8e412954",
   "metadata": {},
   "outputs": [],
   "source": [
    "pd.to_numeric(df_combine['generation_data_source'], errors='coerce').fillna(0)\n",
    "df_combine['generation_data_source'] = pd.to_numeric(df_combine['generation_data_source'], errors='coerce').fillna(0)"
   ]
  },
  {
   "cell_type": "code",
   "execution_count": 29,
   "id": "c15dc0ce",
   "metadata": {},
   "outputs": [],
   "source": [
    "pd.to_numeric(df_combine['other_fuel1'], errors='coerce').fillna(0)\n",
    "df_combine['other_fuel1'] = pd.to_numeric(df_combine['other_fuel1'], errors='coerce').fillna(0)"
   ]
  },
  {
   "cell_type": "code",
   "execution_count": 30,
   "id": "55899ecf",
   "metadata": {},
   "outputs": [],
   "source": [
    "pd.to_numeric(df_combine['other_fuel2'], errors='coerce').fillna(0)\n",
    "df_combine['other_fuel2'] = pd.to_numeric(df_combine['other_fuel2'], errors='coerce').fillna(0)"
   ]
  },
  {
   "cell_type": "code",
   "execution_count": 31,
   "id": "8c1d9914",
   "metadata": {},
   "outputs": [],
   "source": [
    "pd.to_numeric(df_combine['other_fuel3'], errors='coerce').fillna(0)\n",
    "df_combine['other_fuel3'] = pd.to_numeric(df_combine['other_fuel3'], errors='coerce').fillna(0)"
   ]
  },
  {
   "cell_type": "code",
   "execution_count": 32,
   "id": "a6f741a4",
   "metadata": {},
   "outputs": [],
   "source": [
    "pd.to_numeric(df_combine['geolocation_source'], errors='coerce').fillna(0)\n",
    "df_combine['geolocation_source'] = pd.to_numeric(df_combine['geolocation_source'], errors='coerce').fillna(0)"
   ]
  },
  {
   "cell_type": "code",
   "execution_count": 33,
   "id": "65283f54",
   "metadata": {},
   "outputs": [
    {
     "data": {
      "text/html": [
       "<div>\n",
       "<style scoped>\n",
       "    .dataframe tbody tr th:only-of-type {\n",
       "        vertical-align: middle;\n",
       "    }\n",
       "\n",
       "    .dataframe tbody tr th {\n",
       "        vertical-align: top;\n",
       "    }\n",
       "\n",
       "    .dataframe thead th {\n",
       "        text-align: right;\n",
       "    }\n",
       "</style>\n",
       "<table border=\"1\" class=\"dataframe\">\n",
       "  <thead>\n",
       "    <tr style=\"text-align: right;\">\n",
       "      <th></th>\n",
       "      <th>name</th>\n",
       "      <th>capacity_mw</th>\n",
       "      <th>latitude</th>\n",
       "      <th>longitude</th>\n",
       "      <th>primary_fuel</th>\n",
       "      <th>other_fuel1</th>\n",
       "      <th>other_fuel2</th>\n",
       "      <th>other_fuel3</th>\n",
       "      <th>commissioning_year</th>\n",
       "      <th>source</th>\n",
       "      <th>geolocation_source</th>\n",
       "      <th>generation_gwh_2013</th>\n",
       "      <th>generation_gwh_2014</th>\n",
       "      <th>generation_gwh_2015</th>\n",
       "      <th>generation_gwh_2016</th>\n",
       "      <th>generation_gwh_2017</th>\n",
       "      <th>generation_data_source</th>\n",
       "      <th>generation_gwh_2018</th>\n",
       "      <th>generation_gwh_2019</th>\n",
       "    </tr>\n",
       "  </thead>\n",
       "  <tbody>\n",
       "    <tr>\n",
       "      <th>6270</th>\n",
       "      <td>5289.0</td>\n",
       "      <td>230.0</td>\n",
       "      <td>33.3500</td>\n",
       "      <td>-99.5400</td>\n",
       "      <td>0.0</td>\n",
       "      <td>0.0</td>\n",
       "      <td>0.0</td>\n",
       "      <td>0.0</td>\n",
       "      <td>2016.000000</td>\n",
       "      <td>185.0</td>\n",
       "      <td>0.0</td>\n",
       "      <td>0.000000</td>\n",
       "      <td>0.000000</td>\n",
       "      <td>0.000000</td>\n",
       "      <td>168.713000</td>\n",
       "      <td>851.540000</td>\n",
       "      <td>0.0</td>\n",
       "      <td>883.449000</td>\n",
       "      <td>878.886</td>\n",
       "    </tr>\n",
       "    <tr>\n",
       "      <th>5834</th>\n",
       "      <td>4838.0</td>\n",
       "      <td>165.6</td>\n",
       "      <td>32.7683</td>\n",
       "      <td>-99.4228</td>\n",
       "      <td>0.0</td>\n",
       "      <td>0.0</td>\n",
       "      <td>0.0</td>\n",
       "      <td>0.0</td>\n",
       "      <td>2009.000000</td>\n",
       "      <td>185.0</td>\n",
       "      <td>0.0</td>\n",
       "      <td>482.147000</td>\n",
       "      <td>514.455000</td>\n",
       "      <td>441.309000</td>\n",
       "      <td>459.455000</td>\n",
       "      <td>436.644000</td>\n",
       "      <td>0.0</td>\n",
       "      <td>361.577000</td>\n",
       "      <td>463.283</td>\n",
       "    </tr>\n",
       "    <tr>\n",
       "      <th>1692</th>\n",
       "      <td>300.0</td>\n",
       "      <td>4.0</td>\n",
       "      <td>44.6603</td>\n",
       "      <td>-74.8603</td>\n",
       "      <td>0.0</td>\n",
       "      <td>0.0</td>\n",
       "      <td>0.0</td>\n",
       "      <td>0.0</td>\n",
       "      <td>1927.000000</td>\n",
       "      <td>185.0</td>\n",
       "      <td>0.0</td>\n",
       "      <td>9.119000</td>\n",
       "      <td>24.760000</td>\n",
       "      <td>21.838000</td>\n",
       "      <td>20.175000</td>\n",
       "      <td>17.329000</td>\n",
       "      <td>0.0</td>\n",
       "      <td>13.679000</td>\n",
       "      <td>27.274</td>\n",
       "    </tr>\n",
       "    <tr>\n",
       "      <th>7775</th>\n",
       "      <td>7104.0</td>\n",
       "      <td>3.0</td>\n",
       "      <td>42.1117</td>\n",
       "      <td>-70.7094</td>\n",
       "      <td>0.0</td>\n",
       "      <td>0.0</td>\n",
       "      <td>0.0</td>\n",
       "      <td>0.0</td>\n",
       "      <td>2014.000000</td>\n",
       "      <td>185.0</td>\n",
       "      <td>0.0</td>\n",
       "      <td>0.045000</td>\n",
       "      <td>4.950000</td>\n",
       "      <td>5.369000</td>\n",
       "      <td>5.558000</td>\n",
       "      <td>5.212000</td>\n",
       "      <td>0.0</td>\n",
       "      <td>4.714000</td>\n",
       "      <td>4.831</td>\n",
       "    </tr>\n",
       "    <tr>\n",
       "      <th>8495</th>\n",
       "      <td>7921.0</td>\n",
       "      <td>352.0</td>\n",
       "      <td>40.6486</td>\n",
       "      <td>-74.0208</td>\n",
       "      <td>0.0</td>\n",
       "      <td>0.0</td>\n",
       "      <td>0.0</td>\n",
       "      <td>0.0</td>\n",
       "      <td>1972.000000</td>\n",
       "      <td>185.0</td>\n",
       "      <td>0.0</td>\n",
       "      <td>123.883997</td>\n",
       "      <td>25.190000</td>\n",
       "      <td>61.520000</td>\n",
       "      <td>79.461000</td>\n",
       "      <td>24.054000</td>\n",
       "      <td>0.0</td>\n",
       "      <td>71.060000</td>\n",
       "      <td>37.090</td>\n",
       "    </tr>\n",
       "    <tr>\n",
       "      <th>958</th>\n",
       "      <td>1533.0</td>\n",
       "      <td>39.6</td>\n",
       "      <td>-17.9810</td>\n",
       "      <td>122.2046</td>\n",
       "      <td>0.0</td>\n",
       "      <td>0.0</td>\n",
       "      <td>0.0</td>\n",
       "      <td>0.0</td>\n",
       "      <td>0.000000</td>\n",
       "      <td>12.0</td>\n",
       "      <td>0.0</td>\n",
       "      <td>143.763889</td>\n",
       "      <td>140.375556</td>\n",
       "      <td>134.916111</td>\n",
       "      <td>145.064167</td>\n",
       "      <td>138.547222</td>\n",
       "      <td>0.0</td>\n",
       "      <td>138.955556</td>\n",
       "      <td>0.000</td>\n",
       "    </tr>\n",
       "    <tr>\n",
       "      <th>10726</th>\n",
       "      <td>10420.0</td>\n",
       "      <td>446.0</td>\n",
       "      <td>42.5744</td>\n",
       "      <td>-73.8592</td>\n",
       "      <td>0.0</td>\n",
       "      <td>0.0</td>\n",
       "      <td>0.0</td>\n",
       "      <td>0.0</td>\n",
       "      <td>1993.519283</td>\n",
       "      <td>185.0</td>\n",
       "      <td>0.0</td>\n",
       "      <td>1969.744000</td>\n",
       "      <td>0.000000</td>\n",
       "      <td>0.000000</td>\n",
       "      <td>0.000000</td>\n",
       "      <td>0.000000</td>\n",
       "      <td>0.0</td>\n",
       "      <td>0.000000</td>\n",
       "      <td>118.649</td>\n",
       "    </tr>\n",
       "    <tr>\n",
       "      <th>10747</th>\n",
       "      <td>10440.0</td>\n",
       "      <td>8.5</td>\n",
       "      <td>34.0969</td>\n",
       "      <td>-118.4795</td>\n",
       "      <td>0.0</td>\n",
       "      <td>0.0</td>\n",
       "      <td>0.0</td>\n",
       "      <td>0.0</td>\n",
       "      <td>1982.000000</td>\n",
       "      <td>185.0</td>\n",
       "      <td>0.0</td>\n",
       "      <td>0.000000</td>\n",
       "      <td>0.000000</td>\n",
       "      <td>0.000000</td>\n",
       "      <td>4.312000</td>\n",
       "      <td>21.770000</td>\n",
       "      <td>0.0</td>\n",
       "      <td>0.000000</td>\n",
       "      <td>12.665</td>\n",
       "    </tr>\n",
       "    <tr>\n",
       "      <th>6522</th>\n",
       "      <td>5557.0</td>\n",
       "      <td>5.2</td>\n",
       "      <td>38.6460</td>\n",
       "      <td>-121.1626</td>\n",
       "      <td>0.0</td>\n",
       "      <td>0.0</td>\n",
       "      <td>0.0</td>\n",
       "      <td>0.0</td>\n",
       "      <td>2016.000000</td>\n",
       "      <td>185.0</td>\n",
       "      <td>0.0</td>\n",
       "      <td>0.000000</td>\n",
       "      <td>0.000000</td>\n",
       "      <td>0.000000</td>\n",
       "      <td>1.535000</td>\n",
       "      <td>8.539000</td>\n",
       "      <td>0.0</td>\n",
       "      <td>9.077000</td>\n",
       "      <td>8.130</td>\n",
       "    </tr>\n",
       "    <tr>\n",
       "      <th>5900</th>\n",
       "      <td>4910.0</td>\n",
       "      <td>0.0</td>\n",
       "      <td>39.7049</td>\n",
       "      <td>-80.8418</td>\n",
       "      <td>0.0</td>\n",
       "      <td>0.0</td>\n",
       "      <td>0.0</td>\n",
       "      <td>0.0</td>\n",
       "      <td>0.000000</td>\n",
       "      <td>185.0</td>\n",
       "      <td>0.0</td>\n",
       "      <td>0.000000</td>\n",
       "      <td>0.000000</td>\n",
       "      <td>0.000000</td>\n",
       "      <td>0.000000</td>\n",
       "      <td>0.000000</td>\n",
       "      <td>0.0</td>\n",
       "      <td>0.000000</td>\n",
       "      <td>0.000</td>\n",
       "    </tr>\n",
       "  </tbody>\n",
       "</table>\n",
       "</div>"
      ],
      "text/plain": [
       "          name  capacity_mw  latitude  longitude  primary_fuel  other_fuel1  \\\n",
       "6270    5289.0        230.0   33.3500   -99.5400           0.0          0.0   \n",
       "5834    4838.0        165.6   32.7683   -99.4228           0.0          0.0   \n",
       "1692     300.0          4.0   44.6603   -74.8603           0.0          0.0   \n",
       "7775    7104.0          3.0   42.1117   -70.7094           0.0          0.0   \n",
       "8495    7921.0        352.0   40.6486   -74.0208           0.0          0.0   \n",
       "958     1533.0         39.6  -17.9810   122.2046           0.0          0.0   \n",
       "10726  10420.0        446.0   42.5744   -73.8592           0.0          0.0   \n",
       "10747  10440.0          8.5   34.0969  -118.4795           0.0          0.0   \n",
       "6522    5557.0          5.2   38.6460  -121.1626           0.0          0.0   \n",
       "5900    4910.0          0.0   39.7049   -80.8418           0.0          0.0   \n",
       "\n",
       "       other_fuel2  other_fuel3  commissioning_year  source  \\\n",
       "6270           0.0          0.0         2016.000000   185.0   \n",
       "5834           0.0          0.0         2009.000000   185.0   \n",
       "1692           0.0          0.0         1927.000000   185.0   \n",
       "7775           0.0          0.0         2014.000000   185.0   \n",
       "8495           0.0          0.0         1972.000000   185.0   \n",
       "958            0.0          0.0            0.000000    12.0   \n",
       "10726          0.0          0.0         1993.519283   185.0   \n",
       "10747          0.0          0.0         1982.000000   185.0   \n",
       "6522           0.0          0.0         2016.000000   185.0   \n",
       "5900           0.0          0.0            0.000000   185.0   \n",
       "\n",
       "       geolocation_source  generation_gwh_2013  generation_gwh_2014  \\\n",
       "6270                  0.0             0.000000             0.000000   \n",
       "5834                  0.0           482.147000           514.455000   \n",
       "1692                  0.0             9.119000            24.760000   \n",
       "7775                  0.0             0.045000             4.950000   \n",
       "8495                  0.0           123.883997            25.190000   \n",
       "958                   0.0           143.763889           140.375556   \n",
       "10726                 0.0          1969.744000             0.000000   \n",
       "10747                 0.0             0.000000             0.000000   \n",
       "6522                  0.0             0.000000             0.000000   \n",
       "5900                  0.0             0.000000             0.000000   \n",
       "\n",
       "       generation_gwh_2015  generation_gwh_2016  generation_gwh_2017  \\\n",
       "6270              0.000000           168.713000           851.540000   \n",
       "5834            441.309000           459.455000           436.644000   \n",
       "1692             21.838000            20.175000            17.329000   \n",
       "7775              5.369000             5.558000             5.212000   \n",
       "8495             61.520000            79.461000            24.054000   \n",
       "958             134.916111           145.064167           138.547222   \n",
       "10726             0.000000             0.000000             0.000000   \n",
       "10747             0.000000             4.312000            21.770000   \n",
       "6522              0.000000             1.535000             8.539000   \n",
       "5900              0.000000             0.000000             0.000000   \n",
       "\n",
       "       generation_data_source  generation_gwh_2018  generation_gwh_2019  \n",
       "6270                      0.0           883.449000              878.886  \n",
       "5834                      0.0           361.577000              463.283  \n",
       "1692                      0.0            13.679000               27.274  \n",
       "7775                      0.0             4.714000                4.831  \n",
       "8495                      0.0            71.060000               37.090  \n",
       "958                       0.0           138.955556                0.000  \n",
       "10726                     0.0             0.000000              118.649  \n",
       "10747                     0.0             0.000000               12.665  \n",
       "6522                      0.0             9.077000                8.130  \n",
       "5900                      0.0             0.000000                0.000  "
      ]
     },
     "execution_count": 33,
     "metadata": {},
     "output_type": "execute_result"
    }
   ],
   "source": [
    "df_combine.sample(10)"
   ]
  },
  {
   "cell_type": "markdown",
   "id": "a9a66930",
   "metadata": {},
   "source": [
    "checking the data after converting all the data into numerical data."
   ]
  },
  {
   "cell_type": "code",
   "execution_count": 34,
   "id": "bb4c7430",
   "metadata": {},
   "outputs": [
    {
     "data": {
      "text/plain": [
       "name                         Axes(0.125,0.786098;0.227941x0.0939024)\n",
       "capacity_mw               Axes(0.398529,0.786098;0.227941x0.0939024)\n",
       "latitude                  Axes(0.672059,0.786098;0.227941x0.0939024)\n",
       "longitude                    Axes(0.125,0.673415;0.227941x0.0939024)\n",
       "primary_fuel              Axes(0.398529,0.673415;0.227941x0.0939024)\n",
       "other_fuel1               Axes(0.672059,0.673415;0.227941x0.0939024)\n",
       "other_fuel2                  Axes(0.125,0.560732;0.227941x0.0939024)\n",
       "other_fuel3               Axes(0.398529,0.560732;0.227941x0.0939024)\n",
       "commissioning_year        Axes(0.672059,0.560732;0.227941x0.0939024)\n",
       "source                       Axes(0.125,0.448049;0.227941x0.0939024)\n",
       "geolocation_source        Axes(0.398529,0.448049;0.227941x0.0939024)\n",
       "generation_gwh_2013       Axes(0.672059,0.448049;0.227941x0.0939024)\n",
       "generation_gwh_2014          Axes(0.125,0.335366;0.227941x0.0939024)\n",
       "generation_gwh_2015       Axes(0.398529,0.335366;0.227941x0.0939024)\n",
       "generation_gwh_2016       Axes(0.672059,0.335366;0.227941x0.0939024)\n",
       "generation_gwh_2017          Axes(0.125,0.222683;0.227941x0.0939024)\n",
       "generation_data_source    Axes(0.398529,0.222683;0.227941x0.0939024)\n",
       "generation_gwh_2018       Axes(0.672059,0.222683;0.227941x0.0939024)\n",
       "generation_gwh_2019              Axes(0.125,0.11;0.227941x0.0939024)\n",
       "dtype: object"
      ]
     },
     "execution_count": 34,
     "metadata": {},
     "output_type": "execute_result"
    },
    {
     "data": {
      "text/plain": [
       "<Figure size 1500x2000 with 0 Axes>"
      ]
     },
     "metadata": {},
     "output_type": "display_data"
    },
    {
     "data": {
      "image/png": "[encoded data removed]",
      "text/plain": [
       "<Figure size 640x480 with 21 Axes>"
      ]
     },
     "metadata": {},
     "output_type": "display_data"
    }
   ],
   "source": [
    "#checking for outliers\n",
    "fig=plt.figure(figsize=(15,20))\n",
    "df_combine.plot(kind='box',subplots=True,layout=(7,3))"
   ]
  },
  {
   "cell_type": "markdown",
   "id": "95111e8f",
   "metadata": {},
   "source": [
    "We can see that there are outliers in the columns."
   ]
  },
  {
   "cell_type": "code",
   "execution_count": 35,
   "id": "d6790417",
   "metadata": {},
   "outputs": [
    {
     "data": {
      "text/plain": [
       "name                      0.000218\n",
       "capacity_mw               5.490267\n",
       "latitude                 -1.809032\n",
       "longitude                 2.291205\n",
       "primary_fuel              0.000000\n",
       "other_fuel1               0.000000\n",
       "other_fuel2               0.000000\n",
       "other_fuel3               0.000000\n",
       "commissioning_year       -1.341089\n",
       "source                   -2.698385\n",
       "geolocation_source        0.000000\n",
       "generation_gwh_2013       8.066019\n",
       "generation_gwh_2014       8.101312\n",
       "generation_gwh_2015       8.235279\n",
       "generation_gwh_2016       8.297429\n",
       "generation_gwh_2017       8.382525\n",
       "generation_data_source    0.000000\n",
       "generation_gwh_2018       9.085839\n",
       "generation_gwh_2019       8.887062\n",
       "dtype: float64"
      ]
     },
     "execution_count": 35,
     "metadata": {},
     "output_type": "execute_result"
    }
   ],
   "source": [
    "#checking skewness\n",
    "df_combine.skew()"
   ]
  },
  {
   "cell_type": "code",
   "execution_count": 36,
   "id": "e0beb116",
   "metadata": {},
   "outputs": [],
   "source": [
    "x=df_combine.iloc[:,:-1]\n",
    "y=df_combine.iloc[:,-1]"
   ]
  },
  {
   "cell_type": "code",
   "execution_count": 37,
   "id": "40eb4883",
   "metadata": {},
   "outputs": [
    {
     "name": "stdout",
     "output_type": "stream",
     "text": [
      "feature dimension (13299, 18)\n",
      "label dimension (13299,)\n"
     ]
    }
   ],
   "source": [
    "#seperating independent and target variables\n",
    "x=df_combine.drop('primary_fuel',axis=1)\n",
    "y=df_combine['primary_fuel']\n",
    "print('feature dimension',x.shape)\n",
    "print('label dimension',y.shape)"
   ]
  },
  {
   "cell_type": "markdown",
   "id": "78c3c932",
   "metadata": {},
   "source": [
    "# MODEL BUILDING"
   ]
  },
  {
   "cell_type": "code",
   "execution_count": 38,
   "id": "9d3dd771",
   "metadata": {},
   "outputs": [
    {
     "data": {
      "text/plain": [
       "array([[-1.71167802, -0.33215128, -0.42628277, ...,  0.        ,\n",
       "        -0.2004305 , -0.21184746],\n",
       "       [-1.71089479, -0.05595573, -0.64494678, ...,  0.        ,\n",
       "        -0.2004305 , -0.21184746],\n",
       "       [-1.70619543, -0.22601121, -0.82809453, ...,  0.        ,\n",
       "        -0.2004305 , -0.21184746],\n",
       "       ...,\n",
       "       [ 1.73112922, -0.33938153,  0.5886021 , ...,  0.        ,\n",
       "        -0.2004305 , -0.21184746],\n",
       "       [ 1.7313903 , -0.33938153,  0.31292395, ...,  0.        ,\n",
       "        -0.2004305 , -0.21184746],\n",
       "       [ 1.73165137, -0.31103895,  0.36560012, ...,  0.        ,\n",
       "        -0.14858661, -0.16259171]])"
      ]
     },
     "execution_count": 38,
     "metadata": {},
     "output_type": "execute_result"
    }
   ],
   "source": [
    "#scaling of data\n",
    "st=StandardScaler()\n",
    "x=st.fit_transform(x)\n",
    "x"
   ]
  },
  {
   "cell_type": "code",
   "execution_count": 39,
   "id": "1ede5165",
   "metadata": {},
   "outputs": [],
   "source": [
    "#importing importand liberies\n",
    "from sklearn.metrics import r2_score\n",
    "from sklearn import datasets\n",
    "from sklearn.model_selection import GridSearchCV\n",
    "from sklearn.metrics import mean_squared_error, mean_absolute_error\n",
    "from sklearn import metrics\n",
    "from sklearn.linear_model import Ridge, Lasso"
   ]
  },
  {
   "cell_type": "code",
   "execution_count": 40,
   "id": "13fb5d9f",
   "metadata": {},
   "outputs": [
    {
     "name": "stdout",
     "output_type": "stream",
     "text": [
      "Best accuracy 1.0 at random state 1\n"
     ]
    }
   ],
   "source": [
    "#checking accuracy score\n",
    "maxAccu=0\n",
    "maxRs=0\n",
    "for i in range(1,200):\n",
    "    x_train,x_test,y_train,y_test=train_test_split(x,y,test_size=0.30,random_state=i)\n",
    "    lr=LinearRegression()\n",
    "    lr.fit(x_train,y_train)\n",
    "    pre=lr.predict(x_test)\n",
    "    acc=r2_score(y_test,pre)\n",
    "    if acc>maxAccu:\n",
    "        maxAccu=acc\n",
    "        maxRs=i\n",
    "print('Best accuracy',maxAccu,'at random state',maxRs)        \n",
    "    "
   ]
  },
  {
   "cell_type": "code",
   "execution_count": 41,
   "id": "9756686e",
   "metadata": {},
   "outputs": [],
   "source": [
    "x_train,x_test,y_train,y_test=train_test_split(x,y,test_size=0.30,random_state=maxRs)"
   ]
  },
  {
   "cell_type": "code",
   "execution_count": 42,
   "id": "28da15e4",
   "metadata": {},
   "outputs": [
    {
     "name": "stdout",
     "output_type": "stream",
     "text": [
      "1.0\n",
      "100.0\n",
      "Mean absolute error: 0.0\n",
      "Mean square error: 0.0\n",
      "Root mean square error: 0.0\n"
     ]
    }
   ],
   "source": [
    "#support vector regression\n",
    "svr=SVR()\n",
    "svr.fit(x_train,y_train)\n",
    "pre=svr.predict(x_test)\n",
    "pred=svr.predict(x_train)\n",
    "print(r2_score(y_train,pred))\n",
    "print(r2_score(y_test,pre)*100)\n",
    "print('Mean absolute error:',mean_absolute_error(y_test,pre))\n",
    "print('Mean square error:',mean_squared_error(y_test,pre))\n",
    "print('Root mean square error:',np.sqrt(mean_squared_error(y_test,pre)))"
   ]
  },
  {
   "cell_type": "code",
   "execution_count": 43,
   "id": "b70003da",
   "metadata": {},
   "outputs": [
    {
     "name": "stdout",
     "output_type": "stream",
     "text": [
      "1.0\n",
      "100.0\n",
      "Mean absolute error: 0.0\n",
      "Mean square error: 0.0\n",
      "Root mean square error: 0.0\n"
     ]
    }
   ],
   "source": [
    "#Randomforest\n",
    "ra=RandomForestRegressor()\n",
    "ra.fit(x_train,y_train)\n",
    "pre=ra.predict(x_test)\n",
    "pred=ra.predict(x_train)\n",
    "print(r2_score(y_train,pred))\n",
    "print(r2_score(y_test,pre)*100)\n",
    "print('Mean absolute error:',mean_absolute_error(y_test,pre))\n",
    "print('Mean square error:',mean_squared_error(y_test,pre))\n",
    "print('Root mean square error:',np.sqrt(mean_squared_error(y_test,pre)))"
   ]
  },
  {
   "cell_type": "code",
   "execution_count": 44,
   "id": "2c8062ae",
   "metadata": {},
   "outputs": [
    {
     "name": "stdout",
     "output_type": "stream",
     "text": [
      "1.0\n",
      "100.0\n",
      "Mean absolute error: 0.0\n",
      "Mean square error: 0.0\n",
      "Root mean square error: 0.0\n"
     ]
    }
   ],
   "source": [
    "#KNN\n",
    "knn=KNN()\n",
    "knn.fit(x_train,y_train)\n",
    "pre=knn.predict(x_test)\n",
    "pred=knn.predict(x_train)\n",
    "print(r2_score(y_train,pred))\n",
    "print(r2_score(y_test,pre)*100)\n",
    "print('Mean absolute error:',mean_absolute_error(y_test,pre))\n",
    "print('Mean square error:',mean_squared_error(y_test,pre))\n",
    "print('Root mean square error:',np.sqrt(mean_squared_error(y_test,pre)))"
   ]
  },
  {
   "cell_type": "code",
   "execution_count": 45,
   "id": "11d94a69",
   "metadata": {},
   "outputs": [
    {
     "name": "stdout",
     "output_type": "stream",
     "text": [
      "1.0\n",
      "100.0\n",
      "Mean absolute error: 0.0\n",
      "Mean square error: 0.0\n",
      "Root mean square error: 0.0\n"
     ]
    }
   ],
   "source": [
    "#Extratrees regressor\n",
    "ex=ExtraTreesRegressor()\n",
    "ex.fit(x_train,y_train)\n",
    "pre=ex.predict(x_test)\n",
    "pred=ex.predict(x_train)\n",
    "print(r2_score(y_train,pred))\n",
    "print(r2_score(y_test,pre)*100)\n",
    "print('Mean absolute error:',mean_absolute_error(y_test,pre))\n",
    "print('Mean square error:',mean_squared_error(y_test,pre))\n",
    "print('Root mean square error:',np.sqrt(mean_squared_error(y_test,pre)))"
   ]
  },
  {
   "cell_type": "code",
   "execution_count": 46,
   "id": "9b8d2ca5",
   "metadata": {},
   "outputs": [
    {
     "name": "stdout",
     "output_type": "stream",
     "text": [
      "1.0\n",
      "100.0\n",
      "Mean absolute error: 0.0\n",
      "Mean square error: 0.0\n",
      "Root mean square error: 0.0\n"
     ]
    }
   ],
   "source": [
    "#Linear regression\n",
    "lr=LinearRegression()\n",
    "lr.fit(x_train,y_train)\n",
    "pre=lr.predict(x_test)\n",
    "pred=lr.predict(x_train)\n",
    "print(r2_score(y_train,pred))\n",
    "print(r2_score(y_test,pre)*100)\n",
    "print('Mean absolute error:',mean_absolute_error(y_test,pre))\n",
    "print('Mean square error:',mean_squared_error(y_test,pre))\n",
    "print('Root mean square error:',np.sqrt(mean_squared_error(y_test,pre)))"
   ]
  },
  {
   "cell_type": "markdown",
   "id": "09275999",
   "metadata": {},
   "source": [
    "# CROSS VALIDATION"
   ]
  },
  {
   "cell_type": "code",
   "execution_count": 47,
   "id": "1db475e7",
   "metadata": {},
   "outputs": [
    {
     "name": "stdout",
     "output_type": "stream",
     "text": [
      "[1. 1. 1. 1. 1.]\n",
      "1.0\n",
      "difference between R2score and cross validation 0.0\n"
     ]
    }
   ],
   "source": [
    "# Cv score for support vector\n",
    "score= cross_val_score(svr,x,y,cv=5,scoring='r2')\n",
    "print(score)\n",
    "print(score.mean())\n",
    "print('difference between R2score and cross validation',(r2_score(y_test,pre)-score.mean())*100)"
   ]
  },
  {
   "cell_type": "code",
   "execution_count": 48,
   "id": "4e9491f0",
   "metadata": {},
   "outputs": [
    {
     "name": "stdout",
     "output_type": "stream",
     "text": [
      "[1. 1. 1. 1. 1.]\n",
      "1.0\n",
      "difference between R2score and cross validation 0.0\n"
     ]
    }
   ],
   "source": [
    "# Cv score for Random forest\n",
    "score= cross_val_score(ra,x,y,cv=5,scoring='r2')\n",
    "print(score)\n",
    "print(score.mean())\n",
    "print('difference between R2score and cross validation',(r2_score(y_test,pre)-score.mean())*100)"
   ]
  },
  {
   "cell_type": "code",
   "execution_count": 49,
   "id": "bada8e16",
   "metadata": {},
   "outputs": [
    {
     "name": "stdout",
     "output_type": "stream",
     "text": [
      "[1. 1. 1. 1. 1.]\n",
      "1.0\n",
      "difference between R2score and cross validation 0.0\n"
     ]
    }
   ],
   "source": [
    "# Cv score for KNN\n",
    "score= cross_val_score(knn,x,y,cv=5,scoring='r2')\n",
    "print(score)\n",
    "print(score.mean())\n",
    "print('difference between R2score and cross validation',(r2_score(y_test,pre)-score.mean())*100)"
   ]
  },
  {
   "cell_type": "code",
   "execution_count": 50,
   "id": "30408c48",
   "metadata": {},
   "outputs": [
    {
     "name": "stdout",
     "output_type": "stream",
     "text": [
      "[1. 1. 1. 1. 1.]\n",
      "1.0\n",
      "difference between R2score and cross validation 0.0\n"
     ]
    }
   ],
   "source": [
    "# Cv score for Extatrees regressor\n",
    "score= cross_val_score(ex,x,y,cv=5,scoring='r2')\n",
    "print(score)\n",
    "print(score.mean())\n",
    "print('difference between R2score and cross validation',(r2_score(y_test,pre)-score.mean())*100)"
   ]
  },
  {
   "cell_type": "code",
   "execution_count": 51,
   "id": "181adab5",
   "metadata": {},
   "outputs": [
    {
     "name": "stdout",
     "output_type": "stream",
     "text": [
      "[1. 1. 1. 1. 1.]\n",
      "1.0\n",
      "difference between R2score and cross validation 0.0\n"
     ]
    }
   ],
   "source": [
    "# Cv score for Linear regression\n",
    "score= cross_val_score(lr,x,y,cv=5,scoring='r2')\n",
    "print(score)\n",
    "print(score.mean())\n",
    "print('difference between R2score and cross validation',(r2_score(y_test,pre)-score.mean())*100)"
   ]
  },
  {
   "cell_type": "markdown",
   "id": "b3d5db2a",
   "metadata": {},
   "source": [
    "As we can see that all the model as 0 difference between R2 score and cross validation score so lets take any one and set the parameters.\n",
    "We are taking Extratree regressor"
   ]
  },
  {
   "cell_type": "markdown",
   "id": "9b44f45f",
   "metadata": {},
   "source": [
    "# SETTING PARAMETERS"
   ]
  },
  {
   "cell_type": "code",
   "execution_count": 52,
   "id": "b51a7a5f",
   "metadata": {},
   "outputs": [],
   "source": [
    "from sklearn import datasets\n",
    "from sklearn.model_selection import GridSearchCV\n",
    "from sklearn import metrics"
   ]
  },
  {
   "cell_type": "code",
   "execution_count": 53,
   "id": "a80bc468",
   "metadata": {},
   "outputs": [
    {
     "name": "stdout",
     "output_type": "stream",
     "text": [
      "{'ccp_alpha': 0.0, 'criterion': 'squared_error', 'n_estimators': 50, 'n_jobs': None}\n"
     ]
    }
   ],
   "source": [
    "para={'n_estimators':[50,80,100],\n",
    "      'criterion':['squared_error','poisson','absolute_error'],\n",
    "     'n_jobs':['int',None],\n",
    "     'ccp_alpha':[0.0]}\n",
    "ex_cv=GridSearchCV(ex,para,cv=5)\n",
    "ex_cv.fit(x_train,y_train)\n",
    "print(ex_cv.best_params_)"
   ]
  },
  {
   "cell_type": "code",
   "execution_count": 54,
   "id": "8f467c53",
   "metadata": {},
   "outputs": [
    {
     "name": "stdout",
     "output_type": "stream",
     "text": [
      "1.0\n"
     ]
    }
   ],
   "source": [
    "#checking the new parameters\n",
    "ex_new=ExtraTreesRegressor(criterion='squared_error',ccp_alpha=0.0,n_jobs=None,n_estimators=50)\n",
    "ex_new.fit(x_train,y_train)\n",
    "y_pred_new=ex_new.predict(x_test)\n",
    "print(metrics.r2_score(y_test,y_pred_new))"
   ]
  },
  {
   "cell_type": "code",
   "execution_count": 55,
   "id": "6b14bda6",
   "metadata": {},
   "outputs": [
    {
     "name": "stdout",
     "output_type": "stream",
     "text": [
      "R2 score: 1.0\n",
      "mean absolute error: 0.0\n",
      "mean square error; 0.0\n",
      "root mean squre error: 0.0\n"
     ]
    }
   ],
   "source": [
    "#checking the new parameters score\n",
    "ex_new.fit(x_train,y_train)\n",
    "pre=ex_new.predict(x_test)\n",
    "print('R2 score:',r2_score(y_test,pre))\n",
    "print('mean absolute error:',mean_absolute_error(y_test,pre))\n",
    "print('mean square error;',mean_squared_error(y_test,pre))\n",
    "print('root mean squre error:',np.sqrt(mean_squared_error(y_test,pre)))"
   ]
  },
  {
   "cell_type": "code",
   "execution_count": 56,
   "id": "930db2c3",
   "metadata": {},
   "outputs": [],
   "source": [
    "#importing pickle and storing the file\n",
    "import joblib\n",
    "import pickle\n",
    "filename=\"Global power plant.pkl\"\n",
    "pickle.dump(ex_new,open(filename,'wb'))"
   ]
  },
  {
   "cell_type": "code",
   "execution_count": 57,
   "id": "060b8f41",
   "metadata": {},
   "outputs": [],
   "source": [
    "load_m=pickle.load(open('Global power plant.pkl','rb'))"
   ]
  },
  {
   "cell_type": "code",
   "execution_count": 58,
   "id": "ce5b2589",
   "metadata": {},
   "outputs": [
    {
     "name": "stdout",
     "output_type": "stream",
     "text": [
      "100.0\n"
     ]
    }
   ],
   "source": [
    "#checking the result\n",
    "result=load_m.score(x_test,y_test)\n",
    "print(result*100)"
   ]
  },
  {
   "cell_type": "code",
   "execution_count": 59,
   "id": "8abbcf42",
   "metadata": {},
   "outputs": [
    {
     "data": {
      "text/html": [
       "<div>\n",
       "<style scoped>\n",
       "    .dataframe tbody tr th:only-of-type {\n",
       "        vertical-align: middle;\n",
       "    }\n",
       "\n",
       "    .dataframe tbody tr th {\n",
       "        vertical-align: top;\n",
       "    }\n",
       "\n",
       "    .dataframe thead th {\n",
       "        text-align: right;\n",
       "    }\n",
       "</style>\n",
       "<table border=\"1\" class=\"dataframe\">\n",
       "  <thead>\n",
       "    <tr style=\"text-align: right;\">\n",
       "      <th></th>\n",
       "      <th>0</th>\n",
       "      <th>1</th>\n",
       "      <th>2</th>\n",
       "      <th>3</th>\n",
       "      <th>4</th>\n",
       "      <th>5</th>\n",
       "      <th>6</th>\n",
       "      <th>7</th>\n",
       "      <th>8</th>\n",
       "      <th>9</th>\n",
       "      <th>...</th>\n",
       "      <th>3980</th>\n",
       "      <th>3981</th>\n",
       "      <th>3982</th>\n",
       "      <th>3983</th>\n",
       "      <th>3984</th>\n",
       "      <th>3985</th>\n",
       "      <th>3986</th>\n",
       "      <th>3987</th>\n",
       "      <th>3988</th>\n",
       "      <th>3989</th>\n",
       "    </tr>\n",
       "  </thead>\n",
       "  <tbody>\n",
       "    <tr>\n",
       "      <th>predicted</th>\n",
       "      <td>0.0</td>\n",
       "      <td>0.0</td>\n",
       "      <td>0.0</td>\n",
       "      <td>0.0</td>\n",
       "      <td>0.0</td>\n",
       "      <td>0.0</td>\n",
       "      <td>0.0</td>\n",
       "      <td>0.0</td>\n",
       "      <td>0.0</td>\n",
       "      <td>0.0</td>\n",
       "      <td>...</td>\n",
       "      <td>0.0</td>\n",
       "      <td>0.0</td>\n",
       "      <td>0.0</td>\n",
       "      <td>0.0</td>\n",
       "      <td>0.0</td>\n",
       "      <td>0.0</td>\n",
       "      <td>0.0</td>\n",
       "      <td>0.0</td>\n",
       "      <td>0.0</td>\n",
       "      <td>0.0</td>\n",
       "    </tr>\n",
       "    <tr>\n",
       "      <th>orginal</th>\n",
       "      <td>0.0</td>\n",
       "      <td>0.0</td>\n",
       "      <td>0.0</td>\n",
       "      <td>0.0</td>\n",
       "      <td>0.0</td>\n",
       "      <td>0.0</td>\n",
       "      <td>0.0</td>\n",
       "      <td>0.0</td>\n",
       "      <td>0.0</td>\n",
       "      <td>0.0</td>\n",
       "      <td>...</td>\n",
       "      <td>0.0</td>\n",
       "      <td>0.0</td>\n",
       "      <td>0.0</td>\n",
       "      <td>0.0</td>\n",
       "      <td>0.0</td>\n",
       "      <td>0.0</td>\n",
       "      <td>0.0</td>\n",
       "      <td>0.0</td>\n",
       "      <td>0.0</td>\n",
       "      <td>0.0</td>\n",
       "    </tr>\n",
       "  </tbody>\n",
       "</table>\n",
       "<p>2 rows × 3990 columns</p>\n",
       "</div>"
      ],
      "text/plain": [
       "           0     1     2     3     4     5     6     7     8     9     ...  \\\n",
       "predicted   0.0   0.0   0.0   0.0   0.0   0.0   0.0   0.0   0.0   0.0  ...   \n",
       "orginal     0.0   0.0   0.0   0.0   0.0   0.0   0.0   0.0   0.0   0.0  ...   \n",
       "\n",
       "           3980  3981  3982  3983  3984  3985  3986  3987  3988  3989  \n",
       "predicted   0.0   0.0   0.0   0.0   0.0   0.0   0.0   0.0   0.0   0.0  \n",
       "orginal     0.0   0.0   0.0   0.0   0.0   0.0   0.0   0.0   0.0   0.0  \n",
       "\n",
       "[2 rows x 3990 columns]"
      ]
     },
     "execution_count": 59,
     "metadata": {},
     "output_type": "execute_result"
    }
   ],
   "source": [
    "con=pd.DataFrame([load_m.predict(x_test)[:],y_test[:]],index=['predicted','orginal'])\n",
    "con"
   ]
  },
  {
   "cell_type": "markdown",
   "id": "0975acb9",
   "metadata": {},
   "source": [
    "# BUILDING MODEL WITH capicity_mw"
   ]
  },
  {
   "cell_type": "code",
   "execution_count": 60,
   "id": "81b6fc6a",
   "metadata": {},
   "outputs": [
    {
     "name": "stdout",
     "output_type": "stream",
     "text": [
      "feature dimension (13299, 18)\n",
      "label dimension (13299,)\n"
     ]
    }
   ],
   "source": [
    "#seperating independent and target variables\n",
    "x=df_combine.drop('capacity_mw',axis=1)\n",
    "y=df_combine['capacity_mw']\n",
    "print('feature dimension',x.shape)\n",
    "print('label dimension',y.shape)"
   ]
  },
  {
   "cell_type": "code",
   "execution_count": 61,
   "id": "04138454",
   "metadata": {},
   "outputs": [
    {
     "data": {
      "text/plain": [
       "array([[-1.71167802, -0.42628277,  2.32896093, ...,  0.        ,\n",
       "        -0.2004305 , -0.21184746],\n",
       "       [-1.71089479, -0.64494678,  2.35069964, ...,  0.        ,\n",
       "        -0.2004305 , -0.21184746],\n",
       "       [-1.70619543, -0.82809453,  2.26751647, ...,  0.        ,\n",
       "        -0.2004305 , -0.21184746],\n",
       "       ...,\n",
       "       [ 1.73112922,  0.5886021 , -0.30835605, ...,  0.        ,\n",
       "        -0.2004305 , -0.21184746],\n",
       "       [ 1.7313903 ,  0.31292395, -0.50308773, ...,  0.        ,\n",
       "        -0.2004305 , -0.21184746],\n",
       "       [ 1.73165137,  0.36560012, -0.61478875, ...,  0.        ,\n",
       "        -0.14858661, -0.16259171]])"
      ]
     },
     "execution_count": 61,
     "metadata": {},
     "output_type": "execute_result"
    }
   ],
   "source": [
    "#scaling of data\n",
    "st=StandardScaler()\n",
    "x=st.fit_transform(x)\n",
    "x"
   ]
  },
  {
   "cell_type": "code",
   "execution_count": 62,
   "id": "6e8f8034",
   "metadata": {},
   "outputs": [
    {
     "name": "stdout",
     "output_type": "stream",
     "text": [
      "Best accuracy 0.7680144489068561 at random state 3\n"
     ]
    }
   ],
   "source": [
    "maxAccu=0\n",
    "maxRs=0\n",
    "for i in range(1,200):\n",
    "    x_train,x_test,y_train,y_test=train_test_split(x,y,test_size=0.30,random_state=i)\n",
    "    lr=LinearRegression()\n",
    "    lr.fit(x_train,y_train)\n",
    "    pre=lr.predict(x_test)\n",
    "    acc=r2_score(y_test,pre)\n",
    "    if acc>maxAccu:\n",
    "        maxAccu=acc\n",
    "        maxRs=i\n",
    "print('Best accuracy',maxAccu,'at random state',maxRs)        \n",
    "    "
   ]
  },
  {
   "cell_type": "code",
   "execution_count": 63,
   "id": "1de93fc9",
   "metadata": {},
   "outputs": [],
   "source": [
    "x_train,x_test,y_train,y_test=train_test_split(x,y,test_size=0.30,random_state=maxRs)"
   ]
  },
  {
   "cell_type": "code",
   "execution_count": 64,
   "id": "d3f9283e",
   "metadata": {},
   "outputs": [
    {
     "name": "stdout",
     "output_type": "stream",
     "text": [
      "0.13644982377839565\n",
      "14.888647563877456\n",
      "Mean absolute error: 88.28269374365914\n",
      "Mean square error: 92641.52499627773\n",
      "Root mean square error: 304.3707032489785\n"
     ]
    }
   ],
   "source": [
    "#support vector regression\n",
    "svr=SVR()\n",
    "svr.fit(x_train,y_train)\n",
    "pre=svr.predict(x_test)\n",
    "pred=svr.predict(x_train)\n",
    "print(r2_score(y_train,pred))\n",
    "print(r2_score(y_test,pre)*100)\n",
    "print('Mean absolute error:',mean_absolute_error(y_test,pre))\n",
    "print('Mean square error:',mean_squared_error(y_test,pre))\n",
    "print('Root mean square error:',np.sqrt(mean_squared_error(y_test,pre)))"
   ]
  },
  {
   "cell_type": "code",
   "execution_count": 65,
   "id": "e9bbd3b2",
   "metadata": {},
   "outputs": [
    {
     "name": "stdout",
     "output_type": "stream",
     "text": [
      "0.9754812703408314\n",
      "87.16925930099627\n",
      "Mean absolute error: 41.87915449122807\n",
      "Mean square error: 13965.932289463035\n",
      "Root mean square error: 118.17754562294411\n"
     ]
    }
   ],
   "source": [
    "#Randomforest\n",
    "ra=RandomForestRegressor()\n",
    "ra.fit(x_train,y_train)\n",
    "pre=ra.predict(x_test)\n",
    "pred=ra.predict(x_train)\n",
    "print(r2_score(y_train,pred))\n",
    "print(r2_score(y_test,pre)*100)\n",
    "print('Mean absolute error:',mean_absolute_error(y_test,pre))\n",
    "print('Mean square error:',mean_squared_error(y_test,pre))\n",
    "print('Root mean square error:',np.sqrt(mean_squared_error(y_test,pre)))"
   ]
  },
  {
   "cell_type": "code",
   "execution_count": 66,
   "id": "29587c49",
   "metadata": {},
   "outputs": [
    {
     "name": "stdout",
     "output_type": "stream",
     "text": [
      "0.8599844837445306\n",
      "82.12556877434196\n",
      "Mean absolute error: 50.80355614035088\n",
      "Mean square error: 19455.860114886986\n",
      "Root mean square error: 139.4842647573087\n"
     ]
    }
   ],
   "source": [
    "#KNN\n",
    "knn=KNN()\n",
    "knn.fit(x_train,y_train)\n",
    "pre=knn.predict(x_test)\n",
    "pred=knn.predict(x_train)\n",
    "print(r2_score(y_train,pred))\n",
    "print(r2_score(y_test,pre)*100)\n",
    "print('Mean absolute error:',mean_absolute_error(y_test,pre))\n",
    "print('Mean square error:',mean_squared_error(y_test,pre))\n",
    "print('Root mean square error:',np.sqrt(mean_squared_error(y_test,pre)))"
   ]
  },
  {
   "cell_type": "code",
   "execution_count": 67,
   "id": "f8f8db50",
   "metadata": {},
   "outputs": [
    {
     "name": "stdout",
     "output_type": "stream",
     "text": [
      "1.0\n",
      "88.25754617070137\n",
      "Mean absolute error: 39.65393054887218\n",
      "Mean square error: 12781.35993387071\n",
      "Root mean square error: 113.05467674479773\n"
     ]
    }
   ],
   "source": [
    "#Extratrees regressor\n",
    "ex=ExtraTreesRegressor()\n",
    "ex.fit(x_train,y_train)\n",
    "pre=ex.predict(x_test)\n",
    "pred=ex.predict(x_train)\n",
    "print(r2_score(y_train,pred))\n",
    "print(r2_score(y_test,pre)*100)\n",
    "print('Mean absolute error:',mean_absolute_error(y_test,pre))\n",
    "print('Mean square error:',mean_squared_error(y_test,pre))\n",
    "print('Root mean square error:',np.sqrt(mean_squared_error(y_test,pre)))"
   ]
  },
  {
   "cell_type": "code",
   "execution_count": 68,
   "id": "b0655455",
   "metadata": {},
   "outputs": [
    {
     "name": "stdout",
     "output_type": "stream",
     "text": [
      "0.7173896952554779\n",
      "76.80144489068562\n",
      "Mean absolute error: 77.20325588029952\n",
      "Mean square error: 25251.032459507063\n",
      "Root mean square error: 158.90573450793732\n"
     ]
    }
   ],
   "source": [
    "#Linear regression\n",
    "lr=LinearRegression()\n",
    "lr.fit(x_train,y_train)\n",
    "pre=lr.predict(x_test)\n",
    "pred=lr.predict(x_train)\n",
    "print(r2_score(y_train,pred))\n",
    "print(r2_score(y_test,pre)*100)\n",
    "print('Mean absolute error:',mean_absolute_error(y_test,pre))\n",
    "print('Mean square error:',mean_squared_error(y_test,pre))\n",
    "print('Root mean square error:',np.sqrt(mean_squared_error(y_test,pre)))"
   ]
  },
  {
   "cell_type": "markdown",
   "id": "7226233f",
   "metadata": {},
   "source": [
    "# CROSS VALIDATION"
   ]
  },
  {
   "cell_type": "code",
   "execution_count": 69,
   "id": "403f68da",
   "metadata": {},
   "outputs": [
    {
     "name": "stdout",
     "output_type": "stream",
     "text": [
      "[0.07818365 0.18969967 0.15835762 0.18022189 0.19415131]\n",
      "0.16012282576001594\n",
      "difference between R2score and cross validation 60.78916231468402\n"
     ]
    }
   ],
   "source": [
    "# Cv score for support vector\n",
    "score= cross_val_score(svr,x,y,cv=5,scoring='r2')\n",
    "print(score)\n",
    "print(score.mean())\n",
    "print('difference between R2score and cross validation',(r2_score(y_test,pre)-score.mean())*100)"
   ]
  },
  {
   "cell_type": "code",
   "execution_count": 70,
   "id": "b2139e19",
   "metadata": {},
   "outputs": [
    {
     "name": "stdout",
     "output_type": "stream",
     "text": [
      "[0.59767159 0.79685943 0.79367336 0.77687038 0.82612608]\n",
      "0.7582401663673427\n",
      "difference between R2score and cross validation 0.9774282539513401\n"
     ]
    }
   ],
   "source": [
    "# Cv score for KNN\n",
    "score= cross_val_score(knn,x,y,cv=5,scoring='r2')\n",
    "print(score)\n",
    "print(score.mean())\n",
    "print('difference between R2score and cross validation',(r2_score(y_test,pre)-score.mean())*100)"
   ]
  },
  {
   "cell_type": "code",
   "execution_count": 71,
   "id": "029ad28a",
   "metadata": {},
   "outputs": [
    {
     "name": "stdout",
     "output_type": "stream",
     "text": [
      "[0.73892153 0.84096    0.85014598 0.8541825  0.88726844]\n",
      "0.8342956900424964\n",
      "difference between R2score and cross validation -6.628124113564027\n"
     ]
    }
   ],
   "source": [
    "# Cv score for Extatrees regressor\n",
    "score= cross_val_score(ex,x,y,cv=5,scoring='r2')\n",
    "print(score)\n",
    "print(score.mean())\n",
    "print('difference between R2score and cross validation',(r2_score(y_test,pre)-score.mean())*100)"
   ]
  },
  {
   "cell_type": "code",
   "execution_count": 72,
   "id": "e0a3593b",
   "metadata": {},
   "outputs": [
    {
     "name": "stdout",
     "output_type": "stream",
     "text": [
      "[0.11888522 0.68879789 0.74295959 0.6579143  0.7471496 ]\n",
      "0.59114131862139\n",
      "difference between R2score and cross validation 17.687313028546615\n"
     ]
    }
   ],
   "source": [
    "# Cv score for Linear regression\n",
    "score= cross_val_score(lr,x,y,cv=5,scoring='r2')\n",
    "print(score)\n",
    "print(score.mean())\n",
    "print('difference between R2score and cross validation',(r2_score(y_test,pre)-score.mean())*100)"
   ]
  },
  {
   "cell_type": "markdown",
   "id": "f249641c",
   "metadata": {},
   "source": [
    "ExtraTrees regressor is our best model as the difference between R2 score and cross validation score is least"
   ]
  },
  {
   "cell_type": "markdown",
   "id": "6a624a33",
   "metadata": {},
   "source": [
    "# SETTING PARAMETERS"
   ]
  },
  {
   "cell_type": "code",
   "execution_count": 73,
   "id": "22e589f3",
   "metadata": {},
   "outputs": [
    {
     "name": "stdout",
     "output_type": "stream",
     "text": [
      "{'ccp_alpha': 0.0, 'criterion': 'squared_error', 'n_estimators': 100, 'n_jobs': None}\n"
     ]
    }
   ],
   "source": [
    "para={'n_estimators':[50,100],\n",
    "      'criterion':['squared_error','poisson'],\n",
    "     'n_jobs':['int',None],\n",
    "     'ccp_alpha':[0.0]}\n",
    "ex_cv=GridSearchCV(ex,para,cv=5)\n",
    "ex_cv.fit(x_train,y_train)\n",
    "print(ex_cv.best_params_)"
   ]
  },
  {
   "cell_type": "code",
   "execution_count": 74,
   "id": "cceaebf0",
   "metadata": {},
   "outputs": [
    {
     "name": "stdout",
     "output_type": "stream",
     "text": [
      "0.8831537715011337\n"
     ]
    }
   ],
   "source": [
    "ex_new=ExtraTreesRegressor(criterion='squared_error',ccp_alpha=0.0,n_jobs=None,n_estimators=100)\n",
    "ex_new.fit(x_train,y_train)\n",
    "y_pred_new=ex_new.predict(x_test)\n",
    "print(metrics.r2_score(y_test,y_pred_new))"
   ]
  },
  {
   "cell_type": "code",
   "execution_count": 75,
   "id": "ca5c4c65",
   "metadata": {},
   "outputs": [
    {
     "name": "stdout",
     "output_type": "stream",
     "text": [
      "R2 score: 0.880854266360619\n",
      "mean absolute error: 40.01435109774436\n",
      "mean square error; 12968.707634432953\n",
      "root mean squre error: 113.88023373014718\n"
     ]
    }
   ],
   "source": [
    "#checking the parameters score\n",
    "ex_new.fit(x_train,y_train)\n",
    "pre=ex_new.predict(x_test)\n",
    "print('R2 score:',r2_score(y_test,pre))\n",
    "print('mean absolute error:',mean_absolute_error(y_test,pre))\n",
    "print('mean square error;',mean_squared_error(y_test,pre))\n",
    "print('root mean squre error:',np.sqrt(mean_squared_error(y_test,pre)))"
   ]
  },
  {
   "cell_type": "code",
   "execution_count": 80,
   "id": "2f059372",
   "metadata": {},
   "outputs": [],
   "source": [
    "#importing pickle and storing the file\n",
    "import joblib\n",
    "import pickle\n",
    "filename=\"Global power plant capacity.pkl\"\n",
    "pickle.dump(ex_new,open(filename,'wb'))"
   ]
  },
  {
   "cell_type": "code",
   "execution_count": 81,
   "id": "9a453f8b",
   "metadata": {},
   "outputs": [],
   "source": [
    "load_m=pickle.load(open('Global power plant capacity.pkl','rb'))"
   ]
  },
  {
   "cell_type": "code",
   "execution_count": 82,
   "id": "772842a6",
   "metadata": {},
   "outputs": [
    {
     "name": "stdout",
     "output_type": "stream",
     "text": [
      "88.0854266360619\n"
     ]
    }
   ],
   "source": [
    "#checking the result\n",
    "result=load_m.score(x_test,y_test)\n",
    "print(result*100)"
   ]
  },
  {
   "cell_type": "code",
   "execution_count": 83,
   "id": "8f9464cd",
   "metadata": {},
   "outputs": [
    {
     "data": {
      "text/html": [
       "<div>\n",
       "<style scoped>\n",
       "    .dataframe tbody tr th:only-of-type {\n",
       "        vertical-align: middle;\n",
       "    }\n",
       "\n",
       "    .dataframe tbody tr th {\n",
       "        vertical-align: top;\n",
       "    }\n",
       "\n",
       "    .dataframe thead th {\n",
       "        text-align: right;\n",
       "    }\n",
       "</style>\n",
       "<table border=\"1\" class=\"dataframe\">\n",
       "  <thead>\n",
       "    <tr style=\"text-align: right;\">\n",
       "      <th></th>\n",
       "      <th>0</th>\n",
       "      <th>1</th>\n",
       "      <th>2</th>\n",
       "      <th>3</th>\n",
       "      <th>4</th>\n",
       "      <th>5</th>\n",
       "      <th>6</th>\n",
       "      <th>7</th>\n",
       "      <th>8</th>\n",
       "      <th>9</th>\n",
       "      <th>...</th>\n",
       "      <th>3980</th>\n",
       "      <th>3981</th>\n",
       "      <th>3982</th>\n",
       "      <th>3983</th>\n",
       "      <th>3984</th>\n",
       "      <th>3985</th>\n",
       "      <th>3986</th>\n",
       "      <th>3987</th>\n",
       "      <th>3988</th>\n",
       "      <th>3989</th>\n",
       "    </tr>\n",
       "  </thead>\n",
       "  <tbody>\n",
       "    <tr>\n",
       "      <th>predicted</th>\n",
       "      <td>76.922</td>\n",
       "      <td>0.0</td>\n",
       "      <td>36.171</td>\n",
       "      <td>0.0</td>\n",
       "      <td>223.958</td>\n",
       "      <td>9.702</td>\n",
       "      <td>631.483</td>\n",
       "      <td>282.956</td>\n",
       "      <td>1.019</td>\n",
       "      <td>1.995</td>\n",
       "      <td>...</td>\n",
       "      <td>5.057</td>\n",
       "      <td>1242.004</td>\n",
       "      <td>29.749</td>\n",
       "      <td>4.285</td>\n",
       "      <td>43.722</td>\n",
       "      <td>3.789</td>\n",
       "      <td>7.531</td>\n",
       "      <td>0.0</td>\n",
       "      <td>0.0</td>\n",
       "      <td>4.027</td>\n",
       "    </tr>\n",
       "    <tr>\n",
       "      <th>orginal</th>\n",
       "      <td>45.000</td>\n",
       "      <td>0.0</td>\n",
       "      <td>21.000</td>\n",
       "      <td>0.0</td>\n",
       "      <td>133.200</td>\n",
       "      <td>1.800</td>\n",
       "      <td>630.000</td>\n",
       "      <td>42.000</td>\n",
       "      <td>1.000</td>\n",
       "      <td>1.500</td>\n",
       "      <td>...</td>\n",
       "      <td>1.300</td>\n",
       "      <td>1000.000</td>\n",
       "      <td>47.400</td>\n",
       "      <td>5.000</td>\n",
       "      <td>56.700</td>\n",
       "      <td>4.200</td>\n",
       "      <td>5.000</td>\n",
       "      <td>0.0</td>\n",
       "      <td>0.0</td>\n",
       "      <td>2.400</td>\n",
       "    </tr>\n",
       "  </tbody>\n",
       "</table>\n",
       "<p>2 rows × 3990 columns</p>\n",
       "</div>"
      ],
      "text/plain": [
       "             0     1       2     3        4      5        6        7     \\\n",
       "predicted  76.922   0.0  36.171   0.0  223.958  9.702  631.483  282.956   \n",
       "orginal    45.000   0.0  21.000   0.0  133.200  1.800  630.000   42.000   \n",
       "\n",
       "            8      9     ...   3980      3981    3982   3983    3984   3985  \\\n",
       "predicted  1.019  1.995  ...  5.057  1242.004  29.749  4.285  43.722  3.789   \n",
       "orginal    1.000  1.500  ...  1.300  1000.000  47.400  5.000  56.700  4.200   \n",
       "\n",
       "            3986  3987  3988   3989  \n",
       "predicted  7.531   0.0   0.0  4.027  \n",
       "orginal    5.000   0.0   0.0  2.400  \n",
       "\n",
       "[2 rows x 3990 columns]"
      ]
     },
     "execution_count": 83,
     "metadata": {},
     "output_type": "execute_result"
    }
   ],
   "source": [
    "con=pd.DataFrame([load_m.predict(x_test)[:],y_test[:]],index=['predicted','orginal'])\n",
    "con"
   ]
  },
  {
   "cell_type": "code",
   "execution_count": null,
   "id": "121636ac",
   "metadata": {},
   "outputs": [],
   "source": []
  }
 ],
 "metadata": {
  "kernelspec": {
   "display_name": "Python 3 (ipykernel)",
   "language": "python",
   "name": "python3"
  },
  "language_info": {
   "codemirror_mode": {
    "name": "ipython",
    "version": 3
   },
   "file_extension": ".py",
   "mimetype": "text/x-python",
   "name": "python",
   "nbconvert_exporter": "python",
   "pygments_lexer": "ipython3",
   "version": "3.11.4"
  }
 },
 "nbformat": 4,
 "nbformat_minor": 5
}
