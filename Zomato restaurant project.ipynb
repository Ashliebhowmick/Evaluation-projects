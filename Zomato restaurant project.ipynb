{
 "cells": [
  {
   "cell_type": "code",
   "execution_count": 1,
   "id": "dbc6fff4",
   "metadata": {},
   "outputs": [],
   "source": [
    "# importing the necessary libraries\n",
    "import pandas as pd\n",
    "import numpy as np\n",
    "import seaborn as sns\n",
    "import matplotlib.pyplot as plt\n",
    "import warnings\n",
    "warnings.filterwarnings('ignore')\n",
    "import matplotlib.pyplot as plt\n",
    "from sklearn.svm import SVR\n",
    "from sklearn import model_selection\n",
    "from sklearn.linear_model import LinearRegression\n",
    "from sklearn.ensemble import RandomForestRegressor\n",
    "from sklearn.preprocessing import OrdinalEncoder, StandardScaler\n",
    "from sklearn.neighbors import KNeighborsRegressor as KNN\n",
    "from sklearn.model_selection import train_test_split\n",
    "from sklearn.metrics import accuracy_score,confusion_matrix\n",
    "from scipy.stats import zscore\n",
    "from sklearn.ensemble import ExtraTreesRegressor\n",
    "from sklearn.metrics import confusion_matrix,classification_report, accuracy_score, roc_curve, roc_auc_score\n",
    "from sklearn.model_selection import train_test_split, cross_val_score,GridSearchCV"
   ]
  },
  {
   "cell_type": "code",
   "execution_count": 2,
   "id": "17cbccf5",
   "metadata": {},
   "outputs": [],
   "source": [
    "#calling the files\n",
    "country=pd.read_excel('country-code.xlsx')"
   ]
  },
  {
   "cell_type": "code",
   "execution_count": 3,
   "id": "d0ceb388",
   "metadata": {},
   "outputs": [
    {
     "data": {
      "text/html": [
       "<div>\n",
       "<style scoped>\n",
       "    .dataframe tbody tr th:only-of-type {\n",
       "        vertical-align: middle;\n",
       "    }\n",
       "\n",
       "    .dataframe tbody tr th {\n",
       "        vertical-align: top;\n",
       "    }\n",
       "\n",
       "    .dataframe thead th {\n",
       "        text-align: right;\n",
       "    }\n",
       "</style>\n",
       "<table border=\"1\" class=\"dataframe\">\n",
       "  <thead>\n",
       "    <tr style=\"text-align: right;\">\n",
       "      <th></th>\n",
       "      <th>Country Code</th>\n",
       "      <th>Country</th>\n",
       "    </tr>\n",
       "  </thead>\n",
       "  <tbody>\n",
       "    <tr>\n",
       "      <th>0</th>\n",
       "      <td>1</td>\n",
       "      <td>India</td>\n",
       "    </tr>\n",
       "    <tr>\n",
       "      <th>1</th>\n",
       "      <td>14</td>\n",
       "      <td>Australia</td>\n",
       "    </tr>\n",
       "    <tr>\n",
       "      <th>2</th>\n",
       "      <td>30</td>\n",
       "      <td>Brazil</td>\n",
       "    </tr>\n",
       "    <tr>\n",
       "      <th>3</th>\n",
       "      <td>37</td>\n",
       "      <td>Canada</td>\n",
       "    </tr>\n",
       "    <tr>\n",
       "      <th>4</th>\n",
       "      <td>94</td>\n",
       "      <td>Indonesia</td>\n",
       "    </tr>\n",
       "    <tr>\n",
       "      <th>5</th>\n",
       "      <td>148</td>\n",
       "      <td>New Zealand</td>\n",
       "    </tr>\n",
       "    <tr>\n",
       "      <th>6</th>\n",
       "      <td>162</td>\n",
       "      <td>Phillipines</td>\n",
       "    </tr>\n",
       "    <tr>\n",
       "      <th>7</th>\n",
       "      <td>166</td>\n",
       "      <td>Qatar</td>\n",
       "    </tr>\n",
       "    <tr>\n",
       "      <th>8</th>\n",
       "      <td>184</td>\n",
       "      <td>Singapore</td>\n",
       "    </tr>\n",
       "    <tr>\n",
       "      <th>9</th>\n",
       "      <td>189</td>\n",
       "      <td>South Africa</td>\n",
       "    </tr>\n",
       "    <tr>\n",
       "      <th>10</th>\n",
       "      <td>191</td>\n",
       "      <td>Sri Lanka</td>\n",
       "    </tr>\n",
       "    <tr>\n",
       "      <th>11</th>\n",
       "      <td>208</td>\n",
       "      <td>Turkey</td>\n",
       "    </tr>\n",
       "    <tr>\n",
       "      <th>12</th>\n",
       "      <td>214</td>\n",
       "      <td>UAE</td>\n",
       "    </tr>\n",
       "    <tr>\n",
       "      <th>13</th>\n",
       "      <td>215</td>\n",
       "      <td>United Kingdom</td>\n",
       "    </tr>\n",
       "    <tr>\n",
       "      <th>14</th>\n",
       "      <td>216</td>\n",
       "      <td>United States</td>\n",
       "    </tr>\n",
       "  </tbody>\n",
       "</table>\n",
       "</div>"
      ],
      "text/plain": [
       "    Country Code         Country\n",
       "0              1           India\n",
       "1             14       Australia\n",
       "2             30          Brazil\n",
       "3             37          Canada\n",
       "4             94       Indonesia\n",
       "5            148     New Zealand\n",
       "6            162     Phillipines\n",
       "7            166           Qatar\n",
       "8            184       Singapore\n",
       "9            189    South Africa\n",
       "10           191       Sri Lanka\n",
       "11           208          Turkey\n",
       "12           214             UAE\n",
       "13           215  United Kingdom\n",
       "14           216   United States"
      ]
     },
     "execution_count": 3,
     "metadata": {},
     "output_type": "execute_result"
    }
   ],
   "source": [
    "country"
   ]
  },
  {
   "cell_type": "code",
   "execution_count": 4,
   "id": "867be429",
   "metadata": {},
   "outputs": [],
   "source": [
    "zomato=pd.read_excel('zomato.xlsx')"
   ]
  },
  {
   "cell_type": "code",
   "execution_count": 5,
   "id": "7b209ec5",
   "metadata": {},
   "outputs": [
    {
     "data": {
      "text/html": [
       "<div>\n",
       "<style scoped>\n",
       "    .dataframe tbody tr th:only-of-type {\n",
       "        vertical-align: middle;\n",
       "    }\n",
       "\n",
       "    .dataframe tbody tr th {\n",
       "        vertical-align: top;\n",
       "    }\n",
       "\n",
       "    .dataframe thead th {\n",
       "        text-align: right;\n",
       "    }\n",
       "</style>\n",
       "<table border=\"1\" class=\"dataframe\">\n",
       "  <thead>\n",
       "    <tr style=\"text-align: right;\">\n",
       "      <th></th>\n",
       "      <th>Restaurant ID</th>\n",
       "      <th>Restaurant Name</th>\n",
       "      <th>Country Code</th>\n",
       "      <th>City</th>\n",
       "      <th>Address</th>\n",
       "      <th>Locality</th>\n",
       "      <th>Locality Verbose</th>\n",
       "      <th>Longitude</th>\n",
       "      <th>Latitude</th>\n",
       "      <th>Cuisines</th>\n",
       "      <th>...</th>\n",
       "      <th>Currency</th>\n",
       "      <th>Has Table booking</th>\n",
       "      <th>Has Online delivery</th>\n",
       "      <th>Is delivering now</th>\n",
       "      <th>Switch to order menu</th>\n",
       "      <th>Price range</th>\n",
       "      <th>Aggregate rating</th>\n",
       "      <th>Rating color</th>\n",
       "      <th>Rating text</th>\n",
       "      <th>Votes</th>\n",
       "    </tr>\n",
       "  </thead>\n",
       "  <tbody>\n",
       "    <tr>\n",
       "      <th>0</th>\n",
       "      <td>6317637</td>\n",
       "      <td>Le Petit Souffle</td>\n",
       "      <td>162</td>\n",
       "      <td>Makati City</td>\n",
       "      <td>Third Floor, Century City Mall, Kalayaan Avenu...</td>\n",
       "      <td>Century City Mall, Poblacion, Makati City</td>\n",
       "      <td>Century City Mall, Poblacion, Makati City, Mak...</td>\n",
       "      <td>121.027535</td>\n",
       "      <td>14.565443</td>\n",
       "      <td>French, Japanese, Desserts</td>\n",
       "      <td>...</td>\n",
       "      <td>Botswana Pula(P)</td>\n",
       "      <td>Yes</td>\n",
       "      <td>No</td>\n",
       "      <td>No</td>\n",
       "      <td>No</td>\n",
       "      <td>3</td>\n",
       "      <td>4.8</td>\n",
       "      <td>Dark Green</td>\n",
       "      <td>Excellent</td>\n",
       "      <td>314</td>\n",
       "    </tr>\n",
       "    <tr>\n",
       "      <th>1</th>\n",
       "      <td>6304287</td>\n",
       "      <td>Izakaya Kikufuji</td>\n",
       "      <td>162</td>\n",
       "      <td>Makati City</td>\n",
       "      <td>Little Tokyo, 2277 Chino Roces Avenue, Legaspi...</td>\n",
       "      <td>Little Tokyo, Legaspi Village, Makati City</td>\n",
       "      <td>Little Tokyo, Legaspi Village, Makati City, Ma...</td>\n",
       "      <td>121.014101</td>\n",
       "      <td>14.553708</td>\n",
       "      <td>Japanese</td>\n",
       "      <td>...</td>\n",
       "      <td>Botswana Pula(P)</td>\n",
       "      <td>Yes</td>\n",
       "      <td>No</td>\n",
       "      <td>No</td>\n",
       "      <td>No</td>\n",
       "      <td>3</td>\n",
       "      <td>4.5</td>\n",
       "      <td>Dark Green</td>\n",
       "      <td>Excellent</td>\n",
       "      <td>591</td>\n",
       "    </tr>\n",
       "    <tr>\n",
       "      <th>2</th>\n",
       "      <td>6300002</td>\n",
       "      <td>Heat - Edsa Shangri-La</td>\n",
       "      <td>162</td>\n",
       "      <td>Mandaluyong City</td>\n",
       "      <td>Edsa Shangri-La, 1 Garden Way, Ortigas, Mandal...</td>\n",
       "      <td>Edsa Shangri-La, Ortigas, Mandaluyong City</td>\n",
       "      <td>Edsa Shangri-La, Ortigas, Mandaluyong City, Ma...</td>\n",
       "      <td>121.056831</td>\n",
       "      <td>14.581404</td>\n",
       "      <td>Seafood, Asian, Filipino, Indian</td>\n",
       "      <td>...</td>\n",
       "      <td>Botswana Pula(P)</td>\n",
       "      <td>Yes</td>\n",
       "      <td>No</td>\n",
       "      <td>No</td>\n",
       "      <td>No</td>\n",
       "      <td>4</td>\n",
       "      <td>4.4</td>\n",
       "      <td>Green</td>\n",
       "      <td>Very Good</td>\n",
       "      <td>270</td>\n",
       "    </tr>\n",
       "    <tr>\n",
       "      <th>3</th>\n",
       "      <td>6318506</td>\n",
       "      <td>Ooma</td>\n",
       "      <td>162</td>\n",
       "      <td>Mandaluyong City</td>\n",
       "      <td>Third Floor, Mega Fashion Hall, SM Megamall, O...</td>\n",
       "      <td>SM Megamall, Ortigas, Mandaluyong City</td>\n",
       "      <td>SM Megamall, Ortigas, Mandaluyong City, Mandal...</td>\n",
       "      <td>121.056475</td>\n",
       "      <td>14.585318</td>\n",
       "      <td>Japanese, Sushi</td>\n",
       "      <td>...</td>\n",
       "      <td>Botswana Pula(P)</td>\n",
       "      <td>No</td>\n",
       "      <td>No</td>\n",
       "      <td>No</td>\n",
       "      <td>No</td>\n",
       "      <td>4</td>\n",
       "      <td>4.9</td>\n",
       "      <td>Dark Green</td>\n",
       "      <td>Excellent</td>\n",
       "      <td>365</td>\n",
       "    </tr>\n",
       "    <tr>\n",
       "      <th>4</th>\n",
       "      <td>6314302</td>\n",
       "      <td>Sambo Kojin</td>\n",
       "      <td>162</td>\n",
       "      <td>Mandaluyong City</td>\n",
       "      <td>Third Floor, Mega Atrium, SM Megamall, Ortigas...</td>\n",
       "      <td>SM Megamall, Ortigas, Mandaluyong City</td>\n",
       "      <td>SM Megamall, Ortigas, Mandaluyong City, Mandal...</td>\n",
       "      <td>121.057508</td>\n",
       "      <td>14.584450</td>\n",
       "      <td>Japanese, Korean</td>\n",
       "      <td>...</td>\n",
       "      <td>Botswana Pula(P)</td>\n",
       "      <td>Yes</td>\n",
       "      <td>No</td>\n",
       "      <td>No</td>\n",
       "      <td>No</td>\n",
       "      <td>4</td>\n",
       "      <td>4.8</td>\n",
       "      <td>Dark Green</td>\n",
       "      <td>Excellent</td>\n",
       "      <td>229</td>\n",
       "    </tr>\n",
       "    <tr>\n",
       "      <th>...</th>\n",
       "      <td>...</td>\n",
       "      <td>...</td>\n",
       "      <td>...</td>\n",
       "      <td>...</td>\n",
       "      <td>...</td>\n",
       "      <td>...</td>\n",
       "      <td>...</td>\n",
       "      <td>...</td>\n",
       "      <td>...</td>\n",
       "      <td>...</td>\n",
       "      <td>...</td>\n",
       "      <td>...</td>\n",
       "      <td>...</td>\n",
       "      <td>...</td>\n",
       "      <td>...</td>\n",
       "      <td>...</td>\n",
       "      <td>...</td>\n",
       "      <td>...</td>\n",
       "      <td>...</td>\n",
       "      <td>...</td>\n",
       "      <td>...</td>\n",
       "    </tr>\n",
       "    <tr>\n",
       "      <th>9546</th>\n",
       "      <td>5915730</td>\n",
       "      <td>NamlÛ± Gurme</td>\n",
       "      <td>208</td>\n",
       "      <td>ÛÁstanbul</td>\n",
       "      <td>Kemankeô Karamustafa Paôa Mahallesi, RÛ±htÛ±...</td>\n",
       "      <td>Karakí_y</td>\n",
       "      <td>Karakí_y, ÛÁstanbul</td>\n",
       "      <td>28.977392</td>\n",
       "      <td>41.022793</td>\n",
       "      <td>Turkish</td>\n",
       "      <td>...</td>\n",
       "      <td>Turkish Lira(TL)</td>\n",
       "      <td>No</td>\n",
       "      <td>No</td>\n",
       "      <td>No</td>\n",
       "      <td>No</td>\n",
       "      <td>3</td>\n",
       "      <td>4.1</td>\n",
       "      <td>Green</td>\n",
       "      <td>Very Good</td>\n",
       "      <td>788</td>\n",
       "    </tr>\n",
       "    <tr>\n",
       "      <th>9547</th>\n",
       "      <td>5908749</td>\n",
       "      <td>Ceviz AÛôacÛ±</td>\n",
       "      <td>208</td>\n",
       "      <td>ÛÁstanbul</td>\n",
       "      <td>Koôuyolu Mahallesi, Muhittin íìstí_ndaÛô Cadd...</td>\n",
       "      <td>Koôuyolu</td>\n",
       "      <td>Koôuyolu, ÛÁstanbul</td>\n",
       "      <td>29.041297</td>\n",
       "      <td>41.009847</td>\n",
       "      <td>World Cuisine, Patisserie, Cafe</td>\n",
       "      <td>...</td>\n",
       "      <td>Turkish Lira(TL)</td>\n",
       "      <td>No</td>\n",
       "      <td>No</td>\n",
       "      <td>No</td>\n",
       "      <td>No</td>\n",
       "      <td>3</td>\n",
       "      <td>4.2</td>\n",
       "      <td>Green</td>\n",
       "      <td>Very Good</td>\n",
       "      <td>1034</td>\n",
       "    </tr>\n",
       "    <tr>\n",
       "      <th>9548</th>\n",
       "      <td>5915807</td>\n",
       "      <td>Huqqa</td>\n",
       "      <td>208</td>\n",
       "      <td>ÛÁstanbul</td>\n",
       "      <td>Kuruí_eôme Mahallesi, Muallim Naci Caddesi, N...</td>\n",
       "      <td>Kuruí_eôme</td>\n",
       "      <td>Kuruí_eôme, ÛÁstanbul</td>\n",
       "      <td>29.034640</td>\n",
       "      <td>41.055817</td>\n",
       "      <td>Italian, World Cuisine</td>\n",
       "      <td>...</td>\n",
       "      <td>Turkish Lira(TL)</td>\n",
       "      <td>No</td>\n",
       "      <td>No</td>\n",
       "      <td>No</td>\n",
       "      <td>No</td>\n",
       "      <td>4</td>\n",
       "      <td>3.7</td>\n",
       "      <td>Yellow</td>\n",
       "      <td>Good</td>\n",
       "      <td>661</td>\n",
       "    </tr>\n",
       "    <tr>\n",
       "      <th>9549</th>\n",
       "      <td>5916112</td>\n",
       "      <td>Aôôk Kahve</td>\n",
       "      <td>208</td>\n",
       "      <td>ÛÁstanbul</td>\n",
       "      <td>Kuruí_eôme Mahallesi, Muallim Naci Caddesi, N...</td>\n",
       "      <td>Kuruí_eôme</td>\n",
       "      <td>Kuruí_eôme, ÛÁstanbul</td>\n",
       "      <td>29.036019</td>\n",
       "      <td>41.057979</td>\n",
       "      <td>Restaurant Cafe</td>\n",
       "      <td>...</td>\n",
       "      <td>Turkish Lira(TL)</td>\n",
       "      <td>No</td>\n",
       "      <td>No</td>\n",
       "      <td>No</td>\n",
       "      <td>No</td>\n",
       "      <td>4</td>\n",
       "      <td>4.0</td>\n",
       "      <td>Green</td>\n",
       "      <td>Very Good</td>\n",
       "      <td>901</td>\n",
       "    </tr>\n",
       "    <tr>\n",
       "      <th>9550</th>\n",
       "      <td>5927402</td>\n",
       "      <td>Walter's Coffee Roastery</td>\n",
       "      <td>208</td>\n",
       "      <td>ÛÁstanbul</td>\n",
       "      <td>CafeaÛôa Mahallesi, BademaltÛ± Sokak, No 21/B,...</td>\n",
       "      <td>Moda</td>\n",
       "      <td>Moda, ÛÁstanbul</td>\n",
       "      <td>29.026016</td>\n",
       "      <td>40.984776</td>\n",
       "      <td>Cafe</td>\n",
       "      <td>...</td>\n",
       "      <td>Turkish Lira(TL)</td>\n",
       "      <td>No</td>\n",
       "      <td>No</td>\n",
       "      <td>No</td>\n",
       "      <td>No</td>\n",
       "      <td>2</td>\n",
       "      <td>4.0</td>\n",
       "      <td>Green</td>\n",
       "      <td>Very Good</td>\n",
       "      <td>591</td>\n",
       "    </tr>\n",
       "  </tbody>\n",
       "</table>\n",
       "<p>9551 rows × 21 columns</p>\n",
       "</div>"
      ],
      "text/plain": [
       "      Restaurant ID           Restaurant Name  Country Code              City  \\\n",
       "0           6317637          Le Petit Souffle           162       Makati City   \n",
       "1           6304287          Izakaya Kikufuji           162       Makati City   \n",
       "2           6300002    Heat - Edsa Shangri-La           162  Mandaluyong City   \n",
       "3           6318506                      Ooma           162  Mandaluyong City   \n",
       "4           6314302               Sambo Kojin           162  Mandaluyong City   \n",
       "...             ...                       ...           ...               ...   \n",
       "9546        5915730              NamlÛ± Gurme           208         ÛÁstanbul   \n",
       "9547        5908749             Ceviz AÛôacÛ±           208         ÛÁstanbul   \n",
       "9548        5915807                     Huqqa           208         ÛÁstanbul   \n",
       "9549        5916112              Aôôk Kahve           208         ÛÁstanbul   \n",
       "9550        5927402  Walter's Coffee Roastery           208         ÛÁstanbul   \n",
       "\n",
       "                                                Address  \\\n",
       "0     Third Floor, Century City Mall, Kalayaan Avenu...   \n",
       "1     Little Tokyo, 2277 Chino Roces Avenue, Legaspi...   \n",
       "2     Edsa Shangri-La, 1 Garden Way, Ortigas, Mandal...   \n",
       "3     Third Floor, Mega Fashion Hall, SM Megamall, O...   \n",
       "4     Third Floor, Mega Atrium, SM Megamall, Ortigas...   \n",
       "...                                                 ...   \n",
       "9546  Kemankeô Karamustafa Paôa Mahallesi, RÛ±htÛ±...   \n",
       "9547  Koôuyolu Mahallesi, Muhittin íìstí_ndaÛô Cadd...   \n",
       "9548  Kuruí_eôme Mahallesi, Muallim Naci Caddesi, N...   \n",
       "9549  Kuruí_eôme Mahallesi, Muallim Naci Caddesi, N...   \n",
       "9550  CafeaÛôa Mahallesi, BademaltÛ± Sokak, No 21/B,...   \n",
       "\n",
       "                                        Locality  \\\n",
       "0      Century City Mall, Poblacion, Makati City   \n",
       "1     Little Tokyo, Legaspi Village, Makati City   \n",
       "2     Edsa Shangri-La, Ortigas, Mandaluyong City   \n",
       "3         SM Megamall, Ortigas, Mandaluyong City   \n",
       "4         SM Megamall, Ortigas, Mandaluyong City   \n",
       "...                                          ...   \n",
       "9546                                    Karakí_y   \n",
       "9547                                   Koôuyolu   \n",
       "9548                                 Kuruí_eôme   \n",
       "9549                                 Kuruí_eôme   \n",
       "9550                                        Moda   \n",
       "\n",
       "                                       Locality Verbose   Longitude  \\\n",
       "0     Century City Mall, Poblacion, Makati City, Mak...  121.027535   \n",
       "1     Little Tokyo, Legaspi Village, Makati City, Ma...  121.014101   \n",
       "2     Edsa Shangri-La, Ortigas, Mandaluyong City, Ma...  121.056831   \n",
       "3     SM Megamall, Ortigas, Mandaluyong City, Mandal...  121.056475   \n",
       "4     SM Megamall, Ortigas, Mandaluyong City, Mandal...  121.057508   \n",
       "...                                                 ...         ...   \n",
       "9546                                Karakí_y, ÛÁstanbul   28.977392   \n",
       "9547                               Koôuyolu, ÛÁstanbul   29.041297   \n",
       "9548                             Kuruí_eôme, ÛÁstanbul   29.034640   \n",
       "9549                             Kuruí_eôme, ÛÁstanbul   29.036019   \n",
       "9550                                    Moda, ÛÁstanbul   29.026016   \n",
       "\n",
       "       Latitude                          Cuisines  ...          Currency  \\\n",
       "0     14.565443        French, Japanese, Desserts  ...  Botswana Pula(P)   \n",
       "1     14.553708                          Japanese  ...  Botswana Pula(P)   \n",
       "2     14.581404  Seafood, Asian, Filipino, Indian  ...  Botswana Pula(P)   \n",
       "3     14.585318                   Japanese, Sushi  ...  Botswana Pula(P)   \n",
       "4     14.584450                  Japanese, Korean  ...  Botswana Pula(P)   \n",
       "...         ...                               ...  ...               ...   \n",
       "9546  41.022793                           Turkish  ...  Turkish Lira(TL)   \n",
       "9547  41.009847   World Cuisine, Patisserie, Cafe  ...  Turkish Lira(TL)   \n",
       "9548  41.055817            Italian, World Cuisine  ...  Turkish Lira(TL)   \n",
       "9549  41.057979                   Restaurant Cafe  ...  Turkish Lira(TL)   \n",
       "9550  40.984776                              Cafe  ...  Turkish Lira(TL)   \n",
       "\n",
       "     Has Table booking Has Online delivery Is delivering now  \\\n",
       "0                  Yes                  No                No   \n",
       "1                  Yes                  No                No   \n",
       "2                  Yes                  No                No   \n",
       "3                   No                  No                No   \n",
       "4                  Yes                  No                No   \n",
       "...                ...                 ...               ...   \n",
       "9546                No                  No                No   \n",
       "9547                No                  No                No   \n",
       "9548                No                  No                No   \n",
       "9549                No                  No                No   \n",
       "9550                No                  No                No   \n",
       "\n",
       "     Switch to order menu Price range  Aggregate rating  Rating color  \\\n",
       "0                      No           3               4.8    Dark Green   \n",
       "1                      No           3               4.5    Dark Green   \n",
       "2                      No           4               4.4         Green   \n",
       "3                      No           4               4.9    Dark Green   \n",
       "4                      No           4               4.8    Dark Green   \n",
       "...                   ...         ...               ...           ...   \n",
       "9546                   No           3               4.1         Green   \n",
       "9547                   No           3               4.2         Green   \n",
       "9548                   No           4               3.7        Yellow   \n",
       "9549                   No           4               4.0         Green   \n",
       "9550                   No           2               4.0         Green   \n",
       "\n",
       "     Rating text Votes  \n",
       "0      Excellent   314  \n",
       "1      Excellent   591  \n",
       "2      Very Good   270  \n",
       "3      Excellent   365  \n",
       "4      Excellent   229  \n",
       "...          ...   ...  \n",
       "9546   Very Good   788  \n",
       "9547   Very Good  1034  \n",
       "9548        Good   661  \n",
       "9549   Very Good   901  \n",
       "9550   Very Good   591  \n",
       "\n",
       "[9551 rows x 21 columns]"
      ]
     },
     "execution_count": 5,
     "metadata": {},
     "output_type": "execute_result"
    }
   ],
   "source": [
    "zomato"
   ]
  },
  {
   "cell_type": "code",
   "execution_count": 6,
   "id": "305bd3c3",
   "metadata": {
    "scrolled": true
   },
   "outputs": [],
   "source": [
    "#merging the three file into one single flie\n",
    "final='final'\n",
    "df_zo=pd.concat([country,zomato],ignore_index=True)\n",
    "df_zo.to_csv(final,index=False)\n"
   ]
  },
  {
   "cell_type": "code",
   "execution_count": 7,
   "id": "8765befd",
   "metadata": {},
   "outputs": [
    {
     "data": {
      "text/html": [
       "<div>\n",
       "<style scoped>\n",
       "    .dataframe tbody tr th:only-of-type {\n",
       "        vertical-align: middle;\n",
       "    }\n",
       "\n",
       "    .dataframe tbody tr th {\n",
       "        vertical-align: top;\n",
       "    }\n",
       "\n",
       "    .dataframe thead th {\n",
       "        text-align: right;\n",
       "    }\n",
       "</style>\n",
       "<table border=\"1\" class=\"dataframe\">\n",
       "  <thead>\n",
       "    <tr style=\"text-align: right;\">\n",
       "      <th></th>\n",
       "      <th>Country Code</th>\n",
       "      <th>Country</th>\n",
       "      <th>Restaurant ID</th>\n",
       "      <th>Restaurant Name</th>\n",
       "      <th>City</th>\n",
       "      <th>Address</th>\n",
       "      <th>Locality</th>\n",
       "      <th>Locality Verbose</th>\n",
       "      <th>Longitude</th>\n",
       "      <th>Latitude</th>\n",
       "      <th>...</th>\n",
       "      <th>Currency</th>\n",
       "      <th>Has Table booking</th>\n",
       "      <th>Has Online delivery</th>\n",
       "      <th>Is delivering now</th>\n",
       "      <th>Switch to order menu</th>\n",
       "      <th>Price range</th>\n",
       "      <th>Aggregate rating</th>\n",
       "      <th>Rating color</th>\n",
       "      <th>Rating text</th>\n",
       "      <th>Votes</th>\n",
       "    </tr>\n",
       "  </thead>\n",
       "  <tbody>\n",
       "    <tr>\n",
       "      <th>0</th>\n",
       "      <td>1</td>\n",
       "      <td>India</td>\n",
       "      <td>NaN</td>\n",
       "      <td>NaN</td>\n",
       "      <td>NaN</td>\n",
       "      <td>NaN</td>\n",
       "      <td>NaN</td>\n",
       "      <td>NaN</td>\n",
       "      <td>NaN</td>\n",
       "      <td>NaN</td>\n",
       "      <td>...</td>\n",
       "      <td>NaN</td>\n",
       "      <td>NaN</td>\n",
       "      <td>NaN</td>\n",
       "      <td>NaN</td>\n",
       "      <td>NaN</td>\n",
       "      <td>NaN</td>\n",
       "      <td>NaN</td>\n",
       "      <td>NaN</td>\n",
       "      <td>NaN</td>\n",
       "      <td>NaN</td>\n",
       "    </tr>\n",
       "    <tr>\n",
       "      <th>1</th>\n",
       "      <td>14</td>\n",
       "      <td>Australia</td>\n",
       "      <td>NaN</td>\n",
       "      <td>NaN</td>\n",
       "      <td>NaN</td>\n",
       "      <td>NaN</td>\n",
       "      <td>NaN</td>\n",
       "      <td>NaN</td>\n",
       "      <td>NaN</td>\n",
       "      <td>NaN</td>\n",
       "      <td>...</td>\n",
       "      <td>NaN</td>\n",
       "      <td>NaN</td>\n",
       "      <td>NaN</td>\n",
       "      <td>NaN</td>\n",
       "      <td>NaN</td>\n",
       "      <td>NaN</td>\n",
       "      <td>NaN</td>\n",
       "      <td>NaN</td>\n",
       "      <td>NaN</td>\n",
       "      <td>NaN</td>\n",
       "    </tr>\n",
       "    <tr>\n",
       "      <th>2</th>\n",
       "      <td>30</td>\n",
       "      <td>Brazil</td>\n",
       "      <td>NaN</td>\n",
       "      <td>NaN</td>\n",
       "      <td>NaN</td>\n",
       "      <td>NaN</td>\n",
       "      <td>NaN</td>\n",
       "      <td>NaN</td>\n",
       "      <td>NaN</td>\n",
       "      <td>NaN</td>\n",
       "      <td>...</td>\n",
       "      <td>NaN</td>\n",
       "      <td>NaN</td>\n",
       "      <td>NaN</td>\n",
       "      <td>NaN</td>\n",
       "      <td>NaN</td>\n",
       "      <td>NaN</td>\n",
       "      <td>NaN</td>\n",
       "      <td>NaN</td>\n",
       "      <td>NaN</td>\n",
       "      <td>NaN</td>\n",
       "    </tr>\n",
       "    <tr>\n",
       "      <th>3</th>\n",
       "      <td>37</td>\n",
       "      <td>Canada</td>\n",
       "      <td>NaN</td>\n",
       "      <td>NaN</td>\n",
       "      <td>NaN</td>\n",
       "      <td>NaN</td>\n",
       "      <td>NaN</td>\n",
       "      <td>NaN</td>\n",
       "      <td>NaN</td>\n",
       "      <td>NaN</td>\n",
       "      <td>...</td>\n",
       "      <td>NaN</td>\n",
       "      <td>NaN</td>\n",
       "      <td>NaN</td>\n",
       "      <td>NaN</td>\n",
       "      <td>NaN</td>\n",
       "      <td>NaN</td>\n",
       "      <td>NaN</td>\n",
       "      <td>NaN</td>\n",
       "      <td>NaN</td>\n",
       "      <td>NaN</td>\n",
       "    </tr>\n",
       "    <tr>\n",
       "      <th>4</th>\n",
       "      <td>94</td>\n",
       "      <td>Indonesia</td>\n",
       "      <td>NaN</td>\n",
       "      <td>NaN</td>\n",
       "      <td>NaN</td>\n",
       "      <td>NaN</td>\n",
       "      <td>NaN</td>\n",
       "      <td>NaN</td>\n",
       "      <td>NaN</td>\n",
       "      <td>NaN</td>\n",
       "      <td>...</td>\n",
       "      <td>NaN</td>\n",
       "      <td>NaN</td>\n",
       "      <td>NaN</td>\n",
       "      <td>NaN</td>\n",
       "      <td>NaN</td>\n",
       "      <td>NaN</td>\n",
       "      <td>NaN</td>\n",
       "      <td>NaN</td>\n",
       "      <td>NaN</td>\n",
       "      <td>NaN</td>\n",
       "    </tr>\n",
       "    <tr>\n",
       "      <th>...</th>\n",
       "      <td>...</td>\n",
       "      <td>...</td>\n",
       "      <td>...</td>\n",
       "      <td>...</td>\n",
       "      <td>...</td>\n",
       "      <td>...</td>\n",
       "      <td>...</td>\n",
       "      <td>...</td>\n",
       "      <td>...</td>\n",
       "      <td>...</td>\n",
       "      <td>...</td>\n",
       "      <td>...</td>\n",
       "      <td>...</td>\n",
       "      <td>...</td>\n",
       "      <td>...</td>\n",
       "      <td>...</td>\n",
       "      <td>...</td>\n",
       "      <td>...</td>\n",
       "      <td>...</td>\n",
       "      <td>...</td>\n",
       "      <td>...</td>\n",
       "    </tr>\n",
       "    <tr>\n",
       "      <th>9561</th>\n",
       "      <td>208</td>\n",
       "      <td>NaN</td>\n",
       "      <td>5915730.0</td>\n",
       "      <td>NamlÛ± Gurme</td>\n",
       "      <td>ÛÁstanbul</td>\n",
       "      <td>Kemankeô Karamustafa Paôa Mahallesi, RÛ±htÛ±...</td>\n",
       "      <td>Karakí_y</td>\n",
       "      <td>Karakí_y, ÛÁstanbul</td>\n",
       "      <td>28.977392</td>\n",
       "      <td>41.022793</td>\n",
       "      <td>...</td>\n",
       "      <td>Turkish Lira(TL)</td>\n",
       "      <td>No</td>\n",
       "      <td>No</td>\n",
       "      <td>No</td>\n",
       "      <td>No</td>\n",
       "      <td>3.0</td>\n",
       "      <td>4.1</td>\n",
       "      <td>Green</td>\n",
       "      <td>Very Good</td>\n",
       "      <td>788.0</td>\n",
       "    </tr>\n",
       "    <tr>\n",
       "      <th>9562</th>\n",
       "      <td>208</td>\n",
       "      <td>NaN</td>\n",
       "      <td>5908749.0</td>\n",
       "      <td>Ceviz AÛôacÛ±</td>\n",
       "      <td>ÛÁstanbul</td>\n",
       "      <td>Koôuyolu Mahallesi, Muhittin íìstí_ndaÛô Cadd...</td>\n",
       "      <td>Koôuyolu</td>\n",
       "      <td>Koôuyolu, ÛÁstanbul</td>\n",
       "      <td>29.041297</td>\n",
       "      <td>41.009847</td>\n",
       "      <td>...</td>\n",
       "      <td>Turkish Lira(TL)</td>\n",
       "      <td>No</td>\n",
       "      <td>No</td>\n",
       "      <td>No</td>\n",
       "      <td>No</td>\n",
       "      <td>3.0</td>\n",
       "      <td>4.2</td>\n",
       "      <td>Green</td>\n",
       "      <td>Very Good</td>\n",
       "      <td>1034.0</td>\n",
       "    </tr>\n",
       "    <tr>\n",
       "      <th>9563</th>\n",
       "      <td>208</td>\n",
       "      <td>NaN</td>\n",
       "      <td>5915807.0</td>\n",
       "      <td>Huqqa</td>\n",
       "      <td>ÛÁstanbul</td>\n",
       "      <td>Kuruí_eôme Mahallesi, Muallim Naci Caddesi, N...</td>\n",
       "      <td>Kuruí_eôme</td>\n",
       "      <td>Kuruí_eôme, ÛÁstanbul</td>\n",
       "      <td>29.034640</td>\n",
       "      <td>41.055817</td>\n",
       "      <td>...</td>\n",
       "      <td>Turkish Lira(TL)</td>\n",
       "      <td>No</td>\n",
       "      <td>No</td>\n",
       "      <td>No</td>\n",
       "      <td>No</td>\n",
       "      <td>4.0</td>\n",
       "      <td>3.7</td>\n",
       "      <td>Yellow</td>\n",
       "      <td>Good</td>\n",
       "      <td>661.0</td>\n",
       "    </tr>\n",
       "    <tr>\n",
       "      <th>9564</th>\n",
       "      <td>208</td>\n",
       "      <td>NaN</td>\n",
       "      <td>5916112.0</td>\n",
       "      <td>Aôôk Kahve</td>\n",
       "      <td>ÛÁstanbul</td>\n",
       "      <td>Kuruí_eôme Mahallesi, Muallim Naci Caddesi, N...</td>\n",
       "      <td>Kuruí_eôme</td>\n",
       "      <td>Kuruí_eôme, ÛÁstanbul</td>\n",
       "      <td>29.036019</td>\n",
       "      <td>41.057979</td>\n",
       "      <td>...</td>\n",
       "      <td>Turkish Lira(TL)</td>\n",
       "      <td>No</td>\n",
       "      <td>No</td>\n",
       "      <td>No</td>\n",
       "      <td>No</td>\n",
       "      <td>4.0</td>\n",
       "      <td>4.0</td>\n",
       "      <td>Green</td>\n",
       "      <td>Very Good</td>\n",
       "      <td>901.0</td>\n",
       "    </tr>\n",
       "    <tr>\n",
       "      <th>9565</th>\n",
       "      <td>208</td>\n",
       "      <td>NaN</td>\n",
       "      <td>5927402.0</td>\n",
       "      <td>Walter's Coffee Roastery</td>\n",
       "      <td>ÛÁstanbul</td>\n",
       "      <td>CafeaÛôa Mahallesi, BademaltÛ± Sokak, No 21/B,...</td>\n",
       "      <td>Moda</td>\n",
       "      <td>Moda, ÛÁstanbul</td>\n",
       "      <td>29.026016</td>\n",
       "      <td>40.984776</td>\n",
       "      <td>...</td>\n",
       "      <td>Turkish Lira(TL)</td>\n",
       "      <td>No</td>\n",
       "      <td>No</td>\n",
       "      <td>No</td>\n",
       "      <td>No</td>\n",
       "      <td>2.0</td>\n",
       "      <td>4.0</td>\n",
       "      <td>Green</td>\n",
       "      <td>Very Good</td>\n",
       "      <td>591.0</td>\n",
       "    </tr>\n",
       "  </tbody>\n",
       "</table>\n",
       "<p>9566 rows × 22 columns</p>\n",
       "</div>"
      ],
      "text/plain": [
       "      Country Code    Country  Restaurant ID           Restaurant Name  \\\n",
       "0                1      India            NaN                       NaN   \n",
       "1               14  Australia            NaN                       NaN   \n",
       "2               30     Brazil            NaN                       NaN   \n",
       "3               37     Canada            NaN                       NaN   \n",
       "4               94  Indonesia            NaN                       NaN   \n",
       "...            ...        ...            ...                       ...   \n",
       "9561           208        NaN      5915730.0              NamlÛ± Gurme   \n",
       "9562           208        NaN      5908749.0             Ceviz AÛôacÛ±   \n",
       "9563           208        NaN      5915807.0                     Huqqa   \n",
       "9564           208        NaN      5916112.0              Aôôk Kahve   \n",
       "9565           208        NaN      5927402.0  Walter's Coffee Roastery   \n",
       "\n",
       "           City                                            Address  \\\n",
       "0           NaN                                                NaN   \n",
       "1           NaN                                                NaN   \n",
       "2           NaN                                                NaN   \n",
       "3           NaN                                                NaN   \n",
       "4           NaN                                                NaN   \n",
       "...         ...                                                ...   \n",
       "9561  ÛÁstanbul  Kemankeô Karamustafa Paôa Mahallesi, RÛ±htÛ±...   \n",
       "9562  ÛÁstanbul  Koôuyolu Mahallesi, Muhittin íìstí_ndaÛô Cadd...   \n",
       "9563  ÛÁstanbul  Kuruí_eôme Mahallesi, Muallim Naci Caddesi, N...   \n",
       "9564  ÛÁstanbul  Kuruí_eôme Mahallesi, Muallim Naci Caddesi, N...   \n",
       "9565  ÛÁstanbul  CafeaÛôa Mahallesi, BademaltÛ± Sokak, No 21/B,...   \n",
       "\n",
       "         Locality        Locality Verbose  Longitude   Latitude  ...  \\\n",
       "0             NaN                     NaN        NaN        NaN  ...   \n",
       "1             NaN                     NaN        NaN        NaN  ...   \n",
       "2             NaN                     NaN        NaN        NaN  ...   \n",
       "3             NaN                     NaN        NaN        NaN  ...   \n",
       "4             NaN                     NaN        NaN        NaN  ...   \n",
       "...           ...                     ...        ...        ...  ...   \n",
       "9561     Karakí_y     Karakí_y, ÛÁstanbul  28.977392  41.022793  ...   \n",
       "9562    Koôuyolu    Koôuyolu, ÛÁstanbul  29.041297  41.009847  ...   \n",
       "9563  Kuruí_eôme  Kuruí_eôme, ÛÁstanbul  29.034640  41.055817  ...   \n",
       "9564  Kuruí_eôme  Kuruí_eôme, ÛÁstanbul  29.036019  41.057979  ...   \n",
       "9565         Moda         Moda, ÛÁstanbul  29.026016  40.984776  ...   \n",
       "\n",
       "              Currency  Has Table booking Has Online delivery  \\\n",
       "0                  NaN                NaN                 NaN   \n",
       "1                  NaN                NaN                 NaN   \n",
       "2                  NaN                NaN                 NaN   \n",
       "3                  NaN                NaN                 NaN   \n",
       "4                  NaN                NaN                 NaN   \n",
       "...                ...                ...                 ...   \n",
       "9561  Turkish Lira(TL)                 No                  No   \n",
       "9562  Turkish Lira(TL)                 No                  No   \n",
       "9563  Turkish Lira(TL)                 No                  No   \n",
       "9564  Turkish Lira(TL)                 No                  No   \n",
       "9565  Turkish Lira(TL)                 No                  No   \n",
       "\n",
       "     Is delivering now Switch to order menu Price range Aggregate rating  \\\n",
       "0                  NaN                  NaN         NaN              NaN   \n",
       "1                  NaN                  NaN         NaN              NaN   \n",
       "2                  NaN                  NaN         NaN              NaN   \n",
       "3                  NaN                  NaN         NaN              NaN   \n",
       "4                  NaN                  NaN         NaN              NaN   \n",
       "...                ...                  ...         ...              ...   \n",
       "9561                No                   No         3.0              4.1   \n",
       "9562                No                   No         3.0              4.2   \n",
       "9563                No                   No         4.0              3.7   \n",
       "9564                No                   No         4.0              4.0   \n",
       "9565                No                   No         2.0              4.0   \n",
       "\n",
       "      Rating color  Rating text   Votes  \n",
       "0              NaN          NaN     NaN  \n",
       "1              NaN          NaN     NaN  \n",
       "2              NaN          NaN     NaN  \n",
       "3              NaN          NaN     NaN  \n",
       "4              NaN          NaN     NaN  \n",
       "...            ...          ...     ...  \n",
       "9561         Green    Very Good   788.0  \n",
       "9562         Green    Very Good  1034.0  \n",
       "9563        Yellow         Good   661.0  \n",
       "9564         Green    Very Good   901.0  \n",
       "9565         Green    Very Good   591.0  \n",
       "\n",
       "[9566 rows x 22 columns]"
      ]
     },
     "execution_count": 7,
     "metadata": {},
     "output_type": "execute_result"
    }
   ],
   "source": [
    "df_zo"
   ]
  },
  {
   "cell_type": "markdown",
   "id": "2e8f5610",
   "metadata": {},
   "source": [
    " Zomato Data Analysis is for foodies who want to taste the bestcuisines of every part of the world in their budget, \n",
    "this analysis caters the needs of people who are striving to get the best cuisine of\n",
    "the country and which locality of that country serves that cuisines with maximum number of restaurants.\n",
    "This problem statement contains two datasets- Zomato.csv and country_code.csv.\n",
    "\n"
   ]
  },
  {
   "cell_type": "code",
   "execution_count": 8,
   "id": "aa354660",
   "metadata": {},
   "outputs": [
    {
     "data": {
      "text/html": [
       "<div>\n",
       "<style scoped>\n",
       "    .dataframe tbody tr th:only-of-type {\n",
       "        vertical-align: middle;\n",
       "    }\n",
       "\n",
       "    .dataframe tbody tr th {\n",
       "        vertical-align: top;\n",
       "    }\n",
       "\n",
       "    .dataframe thead th {\n",
       "        text-align: right;\n",
       "    }\n",
       "</style>\n",
       "<table border=\"1\" class=\"dataframe\">\n",
       "  <thead>\n",
       "    <tr style=\"text-align: right;\">\n",
       "      <th></th>\n",
       "      <th>Country Code</th>\n",
       "      <th>Country</th>\n",
       "      <th>Restaurant ID</th>\n",
       "      <th>Restaurant Name</th>\n",
       "      <th>City</th>\n",
       "      <th>Address</th>\n",
       "      <th>Locality</th>\n",
       "      <th>Locality Verbose</th>\n",
       "      <th>Longitude</th>\n",
       "      <th>Latitude</th>\n",
       "      <th>...</th>\n",
       "      <th>Currency</th>\n",
       "      <th>Has Table booking</th>\n",
       "      <th>Has Online delivery</th>\n",
       "      <th>Is delivering now</th>\n",
       "      <th>Switch to order menu</th>\n",
       "      <th>Price range</th>\n",
       "      <th>Aggregate rating</th>\n",
       "      <th>Rating color</th>\n",
       "      <th>Rating text</th>\n",
       "      <th>Votes</th>\n",
       "    </tr>\n",
       "  </thead>\n",
       "  <tbody>\n",
       "    <tr>\n",
       "      <th>0</th>\n",
       "      <td>1</td>\n",
       "      <td>India</td>\n",
       "      <td>NaN</td>\n",
       "      <td>NaN</td>\n",
       "      <td>NaN</td>\n",
       "      <td>NaN</td>\n",
       "      <td>NaN</td>\n",
       "      <td>NaN</td>\n",
       "      <td>NaN</td>\n",
       "      <td>NaN</td>\n",
       "      <td>...</td>\n",
       "      <td>NaN</td>\n",
       "      <td>NaN</td>\n",
       "      <td>NaN</td>\n",
       "      <td>NaN</td>\n",
       "      <td>NaN</td>\n",
       "      <td>NaN</td>\n",
       "      <td>NaN</td>\n",
       "      <td>NaN</td>\n",
       "      <td>NaN</td>\n",
       "      <td>NaN</td>\n",
       "    </tr>\n",
       "    <tr>\n",
       "      <th>1</th>\n",
       "      <td>14</td>\n",
       "      <td>Australia</td>\n",
       "      <td>NaN</td>\n",
       "      <td>NaN</td>\n",
       "      <td>NaN</td>\n",
       "      <td>NaN</td>\n",
       "      <td>NaN</td>\n",
       "      <td>NaN</td>\n",
       "      <td>NaN</td>\n",
       "      <td>NaN</td>\n",
       "      <td>...</td>\n",
       "      <td>NaN</td>\n",
       "      <td>NaN</td>\n",
       "      <td>NaN</td>\n",
       "      <td>NaN</td>\n",
       "      <td>NaN</td>\n",
       "      <td>NaN</td>\n",
       "      <td>NaN</td>\n",
       "      <td>NaN</td>\n",
       "      <td>NaN</td>\n",
       "      <td>NaN</td>\n",
       "    </tr>\n",
       "    <tr>\n",
       "      <th>2</th>\n",
       "      <td>30</td>\n",
       "      <td>Brazil</td>\n",
       "      <td>NaN</td>\n",
       "      <td>NaN</td>\n",
       "      <td>NaN</td>\n",
       "      <td>NaN</td>\n",
       "      <td>NaN</td>\n",
       "      <td>NaN</td>\n",
       "      <td>NaN</td>\n",
       "      <td>NaN</td>\n",
       "      <td>...</td>\n",
       "      <td>NaN</td>\n",
       "      <td>NaN</td>\n",
       "      <td>NaN</td>\n",
       "      <td>NaN</td>\n",
       "      <td>NaN</td>\n",
       "      <td>NaN</td>\n",
       "      <td>NaN</td>\n",
       "      <td>NaN</td>\n",
       "      <td>NaN</td>\n",
       "      <td>NaN</td>\n",
       "    </tr>\n",
       "    <tr>\n",
       "      <th>3</th>\n",
       "      <td>37</td>\n",
       "      <td>Canada</td>\n",
       "      <td>NaN</td>\n",
       "      <td>NaN</td>\n",
       "      <td>NaN</td>\n",
       "      <td>NaN</td>\n",
       "      <td>NaN</td>\n",
       "      <td>NaN</td>\n",
       "      <td>NaN</td>\n",
       "      <td>NaN</td>\n",
       "      <td>...</td>\n",
       "      <td>NaN</td>\n",
       "      <td>NaN</td>\n",
       "      <td>NaN</td>\n",
       "      <td>NaN</td>\n",
       "      <td>NaN</td>\n",
       "      <td>NaN</td>\n",
       "      <td>NaN</td>\n",
       "      <td>NaN</td>\n",
       "      <td>NaN</td>\n",
       "      <td>NaN</td>\n",
       "    </tr>\n",
       "    <tr>\n",
       "      <th>4</th>\n",
       "      <td>94</td>\n",
       "      <td>Indonesia</td>\n",
       "      <td>NaN</td>\n",
       "      <td>NaN</td>\n",
       "      <td>NaN</td>\n",
       "      <td>NaN</td>\n",
       "      <td>NaN</td>\n",
       "      <td>NaN</td>\n",
       "      <td>NaN</td>\n",
       "      <td>NaN</td>\n",
       "      <td>...</td>\n",
       "      <td>NaN</td>\n",
       "      <td>NaN</td>\n",
       "      <td>NaN</td>\n",
       "      <td>NaN</td>\n",
       "      <td>NaN</td>\n",
       "      <td>NaN</td>\n",
       "      <td>NaN</td>\n",
       "      <td>NaN</td>\n",
       "      <td>NaN</td>\n",
       "      <td>NaN</td>\n",
       "    </tr>\n",
       "  </tbody>\n",
       "</table>\n",
       "<p>5 rows × 22 columns</p>\n",
       "</div>"
      ],
      "text/plain": [
       "   Country Code    Country  Restaurant ID Restaurant Name City Address  \\\n",
       "0             1      India            NaN             NaN  NaN     NaN   \n",
       "1            14  Australia            NaN             NaN  NaN     NaN   \n",
       "2            30     Brazil            NaN             NaN  NaN     NaN   \n",
       "3            37     Canada            NaN             NaN  NaN     NaN   \n",
       "4            94  Indonesia            NaN             NaN  NaN     NaN   \n",
       "\n",
       "  Locality Locality Verbose  Longitude  Latitude  ... Currency  \\\n",
       "0      NaN              NaN        NaN       NaN  ...      NaN   \n",
       "1      NaN              NaN        NaN       NaN  ...      NaN   \n",
       "2      NaN              NaN        NaN       NaN  ...      NaN   \n",
       "3      NaN              NaN        NaN       NaN  ...      NaN   \n",
       "4      NaN              NaN        NaN       NaN  ...      NaN   \n",
       "\n",
       "   Has Table booking Has Online delivery Is delivering now  \\\n",
       "0                NaN                 NaN               NaN   \n",
       "1                NaN                 NaN               NaN   \n",
       "2                NaN                 NaN               NaN   \n",
       "3                NaN                 NaN               NaN   \n",
       "4                NaN                 NaN               NaN   \n",
       "\n",
       "  Switch to order menu Price range Aggregate rating  Rating color  \\\n",
       "0                  NaN         NaN              NaN           NaN   \n",
       "1                  NaN         NaN              NaN           NaN   \n",
       "2                  NaN         NaN              NaN           NaN   \n",
       "3                  NaN         NaN              NaN           NaN   \n",
       "4                  NaN         NaN              NaN           NaN   \n",
       "\n",
       "   Rating text Votes  \n",
       "0          NaN   NaN  \n",
       "1          NaN   NaN  \n",
       "2          NaN   NaN  \n",
       "3          NaN   NaN  \n",
       "4          NaN   NaN  \n",
       "\n",
       "[5 rows x 22 columns]"
      ]
     },
     "execution_count": 8,
     "metadata": {},
     "output_type": "execute_result"
    }
   ],
   "source": [
    "df_zo.head()"
   ]
  },
  {
   "cell_type": "markdown",
   "id": "95b39941",
   "metadata": {},
   "source": [
    "first five rows and columns"
   ]
  },
  {
   "cell_type": "code",
   "execution_count": 9,
   "id": "2a08eb08",
   "metadata": {},
   "outputs": [
    {
     "data": {
      "text/plain": [
       "(9566, 22)"
      ]
     },
     "execution_count": 9,
     "metadata": {},
     "output_type": "execute_result"
    }
   ],
   "source": [
    "df_zo.shape"
   ]
  },
  {
   "cell_type": "markdown",
   "id": "05c2ac81",
   "metadata": {},
   "source": [
    "This dataset contain total 9566 rows and 22 columns"
   ]
  },
  {
   "cell_type": "code",
   "execution_count": 10,
   "id": "068a9d7d",
   "metadata": {},
   "outputs": [
    {
     "data": {
      "text/plain": [
       "Index(['Country Code', 'Country', 'Restaurant ID', 'Restaurant Name', 'City',\n",
       "       'Address', 'Locality', 'Locality Verbose', 'Longitude', 'Latitude',\n",
       "       'Cuisines', 'Average Cost for two', 'Currency', 'Has Table booking',\n",
       "       'Has Online delivery', 'Is delivering now', 'Switch to order menu',\n",
       "       'Price range', 'Aggregate rating', 'Rating color', 'Rating text',\n",
       "       'Votes'],\n",
       "      dtype='object')"
      ]
     },
     "execution_count": 10,
     "metadata": {},
     "output_type": "execute_result"
    }
   ],
   "source": [
    "df_zo.columns"
   ]
  },
  {
   "cell_type": "markdown",
   "id": "01854ef5",
   "metadata": {},
   "source": [
    "name of all the columns present in the dataset."
   ]
  },
  {
   "cell_type": "code",
   "execution_count": 11,
   "id": "fcb3c1f3",
   "metadata": {},
   "outputs": [
    {
     "data": {
      "text/html": [
       "<div>\n",
       "<style scoped>\n",
       "    .dataframe tbody tr th:only-of-type {\n",
       "        vertical-align: middle;\n",
       "    }\n",
       "\n",
       "    .dataframe tbody tr th {\n",
       "        vertical-align: top;\n",
       "    }\n",
       "\n",
       "    .dataframe thead th {\n",
       "        text-align: right;\n",
       "    }\n",
       "</style>\n",
       "<table border=\"1\" class=\"dataframe\">\n",
       "  <thead>\n",
       "    <tr style=\"text-align: right;\">\n",
       "      <th></th>\n",
       "      <th>No of unique values</th>\n",
       "    </tr>\n",
       "  </thead>\n",
       "  <tbody>\n",
       "    <tr>\n",
       "      <th>Country Code</th>\n",
       "      <td>15</td>\n",
       "    </tr>\n",
       "    <tr>\n",
       "      <th>Country</th>\n",
       "      <td>15</td>\n",
       "    </tr>\n",
       "    <tr>\n",
       "      <th>Restaurant ID</th>\n",
       "      <td>9551</td>\n",
       "    </tr>\n",
       "    <tr>\n",
       "      <th>Restaurant Name</th>\n",
       "      <td>7446</td>\n",
       "    </tr>\n",
       "    <tr>\n",
       "      <th>City</th>\n",
       "      <td>141</td>\n",
       "    </tr>\n",
       "    <tr>\n",
       "      <th>Address</th>\n",
       "      <td>8918</td>\n",
       "    </tr>\n",
       "    <tr>\n",
       "      <th>Locality</th>\n",
       "      <td>1208</td>\n",
       "    </tr>\n",
       "    <tr>\n",
       "      <th>Locality Verbose</th>\n",
       "      <td>1265</td>\n",
       "    </tr>\n",
       "    <tr>\n",
       "      <th>Longitude</th>\n",
       "      <td>8120</td>\n",
       "    </tr>\n",
       "    <tr>\n",
       "      <th>Latitude</th>\n",
       "      <td>8677</td>\n",
       "    </tr>\n",
       "    <tr>\n",
       "      <th>Cuisines</th>\n",
       "      <td>1825</td>\n",
       "    </tr>\n",
       "    <tr>\n",
       "      <th>Average Cost for two</th>\n",
       "      <td>140</td>\n",
       "    </tr>\n",
       "    <tr>\n",
       "      <th>Currency</th>\n",
       "      <td>12</td>\n",
       "    </tr>\n",
       "    <tr>\n",
       "      <th>Has Table booking</th>\n",
       "      <td>2</td>\n",
       "    </tr>\n",
       "    <tr>\n",
       "      <th>Has Online delivery</th>\n",
       "      <td>2</td>\n",
       "    </tr>\n",
       "    <tr>\n",
       "      <th>Is delivering now</th>\n",
       "      <td>2</td>\n",
       "    </tr>\n",
       "    <tr>\n",
       "      <th>Switch to order menu</th>\n",
       "      <td>1</td>\n",
       "    </tr>\n",
       "    <tr>\n",
       "      <th>Price range</th>\n",
       "      <td>4</td>\n",
       "    </tr>\n",
       "    <tr>\n",
       "      <th>Aggregate rating</th>\n",
       "      <td>33</td>\n",
       "    </tr>\n",
       "    <tr>\n",
       "      <th>Rating color</th>\n",
       "      <td>6</td>\n",
       "    </tr>\n",
       "    <tr>\n",
       "      <th>Rating text</th>\n",
       "      <td>6</td>\n",
       "    </tr>\n",
       "    <tr>\n",
       "      <th>Votes</th>\n",
       "      <td>1012</td>\n",
       "    </tr>\n",
       "  </tbody>\n",
       "</table>\n",
       "</div>"
      ],
      "text/plain": [
       "                      No of unique values\n",
       "Country Code                           15\n",
       "Country                                15\n",
       "Restaurant ID                        9551\n",
       "Restaurant Name                      7446\n",
       "City                                  141\n",
       "Address                              8918\n",
       "Locality                             1208\n",
       "Locality Verbose                     1265\n",
       "Longitude                            8120\n",
       "Latitude                             8677\n",
       "Cuisines                             1825\n",
       "Average Cost for two                  140\n",
       "Currency                               12\n",
       "Has Table booking                       2\n",
       "Has Online delivery                     2\n",
       "Is delivering now                       2\n",
       "Switch to order menu                    1\n",
       "Price range                             4\n",
       "Aggregate rating                       33\n",
       "Rating color                            6\n",
       "Rating text                             6\n",
       "Votes                                1012"
      ]
     },
     "execution_count": 11,
     "metadata": {},
     "output_type": "execute_result"
    }
   ],
   "source": [
    "df_zo.nunique().to_frame('No of unique values')"
   ]
  },
  {
   "cell_type": "markdown",
   "id": "c59d6ef3",
   "metadata": {},
   "source": [
    "This are the unique values present in each column."
   ]
  },
  {
   "cell_type": "code",
   "execution_count": 12,
   "id": "e2ca8ce6",
   "metadata": {},
   "outputs": [
    {
     "name": "stdout",
     "output_type": "stream",
     "text": [
      "<class 'pandas.core.frame.DataFrame'>\n",
      "RangeIndex: 9566 entries, 0 to 9565\n",
      "Data columns (total 22 columns):\n",
      " #   Column                Non-Null Count  Dtype  \n",
      "---  ------                --------------  -----  \n",
      " 0   Country Code          9566 non-null   int64  \n",
      " 1   Country               15 non-null     object \n",
      " 2   Restaurant ID         9551 non-null   float64\n",
      " 3   Restaurant Name       9551 non-null   object \n",
      " 4   City                  9551 non-null   object \n",
      " 5   Address               9551 non-null   object \n",
      " 6   Locality              9551 non-null   object \n",
      " 7   Locality Verbose      9551 non-null   object \n",
      " 8   Longitude             9551 non-null   float64\n",
      " 9   Latitude              9551 non-null   float64\n",
      " 10  Cuisines              9542 non-null   object \n",
      " 11  Average Cost for two  9551 non-null   float64\n",
      " 12  Currency              9551 non-null   object \n",
      " 13  Has Table booking     9551 non-null   object \n",
      " 14  Has Online delivery   9551 non-null   object \n",
      " 15  Is delivering now     9551 non-null   object \n",
      " 16  Switch to order menu  9551 non-null   object \n",
      " 17  Price range           9551 non-null   float64\n",
      " 18  Aggregate rating      9551 non-null   float64\n",
      " 19  Rating color          9551 non-null   object \n",
      " 20  Rating text           9551 non-null   object \n",
      " 21  Votes                 9551 non-null   float64\n",
      "dtypes: float64(7), int64(1), object(14)\n",
      "memory usage: 1.6+ MB\n"
     ]
    }
   ],
   "source": [
    "df_zo.info()"
   ]
  },
  {
   "cell_type": "markdown",
   "id": "633ac412",
   "metadata": {},
   "source": [
    "This shows the dtype, null values and total columns.\n",
    "there are 7 float, 1 int and 14 object dtype.\n",
    "This shows that there are missing values in the columns."
   ]
  },
  {
   "cell_type": "code",
   "execution_count": 13,
   "id": "227a58f7",
   "metadata": {
    "scrolled": true
   },
   "outputs": [
    {
     "data": {
      "text/plain": [
       "Country Code               0\n",
       "Country                 9551\n",
       "Restaurant ID             15\n",
       "Restaurant Name           15\n",
       "City                      15\n",
       "Address                   15\n",
       "Locality                  15\n",
       "Locality Verbose          15\n",
       "Longitude                 15\n",
       "Latitude                  15\n",
       "Cuisines                  24\n",
       "Average Cost for two      15\n",
       "Currency                  15\n",
       "Has Table booking         15\n",
       "Has Online delivery       15\n",
       "Is delivering now         15\n",
       "Switch to order menu      15\n",
       "Price range               15\n",
       "Aggregate rating          15\n",
       "Rating color              15\n",
       "Rating text               15\n",
       "Votes                     15\n",
       "dtype: int64"
      ]
     },
     "execution_count": 13,
     "metadata": {},
     "output_type": "execute_result"
    }
   ],
   "source": [
    "df_zo.isnull().sum()"
   ]
  },
  {
   "cell_type": "markdown",
   "id": "fd3c79cc",
   "metadata": {},
   "source": [
    "this are the count of missing values present in each column."
   ]
  },
  {
   "cell_type": "code",
   "execution_count": 14,
   "id": "77022adc",
   "metadata": {},
   "outputs": [],
   "source": [
    "#filling the null values\n",
    "df_zo=df_zo.fillna(0)"
   ]
  },
  {
   "cell_type": "code",
   "execution_count": 15,
   "id": "7181b0c2",
   "metadata": {},
   "outputs": [
    {
     "data": {
      "text/html": [
       "<div>\n",
       "<style scoped>\n",
       "    .dataframe tbody tr th:only-of-type {\n",
       "        vertical-align: middle;\n",
       "    }\n",
       "\n",
       "    .dataframe tbody tr th {\n",
       "        vertical-align: top;\n",
       "    }\n",
       "\n",
       "    .dataframe thead th {\n",
       "        text-align: right;\n",
       "    }\n",
       "</style>\n",
       "<table border=\"1\" class=\"dataframe\">\n",
       "  <thead>\n",
       "    <tr style=\"text-align: right;\">\n",
       "      <th></th>\n",
       "      <th>Country Code</th>\n",
       "      <th>Country</th>\n",
       "      <th>Restaurant ID</th>\n",
       "      <th>Restaurant Name</th>\n",
       "      <th>City</th>\n",
       "      <th>Address</th>\n",
       "      <th>Locality</th>\n",
       "      <th>Locality Verbose</th>\n",
       "      <th>Longitude</th>\n",
       "      <th>Latitude</th>\n",
       "      <th>...</th>\n",
       "      <th>Currency</th>\n",
       "      <th>Has Table booking</th>\n",
       "      <th>Has Online delivery</th>\n",
       "      <th>Is delivering now</th>\n",
       "      <th>Switch to order menu</th>\n",
       "      <th>Price range</th>\n",
       "      <th>Aggregate rating</th>\n",
       "      <th>Rating color</th>\n",
       "      <th>Rating text</th>\n",
       "      <th>Votes</th>\n",
       "    </tr>\n",
       "  </thead>\n",
       "  <tbody>\n",
       "    <tr>\n",
       "      <th>0</th>\n",
       "      <td>1</td>\n",
       "      <td>India</td>\n",
       "      <td>0.0</td>\n",
       "      <td>0</td>\n",
       "      <td>0</td>\n",
       "      <td>0</td>\n",
       "      <td>0</td>\n",
       "      <td>0</td>\n",
       "      <td>0.000000</td>\n",
       "      <td>0.000000</td>\n",
       "      <td>...</td>\n",
       "      <td>0</td>\n",
       "      <td>0</td>\n",
       "      <td>0</td>\n",
       "      <td>0</td>\n",
       "      <td>0</td>\n",
       "      <td>0.0</td>\n",
       "      <td>0.0</td>\n",
       "      <td>0</td>\n",
       "      <td>0</td>\n",
       "      <td>0.0</td>\n",
       "    </tr>\n",
       "    <tr>\n",
       "      <th>1</th>\n",
       "      <td>14</td>\n",
       "      <td>Australia</td>\n",
       "      <td>0.0</td>\n",
       "      <td>0</td>\n",
       "      <td>0</td>\n",
       "      <td>0</td>\n",
       "      <td>0</td>\n",
       "      <td>0</td>\n",
       "      <td>0.000000</td>\n",
       "      <td>0.000000</td>\n",
       "      <td>...</td>\n",
       "      <td>0</td>\n",
       "      <td>0</td>\n",
       "      <td>0</td>\n",
       "      <td>0</td>\n",
       "      <td>0</td>\n",
       "      <td>0.0</td>\n",
       "      <td>0.0</td>\n",
       "      <td>0</td>\n",
       "      <td>0</td>\n",
       "      <td>0.0</td>\n",
       "    </tr>\n",
       "    <tr>\n",
       "      <th>2</th>\n",
       "      <td>30</td>\n",
       "      <td>Brazil</td>\n",
       "      <td>0.0</td>\n",
       "      <td>0</td>\n",
       "      <td>0</td>\n",
       "      <td>0</td>\n",
       "      <td>0</td>\n",
       "      <td>0</td>\n",
       "      <td>0.000000</td>\n",
       "      <td>0.000000</td>\n",
       "      <td>...</td>\n",
       "      <td>0</td>\n",
       "      <td>0</td>\n",
       "      <td>0</td>\n",
       "      <td>0</td>\n",
       "      <td>0</td>\n",
       "      <td>0.0</td>\n",
       "      <td>0.0</td>\n",
       "      <td>0</td>\n",
       "      <td>0</td>\n",
       "      <td>0.0</td>\n",
       "    </tr>\n",
       "    <tr>\n",
       "      <th>3</th>\n",
       "      <td>37</td>\n",
       "      <td>Canada</td>\n",
       "      <td>0.0</td>\n",
       "      <td>0</td>\n",
       "      <td>0</td>\n",
       "      <td>0</td>\n",
       "      <td>0</td>\n",
       "      <td>0</td>\n",
       "      <td>0.000000</td>\n",
       "      <td>0.000000</td>\n",
       "      <td>...</td>\n",
       "      <td>0</td>\n",
       "      <td>0</td>\n",
       "      <td>0</td>\n",
       "      <td>0</td>\n",
       "      <td>0</td>\n",
       "      <td>0.0</td>\n",
       "      <td>0.0</td>\n",
       "      <td>0</td>\n",
       "      <td>0</td>\n",
       "      <td>0.0</td>\n",
       "    </tr>\n",
       "    <tr>\n",
       "      <th>4</th>\n",
       "      <td>94</td>\n",
       "      <td>Indonesia</td>\n",
       "      <td>0.0</td>\n",
       "      <td>0</td>\n",
       "      <td>0</td>\n",
       "      <td>0</td>\n",
       "      <td>0</td>\n",
       "      <td>0</td>\n",
       "      <td>0.000000</td>\n",
       "      <td>0.000000</td>\n",
       "      <td>...</td>\n",
       "      <td>0</td>\n",
       "      <td>0</td>\n",
       "      <td>0</td>\n",
       "      <td>0</td>\n",
       "      <td>0</td>\n",
       "      <td>0.0</td>\n",
       "      <td>0.0</td>\n",
       "      <td>0</td>\n",
       "      <td>0</td>\n",
       "      <td>0.0</td>\n",
       "    </tr>\n",
       "    <tr>\n",
       "      <th>...</th>\n",
       "      <td>...</td>\n",
       "      <td>...</td>\n",
       "      <td>...</td>\n",
       "      <td>...</td>\n",
       "      <td>...</td>\n",
       "      <td>...</td>\n",
       "      <td>...</td>\n",
       "      <td>...</td>\n",
       "      <td>...</td>\n",
       "      <td>...</td>\n",
       "      <td>...</td>\n",
       "      <td>...</td>\n",
       "      <td>...</td>\n",
       "      <td>...</td>\n",
       "      <td>...</td>\n",
       "      <td>...</td>\n",
       "      <td>...</td>\n",
       "      <td>...</td>\n",
       "      <td>...</td>\n",
       "      <td>...</td>\n",
       "      <td>...</td>\n",
       "    </tr>\n",
       "    <tr>\n",
       "      <th>9561</th>\n",
       "      <td>208</td>\n",
       "      <td>0</td>\n",
       "      <td>5915730.0</td>\n",
       "      <td>NamlÛ± Gurme</td>\n",
       "      <td>ÛÁstanbul</td>\n",
       "      <td>Kemankeô Karamustafa Paôa Mahallesi, RÛ±htÛ±...</td>\n",
       "      <td>Karakí_y</td>\n",
       "      <td>Karakí_y, ÛÁstanbul</td>\n",
       "      <td>28.977392</td>\n",
       "      <td>41.022793</td>\n",
       "      <td>...</td>\n",
       "      <td>Turkish Lira(TL)</td>\n",
       "      <td>No</td>\n",
       "      <td>No</td>\n",
       "      <td>No</td>\n",
       "      <td>No</td>\n",
       "      <td>3.0</td>\n",
       "      <td>4.1</td>\n",
       "      <td>Green</td>\n",
       "      <td>Very Good</td>\n",
       "      <td>788.0</td>\n",
       "    </tr>\n",
       "    <tr>\n",
       "      <th>9562</th>\n",
       "      <td>208</td>\n",
       "      <td>0</td>\n",
       "      <td>5908749.0</td>\n",
       "      <td>Ceviz AÛôacÛ±</td>\n",
       "      <td>ÛÁstanbul</td>\n",
       "      <td>Koôuyolu Mahallesi, Muhittin íìstí_ndaÛô Cadd...</td>\n",
       "      <td>Koôuyolu</td>\n",
       "      <td>Koôuyolu, ÛÁstanbul</td>\n",
       "      <td>29.041297</td>\n",
       "      <td>41.009847</td>\n",
       "      <td>...</td>\n",
       "      <td>Turkish Lira(TL)</td>\n",
       "      <td>No</td>\n",
       "      <td>No</td>\n",
       "      <td>No</td>\n",
       "      <td>No</td>\n",
       "      <td>3.0</td>\n",
       "      <td>4.2</td>\n",
       "      <td>Green</td>\n",
       "      <td>Very Good</td>\n",
       "      <td>1034.0</td>\n",
       "    </tr>\n",
       "    <tr>\n",
       "      <th>9563</th>\n",
       "      <td>208</td>\n",
       "      <td>0</td>\n",
       "      <td>5915807.0</td>\n",
       "      <td>Huqqa</td>\n",
       "      <td>ÛÁstanbul</td>\n",
       "      <td>Kuruí_eôme Mahallesi, Muallim Naci Caddesi, N...</td>\n",
       "      <td>Kuruí_eôme</td>\n",
       "      <td>Kuruí_eôme, ÛÁstanbul</td>\n",
       "      <td>29.034640</td>\n",
       "      <td>41.055817</td>\n",
       "      <td>...</td>\n",
       "      <td>Turkish Lira(TL)</td>\n",
       "      <td>No</td>\n",
       "      <td>No</td>\n",
       "      <td>No</td>\n",
       "      <td>No</td>\n",
       "      <td>4.0</td>\n",
       "      <td>3.7</td>\n",
       "      <td>Yellow</td>\n",
       "      <td>Good</td>\n",
       "      <td>661.0</td>\n",
       "    </tr>\n",
       "    <tr>\n",
       "      <th>9564</th>\n",
       "      <td>208</td>\n",
       "      <td>0</td>\n",
       "      <td>5916112.0</td>\n",
       "      <td>Aôôk Kahve</td>\n",
       "      <td>ÛÁstanbul</td>\n",
       "      <td>Kuruí_eôme Mahallesi, Muallim Naci Caddesi, N...</td>\n",
       "      <td>Kuruí_eôme</td>\n",
       "      <td>Kuruí_eôme, ÛÁstanbul</td>\n",
       "      <td>29.036019</td>\n",
       "      <td>41.057979</td>\n",
       "      <td>...</td>\n",
       "      <td>Turkish Lira(TL)</td>\n",
       "      <td>No</td>\n",
       "      <td>No</td>\n",
       "      <td>No</td>\n",
       "      <td>No</td>\n",
       "      <td>4.0</td>\n",
       "      <td>4.0</td>\n",
       "      <td>Green</td>\n",
       "      <td>Very Good</td>\n",
       "      <td>901.0</td>\n",
       "    </tr>\n",
       "    <tr>\n",
       "      <th>9565</th>\n",
       "      <td>208</td>\n",
       "      <td>0</td>\n",
       "      <td>5927402.0</td>\n",
       "      <td>Walter's Coffee Roastery</td>\n",
       "      <td>ÛÁstanbul</td>\n",
       "      <td>CafeaÛôa Mahallesi, BademaltÛ± Sokak, No 21/B,...</td>\n",
       "      <td>Moda</td>\n",
       "      <td>Moda, ÛÁstanbul</td>\n",
       "      <td>29.026016</td>\n",
       "      <td>40.984776</td>\n",
       "      <td>...</td>\n",
       "      <td>Turkish Lira(TL)</td>\n",
       "      <td>No</td>\n",
       "      <td>No</td>\n",
       "      <td>No</td>\n",
       "      <td>No</td>\n",
       "      <td>2.0</td>\n",
       "      <td>4.0</td>\n",
       "      <td>Green</td>\n",
       "      <td>Very Good</td>\n",
       "      <td>591.0</td>\n",
       "    </tr>\n",
       "  </tbody>\n",
       "</table>\n",
       "<p>9566 rows × 22 columns</p>\n",
       "</div>"
      ],
      "text/plain": [
       "      Country Code    Country  Restaurant ID           Restaurant Name  \\\n",
       "0                1      India            0.0                         0   \n",
       "1               14  Australia            0.0                         0   \n",
       "2               30     Brazil            0.0                         0   \n",
       "3               37     Canada            0.0                         0   \n",
       "4               94  Indonesia            0.0                         0   \n",
       "...            ...        ...            ...                       ...   \n",
       "9561           208          0      5915730.0              NamlÛ± Gurme   \n",
       "9562           208          0      5908749.0             Ceviz AÛôacÛ±   \n",
       "9563           208          0      5915807.0                     Huqqa   \n",
       "9564           208          0      5916112.0              Aôôk Kahve   \n",
       "9565           208          0      5927402.0  Walter's Coffee Roastery   \n",
       "\n",
       "           City                                            Address  \\\n",
       "0             0                                                  0   \n",
       "1             0                                                  0   \n",
       "2             0                                                  0   \n",
       "3             0                                                  0   \n",
       "4             0                                                  0   \n",
       "...         ...                                                ...   \n",
       "9561  ÛÁstanbul  Kemankeô Karamustafa Paôa Mahallesi, RÛ±htÛ±...   \n",
       "9562  ÛÁstanbul  Koôuyolu Mahallesi, Muhittin íìstí_ndaÛô Cadd...   \n",
       "9563  ÛÁstanbul  Kuruí_eôme Mahallesi, Muallim Naci Caddesi, N...   \n",
       "9564  ÛÁstanbul  Kuruí_eôme Mahallesi, Muallim Naci Caddesi, N...   \n",
       "9565  ÛÁstanbul  CafeaÛôa Mahallesi, BademaltÛ± Sokak, No 21/B,...   \n",
       "\n",
       "         Locality        Locality Verbose  Longitude   Latitude  ...  \\\n",
       "0               0                       0   0.000000   0.000000  ...   \n",
       "1               0                       0   0.000000   0.000000  ...   \n",
       "2               0                       0   0.000000   0.000000  ...   \n",
       "3               0                       0   0.000000   0.000000  ...   \n",
       "4               0                       0   0.000000   0.000000  ...   \n",
       "...           ...                     ...        ...        ...  ...   \n",
       "9561     Karakí_y     Karakí_y, ÛÁstanbul  28.977392  41.022793  ...   \n",
       "9562    Koôuyolu    Koôuyolu, ÛÁstanbul  29.041297  41.009847  ...   \n",
       "9563  Kuruí_eôme  Kuruí_eôme, ÛÁstanbul  29.034640  41.055817  ...   \n",
       "9564  Kuruí_eôme  Kuruí_eôme, ÛÁstanbul  29.036019  41.057979  ...   \n",
       "9565         Moda         Moda, ÛÁstanbul  29.026016  40.984776  ...   \n",
       "\n",
       "              Currency  Has Table booking Has Online delivery  \\\n",
       "0                    0                  0                   0   \n",
       "1                    0                  0                   0   \n",
       "2                    0                  0                   0   \n",
       "3                    0                  0                   0   \n",
       "4                    0                  0                   0   \n",
       "...                ...                ...                 ...   \n",
       "9561  Turkish Lira(TL)                 No                  No   \n",
       "9562  Turkish Lira(TL)                 No                  No   \n",
       "9563  Turkish Lira(TL)                 No                  No   \n",
       "9564  Turkish Lira(TL)                 No                  No   \n",
       "9565  Turkish Lira(TL)                 No                  No   \n",
       "\n",
       "     Is delivering now Switch to order menu Price range Aggregate rating  \\\n",
       "0                    0                    0         0.0              0.0   \n",
       "1                    0                    0         0.0              0.0   \n",
       "2                    0                    0         0.0              0.0   \n",
       "3                    0                    0         0.0              0.0   \n",
       "4                    0                    0         0.0              0.0   \n",
       "...                ...                  ...         ...              ...   \n",
       "9561                No                   No         3.0              4.1   \n",
       "9562                No                   No         3.0              4.2   \n",
       "9563                No                   No         4.0              3.7   \n",
       "9564                No                   No         4.0              4.0   \n",
       "9565                No                   No         2.0              4.0   \n",
       "\n",
       "      Rating color  Rating text   Votes  \n",
       "0                0            0     0.0  \n",
       "1                0            0     0.0  \n",
       "2                0            0     0.0  \n",
       "3                0            0     0.0  \n",
       "4                0            0     0.0  \n",
       "...            ...          ...     ...  \n",
       "9561         Green    Very Good   788.0  \n",
       "9562         Green    Very Good  1034.0  \n",
       "9563        Yellow         Good   661.0  \n",
       "9564         Green    Very Good   901.0  \n",
       "9565         Green    Very Good   591.0  \n",
       "\n",
       "[9566 rows x 22 columns]"
      ]
     },
     "execution_count": 15,
     "metadata": {},
     "output_type": "execute_result"
    }
   ],
   "source": [
    "df_zo"
   ]
  },
  {
   "cell_type": "markdown",
   "id": "52edc480",
   "metadata": {},
   "source": [
    "filling all the null values with 0."
   ]
  },
  {
   "cell_type": "code",
   "execution_count": 16,
   "id": "504e5e88",
   "metadata": {},
   "outputs": [
    {
     "data": {
      "text/plain": [
       "<Axes: >"
      ]
     },
     "execution_count": 16,
     "metadata": {},
     "output_type": "execute_result"
    },
    {
     "data": {
      "image/png": "[encoded data removed]",
      "text/plain": [
       "<Figure size 640x480 with 1 Axes>"
      ]
     },
     "metadata": {},
     "output_type": "display_data"
    }
   ],
   "source": [
    "#dropping of duplicates values\n",
    "df_zo.drop_duplicates(inplace=True)\n",
    "sns.boxplot(df_zo)"
   ]
  },
  {
   "cell_type": "code",
   "execution_count": 17,
   "id": "36325af8",
   "metadata": {},
   "outputs": [
    {
     "data": {
      "text/plain": [
       "0"
      ]
     },
     "execution_count": 17,
     "metadata": {},
     "output_type": "execute_result"
    }
   ],
   "source": [
    "df_zo.duplicated().sum()"
   ]
  },
  {
   "cell_type": "markdown",
   "id": "8f0bd2d9",
   "metadata": {},
   "source": [
    "we can see that there are no duplicate values."
   ]
  },
  {
   "cell_type": "code",
   "execution_count": 18,
   "id": "b673b303",
   "metadata": {},
   "outputs": [
    {
     "data": {
      "text/plain": [
       "<Axes: >"
      ]
     },
     "execution_count": 18,
     "metadata": {},
     "output_type": "execute_result"
    },
    {
     "data": {
      "image/png": "[encoded data removed]",
      "text/plain": [
       "<Figure size 640x480 with 2 Axes>"
      ]
     },
     "metadata": {},
     "output_type": "display_data"
    }
   ],
   "source": [
    "sns.heatmap(df_zo.isnull())"
   ]
  },
  {
   "cell_type": "markdown",
   "id": "763fd767",
   "metadata": {},
   "source": [
    "After filling all the null values we can see that there are no null values with the help of heatmap.\n",
    "As it contain one colour (bright red) which is shown on the scale that is not negative so that means it has no null values."
   ]
  },
  {
   "cell_type": "code",
   "execution_count": 19,
   "id": "8727a6bb",
   "metadata": {},
   "outputs": [
    {
     "data": {
      "text/html": [
       "<div>\n",
       "<style scoped>\n",
       "    .dataframe tbody tr th:only-of-type {\n",
       "        vertical-align: middle;\n",
       "    }\n",
       "\n",
       "    .dataframe tbody tr th {\n",
       "        vertical-align: top;\n",
       "    }\n",
       "\n",
       "    .dataframe thead th {\n",
       "        text-align: right;\n",
       "    }\n",
       "</style>\n",
       "<table border=\"1\" class=\"dataframe\">\n",
       "  <thead>\n",
       "    <tr style=\"text-align: right;\">\n",
       "      <th></th>\n",
       "      <th>Country Code</th>\n",
       "      <th>Restaurant ID</th>\n",
       "      <th>Longitude</th>\n",
       "      <th>Latitude</th>\n",
       "      <th>Average Cost for two</th>\n",
       "      <th>Price range</th>\n",
       "      <th>Aggregate rating</th>\n",
       "      <th>Votes</th>\n",
       "    </tr>\n",
       "  </thead>\n",
       "  <tbody>\n",
       "    <tr>\n",
       "      <th>count</th>\n",
       "      <td>9566.000000</td>\n",
       "      <td>9.566000e+03</td>\n",
       "      <td>9566.000000</td>\n",
       "      <td>9566.000000</td>\n",
       "      <td>9566.000000</td>\n",
       "      <td>9566.000000</td>\n",
       "      <td>9566.000000</td>\n",
       "      <td>9566.000000</td>\n",
       "    </tr>\n",
       "    <tr>\n",
       "      <th>mean</th>\n",
       "      <td>18.553105</td>\n",
       "      <td>9.036936e+06</td>\n",
       "      <td>64.026021</td>\n",
       "      <td>25.813840</td>\n",
       "      <td>1197.330337</td>\n",
       "      <td>1.802007</td>\n",
       "      <td>2.662189</td>\n",
       "      <td>156.663705</td>\n",
       "    </tr>\n",
       "    <tr>\n",
       "      <th>std</th>\n",
       "      <td>56.985333</td>\n",
       "      <td>8.791923e+06</td>\n",
       "      <td>41.512155</td>\n",
       "      <td>11.046775</td>\n",
       "      <td>16108.607246</td>\n",
       "      <td>0.907712</td>\n",
       "      <td>1.518857</td>\n",
       "      <td>429.876554</td>\n",
       "    </tr>\n",
       "    <tr>\n",
       "      <th>min</th>\n",
       "      <td>1.000000</td>\n",
       "      <td>0.000000e+00</td>\n",
       "      <td>-157.948486</td>\n",
       "      <td>-41.330428</td>\n",
       "      <td>0.000000</td>\n",
       "      <td>0.000000</td>\n",
       "      <td>0.000000</td>\n",
       "      <td>0.000000</td>\n",
       "    </tr>\n",
       "    <tr>\n",
       "      <th>25%</th>\n",
       "      <td>1.000000</td>\n",
       "      <td>3.018882e+05</td>\n",
       "      <td>77.081065</td>\n",
       "      <td>28.478035</td>\n",
       "      <td>250.000000</td>\n",
       "      <td>1.000000</td>\n",
       "      <td>2.500000</td>\n",
       "      <td>5.000000</td>\n",
       "    </tr>\n",
       "    <tr>\n",
       "      <th>50%</th>\n",
       "      <td>1.000000</td>\n",
       "      <td>6.001752e+06</td>\n",
       "      <td>77.191820</td>\n",
       "      <td>28.570360</td>\n",
       "      <td>400.000000</td>\n",
       "      <td>2.000000</td>\n",
       "      <td>3.200000</td>\n",
       "      <td>31.000000</td>\n",
       "    </tr>\n",
       "    <tr>\n",
       "      <th>75%</th>\n",
       "      <td>1.000000</td>\n",
       "      <td>1.835228e+07</td>\n",
       "      <td>77.281702</td>\n",
       "      <td>28.642718</td>\n",
       "      <td>700.000000</td>\n",
       "      <td>2.000000</td>\n",
       "      <td>3.700000</td>\n",
       "      <td>130.000000</td>\n",
       "    </tr>\n",
       "    <tr>\n",
       "      <th>max</th>\n",
       "      <td>216.000000</td>\n",
       "      <td>1.850065e+07</td>\n",
       "      <td>174.832089</td>\n",
       "      <td>55.976980</td>\n",
       "      <td>800000.000000</td>\n",
       "      <td>4.000000</td>\n",
       "      <td>4.900000</td>\n",
       "      <td>10934.000000</td>\n",
       "    </tr>\n",
       "  </tbody>\n",
       "</table>\n",
       "</div>"
      ],
      "text/plain": [
       "       Country Code  Restaurant ID    Longitude     Latitude  \\\n",
       "count   9566.000000   9.566000e+03  9566.000000  9566.000000   \n",
       "mean      18.553105   9.036936e+06    64.026021    25.813840   \n",
       "std       56.985333   8.791923e+06    41.512155    11.046775   \n",
       "min        1.000000   0.000000e+00  -157.948486   -41.330428   \n",
       "25%        1.000000   3.018882e+05    77.081065    28.478035   \n",
       "50%        1.000000   6.001752e+06    77.191820    28.570360   \n",
       "75%        1.000000   1.835228e+07    77.281702    28.642718   \n",
       "max      216.000000   1.850065e+07   174.832089    55.976980   \n",
       "\n",
       "       Average Cost for two  Price range  Aggregate rating         Votes  \n",
       "count           9566.000000  9566.000000       9566.000000   9566.000000  \n",
       "mean            1197.330337     1.802007          2.662189    156.663705  \n",
       "std            16108.607246     0.907712          1.518857    429.876554  \n",
       "min                0.000000     0.000000          0.000000      0.000000  \n",
       "25%              250.000000     1.000000          2.500000      5.000000  \n",
       "50%              400.000000     2.000000          3.200000     31.000000  \n",
       "75%              700.000000     2.000000          3.700000    130.000000  \n",
       "max           800000.000000     4.000000          4.900000  10934.000000  "
      ]
     },
     "execution_count": 19,
     "metadata": {},
     "output_type": "execute_result"
    }
   ],
   "source": [
    "df_zo.describe()"
   ]
  },
  {
   "cell_type": "markdown",
   "id": "7eeca089",
   "metadata": {},
   "source": [
    "#This shows the statistical information of the numerical columns.\n",
    "It has no negative values from the above abservation we can say that-\n",
    "\n",
    "The count of all columns are same that means it has no missing values. \n",
    "The median(50%) value is greater than mean in most of the columns, which means data is skewed to the left. \n",
    "There is huge difference between the max and 75% so there are outliers present in the data. \n",
    "The standard deviation,25% percentile value and min can be notice by this describe method."
   ]
  },
  {
   "cell_type": "code",
   "execution_count": 20,
   "id": "9dfd5c0f",
   "metadata": {},
   "outputs": [
    {
     "data": {
      "text/html": [
       "<div>\n",
       "<style scoped>\n",
       "    .dataframe tbody tr th:only-of-type {\n",
       "        vertical-align: middle;\n",
       "    }\n",
       "\n",
       "    .dataframe tbody tr th {\n",
       "        vertical-align: top;\n",
       "    }\n",
       "\n",
       "    .dataframe thead th {\n",
       "        text-align: right;\n",
       "    }\n",
       "</style>\n",
       "<table border=\"1\" class=\"dataframe\">\n",
       "  <thead>\n",
       "    <tr style=\"text-align: right;\">\n",
       "      <th></th>\n",
       "      <th>Country Code</th>\n",
       "      <th>Restaurant ID</th>\n",
       "      <th>Longitude</th>\n",
       "      <th>Latitude</th>\n",
       "      <th>Average Cost for two</th>\n",
       "      <th>Price range</th>\n",
       "      <th>Aggregate rating</th>\n",
       "      <th>Votes</th>\n",
       "    </tr>\n",
       "  </thead>\n",
       "  <tbody>\n",
       "    <tr>\n",
       "      <th>Country Code</th>\n",
       "      <td>1.000000</td>\n",
       "      <td>0.144238</td>\n",
       "      <td>-0.698652</td>\n",
       "      <td>0.011921</td>\n",
       "      <td>0.042768</td>\n",
       "      <td>0.234851</td>\n",
       "      <td>0.274360</td>\n",
       "      <td>0.152557</td>\n",
       "    </tr>\n",
       "    <tr>\n",
       "      <th>Restaurant ID</th>\n",
       "      <td>0.144238</td>\n",
       "      <td>1.000000</td>\n",
       "      <td>-0.222981</td>\n",
       "      <td>-0.048041</td>\n",
       "      <td>-0.001572</td>\n",
       "      <td>-0.130807</td>\n",
       "      <td>-0.322324</td>\n",
       "      <td>-0.146297</td>\n",
       "    </tr>\n",
       "    <tr>\n",
       "      <th>Longitude</th>\n",
       "      <td>-0.698652</td>\n",
       "      <td>-0.222981</td>\n",
       "      <td>1.000000</td>\n",
       "      <td>0.048602</td>\n",
       "      <td>0.045985</td>\n",
       "      <td>-0.073737</td>\n",
       "      <td>-0.112071</td>\n",
       "      <td>-0.084051</td>\n",
       "    </tr>\n",
       "    <tr>\n",
       "      <th>Latitude</th>\n",
       "      <td>0.011921</td>\n",
       "      <td>-0.048041</td>\n",
       "      <td>0.048602</td>\n",
       "      <td>1.000000</td>\n",
       "      <td>-0.110337</td>\n",
       "      <td>-0.158171</td>\n",
       "      <td>0.006945</td>\n",
       "      <td>-0.021524</td>\n",
       "    </tr>\n",
       "    <tr>\n",
       "      <th>Average Cost for two</th>\n",
       "      <td>0.042768</td>\n",
       "      <td>-0.001572</td>\n",
       "      <td>0.045985</td>\n",
       "      <td>-0.110337</td>\n",
       "      <td>1.000000</td>\n",
       "      <td>0.075082</td>\n",
       "      <td>0.051871</td>\n",
       "      <td>0.067818</td>\n",
       "    </tr>\n",
       "    <tr>\n",
       "      <th>Price range</th>\n",
       "      <td>0.234851</td>\n",
       "      <td>-0.130807</td>\n",
       "      <td>-0.073737</td>\n",
       "      <td>-0.158171</td>\n",
       "      <td>0.075082</td>\n",
       "      <td>1.000000</td>\n",
       "      <td>0.440997</td>\n",
       "      <td>0.309589</td>\n",
       "    </tr>\n",
       "    <tr>\n",
       "      <th>Aggregate rating</th>\n",
       "      <td>0.274360</td>\n",
       "      <td>-0.322324</td>\n",
       "      <td>-0.112071</td>\n",
       "      <td>0.006945</td>\n",
       "      <td>0.051871</td>\n",
       "      <td>0.440997</td>\n",
       "      <td>1.000000</td>\n",
       "      <td>0.313903</td>\n",
       "    </tr>\n",
       "    <tr>\n",
       "      <th>Votes</th>\n",
       "      <td>0.152557</td>\n",
       "      <td>-0.146297</td>\n",
       "      <td>-0.084051</td>\n",
       "      <td>-0.021524</td>\n",
       "      <td>0.067818</td>\n",
       "      <td>0.309589</td>\n",
       "      <td>0.313903</td>\n",
       "      <td>1.000000</td>\n",
       "    </tr>\n",
       "  </tbody>\n",
       "</table>\n",
       "</div>"
      ],
      "text/plain": [
       "                      Country Code  Restaurant ID  Longitude  Latitude  \\\n",
       "Country Code              1.000000       0.144238  -0.698652  0.011921   \n",
       "Restaurant ID             0.144238       1.000000  -0.222981 -0.048041   \n",
       "Longitude                -0.698652      -0.222981   1.000000  0.048602   \n",
       "Latitude                  0.011921      -0.048041   0.048602  1.000000   \n",
       "Average Cost for two      0.042768      -0.001572   0.045985 -0.110337   \n",
       "Price range               0.234851      -0.130807  -0.073737 -0.158171   \n",
       "Aggregate rating          0.274360      -0.322324  -0.112071  0.006945   \n",
       "Votes                     0.152557      -0.146297  -0.084051 -0.021524   \n",
       "\n",
       "                      Average Cost for two  Price range  Aggregate rating  \\\n",
       "Country Code                      0.042768     0.234851          0.274360   \n",
       "Restaurant ID                    -0.001572    -0.130807         -0.322324   \n",
       "Longitude                         0.045985    -0.073737         -0.112071   \n",
       "Latitude                         -0.110337    -0.158171          0.006945   \n",
       "Average Cost for two              1.000000     0.075082          0.051871   \n",
       "Price range                       0.075082     1.000000          0.440997   \n",
       "Aggregate rating                  0.051871     0.440997          1.000000   \n",
       "Votes                             0.067818     0.309589          0.313903   \n",
       "\n",
       "                         Votes  \n",
       "Country Code          0.152557  \n",
       "Restaurant ID        -0.146297  \n",
       "Longitude            -0.084051  \n",
       "Latitude             -0.021524  \n",
       "Average Cost for two  0.067818  \n",
       "Price range           0.309589  \n",
       "Aggregate rating      0.313903  \n",
       "Votes                 1.000000  "
      ]
     },
     "execution_count": 20,
     "metadata": {},
     "output_type": "execute_result"
    }
   ],
   "source": [
    "#checking correlation\n",
    "df_zo.corr()"
   ]
  },
  {
   "cell_type": "code",
   "execution_count": 21,
   "id": "948c06f6",
   "metadata": {},
   "outputs": [
    {
     "data": {
      "image/png": "[encoded data removed]",
      "text/plain": [
       "<Figure size 2000x2000 with 2 Axes>"
      ]
     },
     "metadata": {},
     "output_type": "display_data"
    }
   ],
   "source": [
    "#checking of correlation with the heatmap\n",
    "plt.figure(figsize=(20,20))\n",
    "sns.heatmap(df_zo.corr(),cmap='pink',annot=True)\n",
    "plt.show()"
   ]
  },
  {
   "cell_type": "markdown",
   "id": "120e1326",
   "metadata": {},
   "source": [
    "This is the correlation through heatmap, the light coloure is for positive correlation and dark colour is for negative correlation.\n",
    "1. we can see that country code is highly negatively correlated with longhtude.\n",
    "2.Price rang has possitive correlation with aggregate rating."
   ]
  },
  {
   "cell_type": "code",
   "execution_count": 22,
   "id": "8b7d4e90",
   "metadata": {
    "scrolled": true
   },
   "outputs": [
    {
     "data": {
      "image/png": "[encoded data removed]",
      "text/plain": [
       "<Figure size 2000x4000 with 1 Axes>"
      ]
     },
     "metadata": {},
     "output_type": "display_data"
    }
   ],
   "source": [
    "#Lets check the relation between Price range and city\n",
    "plt.figure(figsize = (20,40))\n",
    "sns.barplot(x = \"Price range\", y = \"City\", data = df_zo)\n",
    "plt.show()"
   ]
  },
  {
   "cell_type": "markdown",
   "id": "d352ae0c",
   "metadata": {},
   "source": [
    "The price range varies according to the city.\n",
    "Pasy, Paynesville, Princeton, Vineland Station, Panchkula, Inner City and Johannesburg hhas the highest price range \n",
    "among all city."
   ]
  },
  {
   "cell_type": "code",
   "execution_count": 23,
   "id": "8cfc09bd",
   "metadata": {},
   "outputs": [
    {
     "data": {
      "image/png": "[encoded data removed]",
      "text/plain": [
       "<Figure size 2000x500 with 1 Axes>"
      ]
     },
     "metadata": {},
     "output_type": "display_data"
    }
   ],
   "source": [
    "#Lets check the relation between Price range and city\n",
    "plt.figure(figsize = (20,5))\n",
    "sns.barplot(x = \"Price range\", y = \"Average Cost for two\", data = df_zo)\n",
    "plt.show()"
   ]
  },
  {
   "cell_type": "markdown",
   "id": "5916c06f",
   "metadata": {},
   "source": [
    "the average cost for two no3 has higest price range, crossing over 5000."
   ]
  },
  {
   "cell_type": "code",
   "execution_count": 24,
   "id": "d26ea4cd",
   "metadata": {},
   "outputs": [
    {
     "data": {
      "image/png": "[encoded data removed]",
      "text/plain": [
       "<Figure size 1500x1200 with 4 Axes>"
      ]
     },
     "metadata": {},
     "output_type": "display_data"
    }
   ],
   "source": [
    "fig,axes=plt.subplots(2,2,figsize=(15,12))\n",
    "\n",
    "sns.barplot(x='Price range',y='Rating text',ax=axes[0,0],data=df_zo)\n",
    "\n",
    "sns.barplot(x='Price range',y='Aggregate rating',ax=axes[0,1],data=df_zo)\n",
    "\n",
    "sns.barplot(x='Price range',y='Has Online delivery',ax=axes[1,0],data=df_zo,palette=\"Set2\")\n",
    "\n",
    "sns.barplot(x='Price range',y='Is delivering now',ax=axes[1,1],data=df_zo,palette=\"ch:.25\")\n",
    "plt.show()"
   ]
  },
  {
   "cell_type": "markdown",
   "id": "3b024d3c",
   "metadata": {},
   "source": [
    "The excellent rating has the highest price range.\n",
    "Aggregate rating 4 has the highest price range.\n",
    "Yes Online delivery has highest price range'\n",
    "Yes develing now has the highest price range.\n",
    "All this factor affects the price range of a restaurant."
   ]
  },
  {
   "cell_type": "code",
   "execution_count": 25,
   "id": "cd84f152",
   "metadata": {},
   "outputs": [],
   "source": [
    "#dropping the column.\n",
    "df_zo.drop(['Longitude','Latitude','Rating color','Restaurant ID','Locality Verbose','Country'],axis=1,inplace=True)"
   ]
  },
  {
   "cell_type": "code",
   "execution_count": 26,
   "id": "742699ef",
   "metadata": {},
   "outputs": [
    {
     "data": {
      "text/plain": [
       "{int64: ['Country Code'], float64: ['Average Cost for two', 'Price range', 'Aggregate rating', 'Votes'], object: ['Restaurant Name', 'City', 'Address', 'Locality', 'Cuisines', 'Currency', 'Has Table booking', 'Has Online delivery', 'Is delivering now', 'Switch to order menu', 'Rating text']}"
      ]
     },
     "execution_count": 26,
     "metadata": {},
     "output_type": "execute_result"
    }
   ],
   "source": [
    "# Sort columns by datatypes\n",
    "df_zo.columns.to_series().groupby(df_zo.dtypes).groups"
   ]
  },
  {
   "cell_type": "code",
   "execution_count": 27,
   "id": "c05f188e",
   "metadata": {},
   "outputs": [],
   "source": [
    "#converting the mix data into numerical data\n",
    "pd.to_numeric(df_zo['Country Code'], errors='coerce').fillna(0)\n",
    "df_zo[\"Country Code\"] = pd.to_numeric(df_zo['Country Code'], errors='coerce').fillna(0)\n",
    "\n",
    "pd.to_numeric(df_zo['Restaurant Name'], errors='coerce').fillna(0)\n",
    "df_zo[\"Restaurant Name\"] = pd.to_numeric(df_zo['Restaurant Name'], errors='coerce').fillna(0)\n",
    "\n",
    "pd.to_numeric(df_zo['City'], errors='coerce').fillna(0)\n",
    "df_zo[\"City\"] = pd.to_numeric(df_zo['City'], errors='coerce').fillna(0)\n",
    "\n",
    "pd.to_numeric(df_zo['Address'], errors='coerce').fillna(0)\n",
    "df_zo[\"Address\"] = pd.to_numeric(df_zo['Address'], errors='coerce').fillna(0)\n",
    "\n",
    "pd.to_numeric(df_zo['Locality'], errors='coerce').fillna(0)\n",
    "df_zo[\"Locality\"] = pd.to_numeric(df_zo['Locality'], errors='coerce').fillna(0)\n",
    "\n",
    "pd.to_numeric(df_zo['Cuisines'], errors='coerce').fillna(0)\n",
    "df_zo['Cuisines'] = pd.to_numeric(df_zo['Cuisines'], errors='coerce').fillna(0)\n",
    "\n",
    "pd.to_numeric(df_zo['Currency'], errors='coerce').fillna(0)\n",
    "df_zo['Currency'] = pd.to_numeric(df_zo['Currency'], errors='coerce').fillna(0)\n",
    "\n",
    "pd.to_numeric(df_zo['Has Table booking'], errors='coerce').fillna(0)\n",
    "df_zo[\"Has Table booking\"] = pd.to_numeric(df_zo['Has Table booking'], errors='coerce').fillna(0)\n",
    "\n",
    "pd.to_numeric(df_zo['Has Online delivery'], errors='coerce').fillna(0)\n",
    "df_zo[\"Has Online delivery\"] = pd.to_numeric(df_zo['Has Online delivery'], errors='coerce').fillna(0)\n",
    "\n",
    "\n",
    "pd.to_numeric(df_zo['Is delivering now'], errors='coerce').fillna(0)\n",
    "df_zo[\"Is delivering now\"] = pd.to_numeric(df_zo['Is delivering now'], errors='coerce').fillna(0)\n",
    "\n",
    "pd.to_numeric(df_zo['Switch to order menu'], errors='coerce').fillna(0)\n",
    "df_zo[\"Switch to order menu\"] = pd.to_numeric(df_zo['Switch to order menu'], errors='coerce').fillna(0)\n",
    "\n",
    "pd.to_numeric(df_zo['Rating text'], errors='coerce').fillna(0)\n",
    "df_zo[\"Rating text\"] = pd.to_numeric(df_zo['Rating text'], errors='coerce').fillna(0)"
   ]
  },
  {
   "cell_type": "code",
   "execution_count": 28,
   "id": "a696634a",
   "metadata": {},
   "outputs": [
    {
     "data": {
      "text/plain": [
       "Country Code               Axes(0.125,0.786098;0.227941x0.0939024)\n",
       "Restaurant Name         Axes(0.398529,0.786098;0.227941x0.0939024)\n",
       "City                    Axes(0.672059,0.786098;0.227941x0.0939024)\n",
       "Address                    Axes(0.125,0.673415;0.227941x0.0939024)\n",
       "Locality                Axes(0.398529,0.673415;0.227941x0.0939024)\n",
       "Cuisines                Axes(0.672059,0.673415;0.227941x0.0939024)\n",
       "Average Cost for two       Axes(0.125,0.560732;0.227941x0.0939024)\n",
       "Currency                Axes(0.398529,0.560732;0.227941x0.0939024)\n",
       "Has Table booking       Axes(0.672059,0.560732;0.227941x0.0939024)\n",
       "Has Online delivery        Axes(0.125,0.448049;0.227941x0.0939024)\n",
       "Is delivering now       Axes(0.398529,0.448049;0.227941x0.0939024)\n",
       "Switch to order menu    Axes(0.672059,0.448049;0.227941x0.0939024)\n",
       "Price range                Axes(0.125,0.335366;0.227941x0.0939024)\n",
       "Aggregate rating        Axes(0.398529,0.335366;0.227941x0.0939024)\n",
       "Rating text             Axes(0.672059,0.335366;0.227941x0.0939024)\n",
       "Votes                      Axes(0.125,0.222683;0.227941x0.0939024)\n",
       "dtype: object"
      ]
     },
     "execution_count": 28,
     "metadata": {},
     "output_type": "execute_result"
    },
    {
     "data": {
      "text/plain": [
       "<Figure size 1500x2000 with 0 Axes>"
      ]
     },
     "metadata": {},
     "output_type": "display_data"
    },
    {
     "data": {
      "image/png": "[encoded data removed]",
      "text/plain": [
       "<Figure size 640x480 with 21 Axes>"
      ]
     },
     "metadata": {},
     "output_type": "display_data"
    }
   ],
   "source": [
    "#checking for outliers\n",
    "fig=plt.figure(figsize=(15,20))\n",
    "df_zo.plot(kind='box',subplots=True,layout=(7,3))"
   ]
  },
  {
   "cell_type": "markdown",
   "id": "288c2875",
   "metadata": {},
   "source": [
    "We can see the presence of outliers."
   ]
  },
  {
   "cell_type": "code",
   "execution_count": 29,
   "id": "57c9e13c",
   "metadata": {},
   "outputs": [
    {
     "data": {
      "text/html": [
       "<div>\n",
       "<style scoped>\n",
       "    .dataframe tbody tr th:only-of-type {\n",
       "        vertical-align: middle;\n",
       "    }\n",
       "\n",
       "    .dataframe tbody tr th {\n",
       "        vertical-align: top;\n",
       "    }\n",
       "\n",
       "    .dataframe thead th {\n",
       "        text-align: right;\n",
       "    }\n",
       "</style>\n",
       "<table border=\"1\" class=\"dataframe\">\n",
       "  <thead>\n",
       "    <tr style=\"text-align: right;\">\n",
       "      <th></th>\n",
       "      <th>Votes</th>\n",
       "      <th>Country Code</th>\n",
       "      <th>Restaurant Name</th>\n",
       "    </tr>\n",
       "  </thead>\n",
       "  <tbody>\n",
       "    <tr>\n",
       "      <th>0</th>\n",
       "      <td>0.364458</td>\n",
       "      <td>0.308045</td>\n",
       "      <td>0.010225</td>\n",
       "    </tr>\n",
       "    <tr>\n",
       "      <th>1</th>\n",
       "      <td>0.364458</td>\n",
       "      <td>0.079904</td>\n",
       "      <td>0.010225</td>\n",
       "    </tr>\n",
       "    <tr>\n",
       "      <th>2</th>\n",
       "      <td>0.364458</td>\n",
       "      <td>0.200885</td>\n",
       "      <td>0.010225</td>\n",
       "    </tr>\n",
       "    <tr>\n",
       "      <th>3</th>\n",
       "      <td>0.364458</td>\n",
       "      <td>0.323730</td>\n",
       "      <td>0.010225</td>\n",
       "    </tr>\n",
       "    <tr>\n",
       "      <th>4</th>\n",
       "      <td>0.364458</td>\n",
       "      <td>1.324040</td>\n",
       "      <td>0.010225</td>\n",
       "    </tr>\n",
       "    <tr>\n",
       "      <th>...</th>\n",
       "      <td>...</td>\n",
       "      <td>...</td>\n",
       "      <td>...</td>\n",
       "    </tr>\n",
       "    <tr>\n",
       "      <th>9561</th>\n",
       "      <td>1.468722</td>\n",
       "      <td>3.324659</td>\n",
       "      <td>0.010225</td>\n",
       "    </tr>\n",
       "    <tr>\n",
       "      <th>9562</th>\n",
       "      <td>2.041010</td>\n",
       "      <td>3.324659</td>\n",
       "      <td>0.010225</td>\n",
       "    </tr>\n",
       "    <tr>\n",
       "      <th>9563</th>\n",
       "      <td>1.173273</td>\n",
       "      <td>3.324659</td>\n",
       "      <td>0.010225</td>\n",
       "    </tr>\n",
       "    <tr>\n",
       "      <th>9564</th>\n",
       "      <td>1.731602</td>\n",
       "      <td>3.324659</td>\n",
       "      <td>0.010225</td>\n",
       "    </tr>\n",
       "    <tr>\n",
       "      <th>9565</th>\n",
       "      <td>1.010427</td>\n",
       "      <td>3.324659</td>\n",
       "      <td>0.010225</td>\n",
       "    </tr>\n",
       "  </tbody>\n",
       "</table>\n",
       "<p>9566 rows × 3 columns</p>\n",
       "</div>"
      ],
      "text/plain": [
       "         Votes  Country Code  Restaurant Name\n",
       "0     0.364458      0.308045         0.010225\n",
       "1     0.364458      0.079904         0.010225\n",
       "2     0.364458      0.200885         0.010225\n",
       "3     0.364458      0.323730         0.010225\n",
       "4     0.364458      1.324040         0.010225\n",
       "...        ...           ...              ...\n",
       "9561  1.468722      3.324659         0.010225\n",
       "9562  2.041010      3.324659         0.010225\n",
       "9563  1.173273      3.324659         0.010225\n",
       "9564  1.731602      3.324659         0.010225\n",
       "9565  1.010427      3.324659         0.010225\n",
       "\n",
       "[9566 rows x 3 columns]"
      ]
     },
     "execution_count": 29,
     "metadata": {},
     "output_type": "execute_result"
    }
   ],
   "source": [
    "#removing outliers\n",
    "out=df_zo[['Votes','Country Code','Restaurant Name']]\n",
    "z=np.abs(zscore(out))\n",
    "z"
   ]
  },
  {
   "cell_type": "code",
   "execution_count": 30,
   "id": "90fb8c9b",
   "metadata": {},
   "outputs": [
    {
     "data": {
      "text/plain": [
       "(array([  10,   11,   12,   13,   14,   97,   98,   99,  100,  101,  102,\n",
       "         103,  104,  105,  106,  107,  108,  109,  110,  111,  112,  113,\n",
       "         114,  115,  116,  118,  118,  119,  120,  121,  122,  123,  124,\n",
       "         125,  126,  127,  128,  129,  130,  131,  132,  133,  134,  135,\n",
       "         136,  137,  138,  139,  140,  141,  142,  143,  144,  145,  146,\n",
       "         147,  148,  149,  150,  151,  152,  153,  154,  155,  156,  157,\n",
       "         160,  161,  162,  163,  164,  165,  166,  167,  168,  169,  170,\n",
       "         171,  172,  173,  174,  175,  176,  177,  178,  179,  180,  181,\n",
       "         182,  183,  184,  185,  186,  187,  188,  189,  190,  191,  192,\n",
       "         193,  194,  195,  196,  197,  198,  199,  201,  202,  203,  204,\n",
       "         205,  206,  207,  208,  209,  210,  211,  212,  213,  214,  215,\n",
       "         216,  217,  218,  219,  220,  221,  222,  224,  225,  226,  227,\n",
       "         228,  229,  230,  231,  232,  233,  234,  235,  236,  237,  238,\n",
       "         239,  240,  241,  242,  243,  244,  245,  246,  247,  248,  249,\n",
       "         250,  251,  252,  253,  254,  255,  256,  257,  258,  259,  260,\n",
       "         261,  262,  263,  264,  265,  266,  267,  268,  269,  270,  271,\n",
       "         272,  273,  274,  275,  276,  277,  278,  279,  280,  281,  282,\n",
       "         283,  285,  286,  287,  288,  289,  290,  291,  292,  293,  294,\n",
       "         295,  296,  297,  298,  299,  300,  301,  302,  303,  304,  306,\n",
       "         309,  310,  311,  312,  313,  314,  315,  316,  317,  318,  319,\n",
       "         320,  321,  322,  323,  324,  325,  326,  327,  328,  334,  335,\n",
       "         338,  339,  340,  341,  342,  343,  344,  345,  346,  347,  348,\n",
       "         349,  350,  351,  352,  353,  354,  355,  356,  357,  359,  361,\n",
       "         362,  364,  365,  366,  367,  368,  369,  370,  370,  371,  372,\n",
       "         373,  374,  375,  375,  376,  376,  377,  377,  378,  379,  380,\n",
       "         381,  382,  383,  384,  384,  388,  389,  389,  390,  391,  392,\n",
       "         393,  394,  395,  396,  397,  398,  399,  400,  401,  402,  403,\n",
       "         404,  405,  406,  407,  409,  410,  411,  412,  413,  414,  415,\n",
       "         416,  417,  418,  419,  420,  421,  422,  423,  424,  425,  426,\n",
       "         427,  428,  429,  430,  431,  432,  433,  434,  435,  436,  437,\n",
       "         438,  439,  440,  441,  442,  443,  444,  445,  446,  447,  447,\n",
       "         448,  449,  450,  451,  452,  453,  454,  455,  456,  457,  458,\n",
       "         459,  460,  461,  462,  463,  464,  465,  466,  467,  467,  468,\n",
       "         469,  470,  491,  492,  493,  494,  495,  496,  497,  498,  499,\n",
       "         500,  501,  502,  503,  504,  505,  506,  507,  508,  509,  510,\n",
       "         511,  512,  512,  513,  514,  515,  516,  516,  517,  518,  519,\n",
       "         520,  521,  522,  523,  524,  525,  526,  526,  527,  527,  528,\n",
       "         528,  529,  530,  530,  533,  534,  535,  536,  537,  538,  539,\n",
       "         540,  541,  542,  543,  544,  545,  546,  547,  548,  549,  550,\n",
       "         551,  552,  553,  556,  557,  558,  559,  560,  561,  562,  563,\n",
       "         564,  565,  566,  567,  568,  569,  570,  571,  572,  573,  574,\n",
       "         575,  576,  577,  579,  580,  581,  582,  583,  584,  585,  586,\n",
       "         587,  588,  589,  590,  591,  592,  593,  594,  595,  596,  597,\n",
       "         598,  599,  600,  600,  601,  602,  603,  604,  605,  606,  606,\n",
       "         607,  608,  609,  610,  611,  612,  613,  614,  615,  615,  616,\n",
       "         617,  618,  619,  620,  621,  622,  623,  624,  625,  626,  627,\n",
       "         628,  629,  630,  631,  632,  633,  634,  635,  636,  637,  638,\n",
       "         659,  741,  742,  743,  746,  750,  751,  754,  758,  808,  820,\n",
       "         822,  826,  828,  829,  830,  832,  836,  839, 1159, 1162, 1178,\n",
       "        1250, 1262, 1263, 1266, 1267, 1268, 1270, 1271, 1273, 1479, 1569,\n",
       "        1570, 1854, 1876, 1881, 2315, 2317, 2319, 2322, 2326, 2329, 2353,\n",
       "        2359, 2417, 2419, 2421, 2424, 2425, 2426, 2427, 2428, 2429, 2431,\n",
       "        2495, 2498, 2499, 2500, 2503, 2505, 2507, 2510, 2514, 2566, 2650,\n",
       "        2895, 3020, 3023, 3028, 3031, 3033, 3040, 3041, 3043, 3048, 3056,\n",
       "        3064, 3070, 3071, 3072, 3075, 3083, 3090, 3095, 3098, 3100, 3108,\n",
       "        3109, 3110, 3116, 3122, 3125, 3127, 3130, 3131, 3132, 3133, 3134,\n",
       "        3331, 3334, 3351, 3352, 3353, 3453, 3603, 3604, 3614, 3616, 3620,\n",
       "        3991, 3998, 3999, 4001, 4007, 4008, 4009, 4013, 4102, 4177, 4193,\n",
       "        4335, 4401, 4653, 4654, 4664, 4688, 5022, 5041, 6159, 6332, 6549,\n",
       "        6674, 6716, 6724, 6727, 6863, 6936, 7012, 7048, 7060, 7102, 7878,\n",
       "        8409, 8449, 9172, 9176, 9180, 9182, 9184, 9186, 9294, 9295, 9298,\n",
       "        9306, 9311, 9352, 9353, 9354, 9355, 9356, 9357, 9358, 9359, 9360,\n",
       "        9361, 9362, 9363, 9364, 9365, 9366, 9367, 9368, 9369, 9370, 9371,\n",
       "        9372, 9373, 9374, 9375, 9376, 9377, 9378, 9379, 9380, 9381, 9382,\n",
       "        9383, 9384, 9385, 9386, 9387, 9388, 9389, 9390, 9391, 9392, 9393,\n",
       "        9394, 9395, 9396, 9397, 9398, 9399, 9400, 9401, 9402, 9403, 9404,\n",
       "        9405, 9406, 9407, 9408, 9409, 9410, 9411, 9412, 9413, 9414, 9415,\n",
       "        9416, 9417, 9418, 9419, 9420, 9421, 9422, 9423, 9424, 9425, 9426,\n",
       "        9427, 9428, 9429, 9430, 9431, 9512, 9513, 9514, 9515, 9516, 9517,\n",
       "        9518, 9519, 9520, 9521, 9522, 9523, 9524, 9525, 9526, 9527, 9528,\n",
       "        9529, 9530, 9531, 9532, 9533, 9534, 9535, 9536, 9537, 9538, 9539,\n",
       "        9540, 9541, 9542, 9543, 9544, 9545, 9546, 9547, 9548, 9549, 9550,\n",
       "        9551, 9552, 9553, 9554, 9555, 9556, 9557, 9558, 9559, 9560, 9561,\n",
       "        9562, 9563, 9564, 9565], dtype=int64),\n",
       " array([1, 1, 1, 1, 1, 1, 1, 1, 1, 1, 1, 1, 1, 1, 1, 1, 1, 1, 1, 1, 1, 1,\n",
       "        1, 1, 1, 0, 1, 1, 1, 1, 1, 1, 1, 1, 1, 1, 1, 1, 1, 1, 1, 1, 1, 1,\n",
       "        1, 1, 1, 1, 1, 1, 1, 1, 1, 1, 1, 1, 1, 1, 1, 1, 1, 1, 1, 1, 1, 1,\n",
       "        1, 1, 1, 1, 1, 1, 1, 1, 1, 1, 1, 1, 1, 1, 1, 1, 1, 1, 1, 1, 1, 1,\n",
       "        1, 1, 1, 1, 1, 1, 1, 1, 1, 1, 1, 1, 1, 1, 1, 1, 1, 1, 1, 1, 1, 1,\n",
       "        1, 1, 1, 1, 1, 1, 1, 1, 1, 1, 1, 1, 1, 1, 1, 1, 1, 1, 1, 1, 1, 1,\n",
       "        1, 1, 1, 1, 1, 1, 1, 1, 1, 1, 1, 1, 1, 1, 1, 1, 1, 1, 1, 1, 1, 1,\n",
       "        1, 1, 1, 1, 1, 1, 1, 1, 1, 1, 1, 1, 1, 1, 1, 1, 1, 1, 1, 1, 1, 1,\n",
       "        1, 1, 1, 1, 1, 1, 1, 1, 1, 1, 1, 1, 1, 1, 1, 1, 1, 1, 1, 1, 1, 1,\n",
       "        1, 1, 1, 1, 1, 1, 1, 1, 1, 1, 1, 1, 1, 1, 1, 1, 1, 1, 1, 1, 1, 1,\n",
       "        1, 1, 1, 1, 1, 1, 1, 1, 1, 1, 1, 1, 1, 1, 1, 1, 1, 1, 1, 1, 1, 1,\n",
       "        1, 1, 1, 1, 1, 1, 1, 1, 1, 1, 1, 1, 1, 1, 1, 1, 1, 1, 0, 1, 1, 1,\n",
       "        1, 1, 0, 1, 0, 1, 0, 1, 1, 1, 1, 1, 1, 1, 0, 1, 1, 0, 1, 1, 1, 1,\n",
       "        1, 1, 1, 1, 1, 1, 1, 1, 1, 1, 1, 1, 1, 1, 1, 1, 1, 1, 1, 1, 1, 1,\n",
       "        1, 1, 1, 1, 1, 1, 1, 1, 1, 1, 1, 1, 1, 1, 1, 1, 1, 1, 1, 1, 1, 1,\n",
       "        1, 1, 1, 1, 1, 1, 1, 1, 1, 0, 1, 1, 1, 1, 1, 1, 1, 1, 1, 1, 1, 1,\n",
       "        1, 1, 1, 1, 1, 1, 1, 1, 0, 1, 1, 1, 1, 1, 1, 1, 1, 1, 1, 1, 1, 1,\n",
       "        1, 1, 1, 1, 1, 1, 1, 1, 1, 1, 1, 1, 0, 1, 1, 1, 1, 0, 1, 1, 1, 1,\n",
       "        1, 1, 1, 1, 1, 1, 0, 1, 0, 1, 0, 1, 1, 0, 1, 1, 1, 1, 1, 1, 1, 1,\n",
       "        1, 1, 1, 1, 1, 1, 1, 1, 1, 1, 1, 1, 1, 1, 1, 1, 1, 1, 1, 1, 1, 1,\n",
       "        1, 1, 1, 1, 1, 1, 1, 1, 1, 1, 1, 1, 1, 1, 1, 1, 1, 1, 1, 1, 1, 1,\n",
       "        1, 1, 1, 1, 1, 1, 1, 1, 1, 1, 1, 1, 1, 0, 1, 1, 1, 1, 1, 1, 0, 1,\n",
       "        1, 1, 1, 1, 1, 1, 1, 1, 0, 1, 1, 1, 1, 1, 1, 1, 1, 1, 1, 1, 1, 1,\n",
       "        1, 1, 1, 1, 1, 1, 1, 1, 1, 1, 1, 0, 0, 0, 0, 0, 0, 0, 0, 0, 0, 0,\n",
       "        0, 0, 0, 0, 0, 0, 0, 0, 0, 0, 0, 0, 0, 0, 0, 0, 0, 0, 0, 0, 0, 0,\n",
       "        0, 0, 0, 0, 0, 0, 0, 0, 0, 0, 0, 0, 0, 0, 0, 0, 0, 0, 0, 0, 0, 0,\n",
       "        0, 0, 0, 0, 0, 0, 0, 0, 0, 2, 0, 0, 0, 0, 0, 0, 0, 0, 0, 0, 0, 0,\n",
       "        0, 0, 0, 0, 0, 0, 0, 0, 0, 0, 0, 0, 0, 0, 0, 0, 0, 0, 0, 0, 0, 0,\n",
       "        0, 0, 0, 0, 0, 0, 0, 0, 0, 0, 0, 0, 0, 0, 0, 0, 0, 0, 0, 0, 0, 0,\n",
       "        0, 0, 0, 0, 0, 0, 0, 0, 0, 0, 0, 0, 0, 0, 0, 0, 0, 0, 0, 0, 0, 0,\n",
       "        0, 0, 0, 0, 0, 0, 0, 0, 0, 0, 0, 0, 0, 1, 1, 1, 1, 1, 1, 1, 1, 1,\n",
       "        1, 1, 1, 1, 1, 1, 1, 1, 1, 1, 1, 1, 1, 1, 1, 1, 1, 1, 1, 1, 1, 1,\n",
       "        1, 1, 1, 1, 1, 1, 1, 1, 1, 1, 1, 1, 1, 1, 1, 1, 1, 1, 1, 1, 1, 1,\n",
       "        1, 1, 1, 1, 1, 1, 1, 1, 1, 1, 1, 1, 1, 1, 1, 1, 1, 1, 1, 1, 1, 1,\n",
       "        1, 1, 1, 1, 1, 1, 1, 1, 1, 1, 1, 1, 1, 1, 1, 1, 1, 1, 1, 1, 1, 1,\n",
       "        1, 1, 1, 1, 1, 1, 1, 1, 1, 1, 1, 1, 1, 1, 1, 1, 1, 1, 1, 1, 1, 1,\n",
       "        1, 1, 1, 1, 1, 1, 1, 1, 1, 1, 1, 1, 1, 1, 1], dtype=int64))"
      ]
     },
     "execution_count": 30,
     "metadata": {},
     "output_type": "execute_result"
    }
   ],
   "source": [
    "np.where(z>3)"
   ]
  },
  {
   "cell_type": "code",
   "execution_count": 31,
   "id": "3db65181",
   "metadata": {},
   "outputs": [
    {
     "data": {
      "text/plain": [
       "(8777, 16)"
      ]
     },
     "execution_count": 31,
     "metadata": {},
     "output_type": "execute_result"
    }
   ],
   "source": [
    "df_zo=df_zo[(z<3).all(axis=1)]\n",
    "df_zo.shape"
   ]
  },
  {
   "cell_type": "code",
   "execution_count": 32,
   "id": "c582d593",
   "metadata": {},
   "outputs": [
    {
     "data": {
      "text/plain": [
       "Country Code             6.818369\n",
       "Restaurant Name          0.000000\n",
       "City                     0.000000\n",
       "Address                  0.000000\n",
       "Locality                 0.000000\n",
       "Cuisines                 0.000000\n",
       "Average Cost for two    37.374543\n",
       "Currency                 0.000000\n",
       "Has Table booking        0.000000\n",
       "Has Online delivery      0.000000\n",
       "Is delivering now        0.000000\n",
       "Switch to order menu     0.000000\n",
       "Price range              0.990019\n",
       "Aggregate rating        -0.883316\n",
       "Rating text              0.000000\n",
       "Votes                    3.569023\n",
       "dtype: float64"
      ]
     },
     "execution_count": 32,
     "metadata": {},
     "output_type": "execute_result"
    }
   ],
   "source": [
    "#checking skewness\n",
    "df_zo.skew()"
   ]
  },
  {
   "cell_type": "code",
   "execution_count": 33,
   "id": "9e43d909",
   "metadata": {},
   "outputs": [],
   "source": [
    "x=df_zo.iloc[:,:-1]\n",
    "y=df_zo.iloc[:,-1]"
   ]
  },
  {
   "cell_type": "code",
   "execution_count": 34,
   "id": "aecef99d",
   "metadata": {},
   "outputs": [
    {
     "name": "stdout",
     "output_type": "stream",
     "text": [
      "feature dimension (8777, 15)\n",
      "label dimension (8777,)\n"
     ]
    }
   ],
   "source": [
    "#seperating independent and target variables\n",
    "x=df_zo.drop('Average Cost for two',axis=1)\n",
    "y=df_zo['Average Cost for two']\n",
    "print('feature dimension',x.shape)\n",
    "print('label dimension',y.shape)"
   ]
  },
  {
   "cell_type": "code",
   "execution_count": 35,
   "id": "fc7f7014",
   "metadata": {},
   "outputs": [
    {
     "data": {
      "text/plain": [
       "array([[-0.15443296,  0.        ,  0.        , ..., -1.67572396,\n",
       "         0.        , -0.52020738],\n",
       "       [ 0.39007912,  0.        ,  0.        , ..., -1.67572396,\n",
       "         0.        , -0.52020738],\n",
       "       [ 1.06024783,  0.        ,  0.        , ..., -1.67572396,\n",
       "         0.        , -0.52020738],\n",
       "       ...,\n",
       "       [ 7.72004943,  0.        ,  0.        , ...,  1.22977408,\n",
       "         0.        , -0.03500235],\n",
       "       [ 7.72004943,  0.        ,  0.        , ...,  1.22977408,\n",
       "         0.        ,  3.48542967],\n",
       "       [ 7.72004943,  0.        ,  0.        , ...,  0.8335698 ,\n",
       "         0.        ,  1.58234773]])"
      ]
     },
     "execution_count": 35,
     "metadata": {},
     "output_type": "execute_result"
    }
   ],
   "source": [
    "#scaling of data\n",
    "st=StandardScaler()\n",
    "x=st.fit_transform(x)\n",
    "x"
   ]
  },
  {
   "cell_type": "markdown",
   "id": "afd4cfe8",
   "metadata": {},
   "source": [
    "# MODEL BUILDING"
   ]
  },
  {
   "cell_type": "code",
   "execution_count": 36,
   "id": "ac20b240",
   "metadata": {},
   "outputs": [],
   "source": [
    "from sklearn.metrics import r2_score\n",
    "from sklearn import datasets\n",
    "from sklearn.model_selection import GridSearchCV\n",
    "from sklearn.metrics import mean_squared_error, mean_absolute_error\n",
    "from sklearn import metrics"
   ]
  },
  {
   "cell_type": "code",
   "execution_count": 37,
   "id": "34994f20",
   "metadata": {},
   "outputs": [
    {
     "name": "stdout",
     "output_type": "stream",
     "text": [
      "Best accuracy 0.05027050777864428 at random state 24\n"
     ]
    }
   ],
   "source": [
    "maxAccu=0\n",
    "maxRs=0\n",
    "for i in range(1,200):\n",
    "    x_train,x_test,y_train,y_test=train_test_split(x,y,test_size=0.30,random_state=i)\n",
    "    lr=LinearRegression()\n",
    "    lr.fit(x_train,y_train)\n",
    "    pre=lr.predict(x_test)\n",
    "    acc=r2_score(y_test,pre)\n",
    "    if acc>maxAccu:\n",
    "        maxAccu=acc\n",
    "        maxRs=i\n",
    "print('Best accuracy',maxAccu,'at random state',maxRs)        \n",
    "    "
   ]
  },
  {
   "cell_type": "code",
   "execution_count": 38,
   "id": "26871e15",
   "metadata": {},
   "outputs": [],
   "source": [
    "x_train,x_test,y_train,y_test=train_test_split(x,y,test_size=0.30,random_state=maxRs)"
   ]
  },
  {
   "cell_type": "code",
   "execution_count": 39,
   "id": "f0f15c00",
   "metadata": {},
   "outputs": [
    {
     "name": "stdout",
     "output_type": "stream",
     "text": [
      "-0.0003939907685275301\n",
      "-0.009015446176352526\n",
      "Mean absolute error: 623.9092534590897\n",
      "Mean square error: 90538831.32085389\n",
      "Root mean square error: 9515.189505251794\n"
     ]
    }
   ],
   "source": [
    "#support vector regression\n",
    "svr=SVR()\n",
    "svr.fit(x_train,y_train)\n",
    "pre=svr.predict(x_test)\n",
    "pred=svr.predict(x_train)\n",
    "print(r2_score(y_train,pred))\n",
    "print(r2_score(y_test,pre)*100)\n",
    "print('Mean absolute error:',mean_absolute_error(y_test,pre))\n",
    "print('Mean square error:',mean_squared_error(y_test,pre))\n",
    "print('Root mean square error:',np.sqrt(mean_squared_error(y_test,pre)))"
   ]
  },
  {
   "cell_type": "code",
   "execution_count": 40,
   "id": "11252c9c",
   "metadata": {},
   "outputs": [
    {
     "name": "stdout",
     "output_type": "stream",
     "text": [
      "0.9173385832826835\n",
      "-8.694775642731202\n",
      "Mean absolute error: 575.3409216967272\n",
      "Mean square error: 98402108.1846532\n",
      "Root mean square error: 9919.783676303288\n"
     ]
    }
   ],
   "source": [
    "#Randomforest\n",
    "ra=RandomForestRegressor()\n",
    "ra.fit(x_train,y_train)\n",
    "pre=ra.predict(x_test)\n",
    "pred=ra.predict(x_train)\n",
    "print(r2_score(y_train,pred))\n",
    "print(r2_score(y_test,pre)*100)\n",
    "print('Mean absolute error:',mean_absolute_error(y_test,pre))\n",
    "print('Mean square error:',mean_squared_error(y_test,pre))\n",
    "print('Root mean square error:',np.sqrt(mean_squared_error(y_test,pre)))"
   ]
  },
  {
   "cell_type": "code",
   "execution_count": 41,
   "id": "dc6a9d0e",
   "metadata": {},
   "outputs": [
    {
     "name": "stdout",
     "output_type": "stream",
     "text": [
      "0.7140226056104358\n",
      "45.94063842802297\n",
      "Mean absolute error: 445.1941533788915\n",
      "Mean square error: 48940302.00019742\n",
      "Root mean square error: 6995.734557585602\n"
     ]
    }
   ],
   "source": [
    "#KNN\n",
    "knn=KNN()\n",
    "knn.fit(x_train,y_train)\n",
    "pre=knn.predict(x_test)\n",
    "pred=knn.predict(x_train)\n",
    "print(r2_score(y_train,pred))\n",
    "print(r2_score(y_test,pre)*100)\n",
    "print('Mean absolute error:',mean_absolute_error(y_test,pre))\n",
    "print('Mean square error:',mean_squared_error(y_test,pre))\n",
    "print('Root mean square error:',np.sqrt(mean_squared_error(y_test,pre)))"
   ]
  },
  {
   "cell_type": "code",
   "execution_count": 42,
   "id": "d5f9d7eb",
   "metadata": {},
   "outputs": [
    {
     "name": "stdout",
     "output_type": "stream",
     "text": [
      "0.9996910027901476\n",
      "-84.66935964120759\n",
      "Mean absolute error: 659.5023745300616\n",
      "Mean square error: 167182407.78686363\n",
      "Root mean square error: 12929.90362635637\n"
     ]
    }
   ],
   "source": [
    "#Extratrees regressor\n",
    "ex=ExtraTreesRegressor()\n",
    "ex.fit(x_train,y_train)\n",
    "pre=ex.predict(x_test)\n",
    "pred=ex.predict(x_train)\n",
    "print(r2_score(y_train,pred))\n",
    "print(r2_score(y_test,pre)*100)\n",
    "print('Mean absolute error:',mean_absolute_error(y_test,pre))\n",
    "print('Mean square error:',mean_squared_error(y_test,pre))\n",
    "print('Root mean square error:',np.sqrt(mean_squared_error(y_test,pre)))"
   ]
  },
  {
   "cell_type": "code",
   "execution_count": 43,
   "id": "5e4e382f",
   "metadata": {},
   "outputs": [
    {
     "name": "stdout",
     "output_type": "stream",
     "text": [
      "0.02004177435606047\n",
      "5.027050777864428\n",
      "Mean absolute error: 1094.1402237761977\n",
      "Mean square error: 85979646.84788536\n",
      "Root mean square error: 9272.521062142989\n"
     ]
    }
   ],
   "source": [
    "#Linear regression\n",
    "lr=LinearRegression()\n",
    "lr.fit(x_train,y_train)\n",
    "pre=lr.predict(x_test)\n",
    "pred=lr.predict(x_train)\n",
    "print(r2_score(y_train,pred))\n",
    "print(r2_score(y_test,pre)*100)\n",
    "print('Mean absolute error:',mean_absolute_error(y_test,pre))\n",
    "print('Mean square error:',mean_squared_error(y_test,pre))\n",
    "print('Root mean square error:',np.sqrt(mean_squared_error(y_test,pre)))"
   ]
  },
  {
   "cell_type": "markdown",
   "id": "91a98a63",
   "metadata": {},
   "source": [
    "# CROSS VAKIDATION"
   ]
  },
  {
   "cell_type": "code",
   "execution_count": 44,
   "id": "9231d741",
   "metadata": {},
   "outputs": [
    {
     "name": "stdout",
     "output_type": "stream",
     "text": [
      "[ 0.36001637  0.40943442  0.49843043  0.31863047 -0.00545582]\n",
      "0.316211173414334\n",
      "difference between R2score and cross validation -26.594066563568973\n"
     ]
    }
   ],
   "source": [
    "# Cv score for support vector\n",
    "score= cross_val_score(svr,x,y,cv=5,scoring='r2')\n",
    "print(score)\n",
    "print(score.mean())\n",
    "print('difference between R2score and cross validation',(r2_score(y_test,pre)-score.mean())*100)"
   ]
  },
  {
   "cell_type": "markdown",
   "id": "82f7c458",
   "metadata": {},
   "source": [
    "cross validation score of svr is 0.316211173414334"
   ]
  },
  {
   "cell_type": "code",
   "execution_count": 45,
   "id": "08415c42",
   "metadata": {
    "scrolled": true
   },
   "outputs": [
    {
     "name": "stdout",
     "output_type": "stream",
     "text": [
      "[-3.19460914e+01 -1.32071220e+00  8.11265878e-01  7.45814084e-01\n",
      " -6.45113930e-03]\n",
      "-6.343234959507757\n",
      "difference between R2score and cross validation 639.3505467286401\n"
     ]
    }
   ],
   "source": [
    "# Cv score for Random forest\n",
    "score= cross_val_score(ra,x,y,cv=5,scoring='r2')\n",
    "print(score)\n",
    "print(score.mean())\n",
    "print('difference between R2score and cross validation',(r2_score(y_test,pre)-score.mean())*100)"
   ]
  },
  {
   "cell_type": "markdown",
   "id": "457dddc8",
   "metadata": {},
   "source": [
    "crossvalidation score of randomforest regressor is -6.343234959507757"
   ]
  },
  {
   "cell_type": "code",
   "execution_count": 46,
   "id": "8521b19d",
   "metadata": {},
   "outputs": [
    {
     "name": "stdout",
     "output_type": "stream",
     "text": [
      "[ 0.31083529  0.73598882  0.83206749  0.73906301 -0.00263322]\n",
      "0.5230642782197699\n",
      "difference between R2score and cross validation -47.27937704411256\n"
     ]
    }
   ],
   "source": [
    "# Cv score for KNN\n",
    "score= cross_val_score(knn,x,y,cv=5,scoring='r2')\n",
    "print(score)\n",
    "print(score.mean())\n",
    "print('difference between R2score and cross validation',(r2_score(y_test,pre)-score.mean())*100)"
   ]
  },
  {
   "cell_type": "markdown",
   "id": "8264ae38",
   "metadata": {},
   "source": [
    "cross validation score of KNN is 0.5230642782197699"
   ]
  },
  {
   "cell_type": "code",
   "execution_count": 47,
   "id": "f87173ea",
   "metadata": {},
   "outputs": [
    {
     "name": "stdout",
     "output_type": "stream",
     "text": [
      "[-3.74673026e+02  6.07818350e-01  7.44238820e-01  7.08606887e-01\n",
      " -6.24963081e-03]\n",
      "-74.52372235451192\n",
      "difference between R2score and cross validation 7457.399286229057\n"
     ]
    }
   ],
   "source": [
    "# Cv score for Extatrees regressor\n",
    "score= cross_val_score(ex,x,y,cv=5,scoring='r2')\n",
    "print(score)\n",
    "print(score.mean())\n",
    "print('difference between R2score and cross validation',(r2_score(y_test,pre)-score.mean())*100)"
   ]
  },
  {
   "cell_type": "markdown",
   "id": "ac813c83",
   "metadata": {},
   "source": [
    "cross validation score of ExtraTrees Regressor is -74.52372235451192"
   ]
  },
  {
   "cell_type": "code",
   "execution_count": 48,
   "id": "1739a301",
   "metadata": {},
   "outputs": [
    {
     "name": "stdout",
     "output_type": "stream",
     "text": [
      "[-3.13450758e+01 -1.41424430e+01 -2.04646640e+00 -3.85056165e-01\n",
      " -4.40856260e-03]\n",
      "-9.584689981762523\n",
      "difference between R2score and cross validation 963.4960489541168\n"
     ]
    }
   ],
   "source": [
    "# Cv score for Linear regression\n",
    "score= cross_val_score(lr,x,y,cv=5,scoring='r2')\n",
    "print(score)\n",
    "print(score.mean())\n",
    "print('difference between R2score and cross validation',(r2_score(y_test,pre)-score.mean())*100)"
   ]
  },
  {
   "cell_type": "markdown",
   "id": "148cd3c5",
   "metadata": {},
   "source": [
    "cross validation score of liear regression is -9.584689981762523"
   ]
  },
  {
   "cell_type": "markdown",
   "id": "253ce804",
   "metadata": {},
   "source": [
    "KNN is our best model as difference between the R2 score and cross validation is least"
   ]
  },
  {
   "cell_type": "markdown",
   "id": "5dfda6ea",
   "metadata": {},
   "source": [
    "# SETTING PARAMETERS"
   ]
  },
  {
   "cell_type": "code",
   "execution_count": 49,
   "id": "8eb6b548",
   "metadata": {},
   "outputs": [],
   "source": [
    "from sklearn import datasets\n",
    "from sklearn.model_selection import GridSearchCV\n",
    "from sklearn import metrics"
   ]
  },
  {
   "cell_type": "code",
   "execution_count": 56,
   "id": "f14686cf",
   "metadata": {},
   "outputs": [
    {
     "name": "stdout",
     "output_type": "stream",
     "text": [
      "{'n_jobs': None, 'n_neighbors': 5, 'p': 2, 'weights': 'uniform'}\n"
     ]
    }
   ],
   "source": [
    "para={'n_neighbors':[5],\n",
    "      'weights':['uniform','distance'],\n",
    "     'n_jobs':[None],\n",
    "     'p':[2]}\n",
    "knn_cv=GridSearchCV(knn,para,cv=5)\n",
    "knn_cv.fit(x_train,y_train)\n",
    "print(knn_cv.best_params_)"
   ]
  },
  {
   "cell_type": "code",
   "execution_count": 57,
   "id": "7ec8896f",
   "metadata": {},
   "outputs": [
    {
     "name": "stdout",
     "output_type": "stream",
     "text": [
      "0.45940638428022973\n"
     ]
    }
   ],
   "source": [
    "#setting new parameters\n",
    "knn_new=KNN(n_jobs=None,n_neighbors=5,p=2,weights='uniform')\n",
    "knn_new.fit(x_train,y_train)\n",
    "y_pred_new=knn_new.predict(x_test)\n",
    "print(metrics.r2_score(y_test,y_pred_new))"
   ]
  },
  {
   "cell_type": "code",
   "execution_count": 58,
   "id": "b8da8f61",
   "metadata": {},
   "outputs": [
    {
     "name": "stdout",
     "output_type": "stream",
     "text": [
      "R2 score: 0.45940638428022973\n",
      "mean absolute error: 445.1941533788915\n",
      "mean square error; 48940302.00019742\n",
      "root mean squre error: 6995.734557585602\n"
     ]
    }
   ],
   "source": [
    "#checking the score of new set parameters\n",
    "knn_new.fit(x_train,y_train)\n",
    "pre=knn_new.predict(x_test)\n",
    "print('R2 score:',r2_score(y_test,pre))\n",
    "print('mean absolute error:',mean_absolute_error(y_test,pre))\n",
    "print('mean square error;',mean_squared_error(y_test,pre))\n",
    "print('root mean squre error:',np.sqrt(mean_squared_error(y_test,pre)))"
   ]
  },
  {
   "cell_type": "code",
   "execution_count": 60,
   "id": "b024cac7",
   "metadata": {},
   "outputs": [],
   "source": [
    "#importing pickle and saving the file\n",
    "import joblib\n",
    "import pickle\n",
    "filename=\"Average cost for two.pkl\"\n",
    "pickle.dump(knn_new,open(filename,'wb'))"
   ]
  },
  {
   "cell_type": "code",
   "execution_count": 61,
   "id": "df7d6dcb",
   "metadata": {},
   "outputs": [],
   "source": [
    "load_m=pickle.load(open('Average cost for two.pkl','rb'))"
   ]
  },
  {
   "cell_type": "code",
   "execution_count": 62,
   "id": "a456d0c2",
   "metadata": {},
   "outputs": [
    {
     "name": "stdout",
     "output_type": "stream",
     "text": [
      "45.94063842802297\n"
     ]
    }
   ],
   "source": [
    "result=load_m.score(x_test,y_test)\n",
    "print(result*100)"
   ]
  },
  {
   "cell_type": "code",
   "execution_count": 63,
   "id": "71d19a85",
   "metadata": {},
   "outputs": [
    {
     "data": {
      "text/html": [
       "<div>\n",
       "<style scoped>\n",
       "    .dataframe tbody tr th:only-of-type {\n",
       "        vertical-align: middle;\n",
       "    }\n",
       "\n",
       "    .dataframe tbody tr th {\n",
       "        vertical-align: top;\n",
       "    }\n",
       "\n",
       "    .dataframe thead th {\n",
       "        text-align: right;\n",
       "    }\n",
       "</style>\n",
       "<table border=\"1\" class=\"dataframe\">\n",
       "  <thead>\n",
       "    <tr style=\"text-align: right;\">\n",
       "      <th></th>\n",
       "      <th>0</th>\n",
       "      <th>1</th>\n",
       "      <th>2</th>\n",
       "      <th>3</th>\n",
       "      <th>4</th>\n",
       "      <th>5</th>\n",
       "      <th>6</th>\n",
       "      <th>7</th>\n",
       "      <th>8</th>\n",
       "      <th>9</th>\n",
       "      <th>...</th>\n",
       "      <th>2624</th>\n",
       "      <th>2625</th>\n",
       "      <th>2626</th>\n",
       "      <th>2627</th>\n",
       "      <th>2628</th>\n",
       "      <th>2629</th>\n",
       "      <th>2630</th>\n",
       "      <th>2631</th>\n",
       "      <th>2632</th>\n",
       "      <th>2633</th>\n",
       "    </tr>\n",
       "  </thead>\n",
       "  <tbody>\n",
       "    <tr>\n",
       "      <th>predicted</th>\n",
       "      <td>1059.0</td>\n",
       "      <td>650.0</td>\n",
       "      <td>240.0</td>\n",
       "      <td>670.0</td>\n",
       "      <td>560.0</td>\n",
       "      <td>1400.0</td>\n",
       "      <td>360.0</td>\n",
       "      <td>340.0</td>\n",
       "      <td>2900.0</td>\n",
       "      <td>1180.0</td>\n",
       "      <td>...</td>\n",
       "      <td>1160.0</td>\n",
       "      <td>640.0</td>\n",
       "      <td>700.0</td>\n",
       "      <td>250.0</td>\n",
       "      <td>510.0</td>\n",
       "      <td>340.0</td>\n",
       "      <td>190.0</td>\n",
       "      <td>600.0</td>\n",
       "      <td>660.0</td>\n",
       "      <td>590.0</td>\n",
       "    </tr>\n",
       "    <tr>\n",
       "      <th>orginal</th>\n",
       "      <td>450.0</td>\n",
       "      <td>700.0</td>\n",
       "      <td>200.0</td>\n",
       "      <td>700.0</td>\n",
       "      <td>600.0</td>\n",
       "      <td>1700.0</td>\n",
       "      <td>350.0</td>\n",
       "      <td>300.0</td>\n",
       "      <td>2000.0</td>\n",
       "      <td>1200.0</td>\n",
       "      <td>...</td>\n",
       "      <td>1200.0</td>\n",
       "      <td>550.0</td>\n",
       "      <td>500.0</td>\n",
       "      <td>200.0</td>\n",
       "      <td>600.0</td>\n",
       "      <td>200.0</td>\n",
       "      <td>150.0</td>\n",
       "      <td>600.0</td>\n",
       "      <td>800.0</td>\n",
       "      <td>900.0</td>\n",
       "    </tr>\n",
       "  </tbody>\n",
       "</table>\n",
       "<p>2 rows × 2634 columns</p>\n",
       "</div>"
      ],
      "text/plain": [
       "             0      1      2      3      4       5      6      7       8     \\\n",
       "predicted  1059.0  650.0  240.0  670.0  560.0  1400.0  360.0  340.0  2900.0   \n",
       "orginal     450.0  700.0  200.0  700.0  600.0  1700.0  350.0  300.0  2000.0   \n",
       "\n",
       "             9     ...    2624   2625   2626   2627   2628   2629   2630  \\\n",
       "predicted  1180.0  ...  1160.0  640.0  700.0  250.0  510.0  340.0  190.0   \n",
       "orginal    1200.0  ...  1200.0  550.0  500.0  200.0  600.0  200.0  150.0   \n",
       "\n",
       "            2631   2632   2633  \n",
       "predicted  600.0  660.0  590.0  \n",
       "orginal    600.0  800.0  900.0  \n",
       "\n",
       "[2 rows x 2634 columns]"
      ]
     },
     "execution_count": 63,
     "metadata": {},
     "output_type": "execute_result"
    }
   ],
   "source": [
    "con=pd.DataFrame([load_m.predict(x_test)[:],y_test[:]],index=['predicted','orginal'])\n",
    "con"
   ]
  },
  {
   "cell_type": "markdown",
   "id": "f0aeb19c",
   "metadata": {},
   "source": [
    "# BUILDING MODEL FOR PRICE RANGE"
   ]
  },
  {
   "cell_type": "code",
   "execution_count": 58,
   "id": "4b191750",
   "metadata": {},
   "outputs": [
    {
     "name": "stdout",
     "output_type": "stream",
     "text": [
      "feature dimension (8777, 15)\n",
      "label dimension (8777,)\n"
     ]
    }
   ],
   "source": [
    "#seperating independent and target variables\n",
    "x=df_zo.drop('Price range',axis=1)\n",
    "y=df_zo['Price range']\n",
    "print('feature dimension',x.shape)\n",
    "print('label dimension',y.shape)"
   ]
  },
  {
   "cell_type": "code",
   "execution_count": 59,
   "id": "a2de0e65",
   "metadata": {},
   "outputs": [
    {
     "data": {
      "text/plain": [
       "array([[-0.15443296,  0.        ,  0.        , ..., -1.67572396,\n",
       "         0.        , -0.52020738],\n",
       "       [ 0.39007912,  0.        ,  0.        , ..., -1.67572396,\n",
       "         0.        , -0.52020738],\n",
       "       [ 1.06024783,  0.        ,  0.        , ..., -1.67572396,\n",
       "         0.        , -0.52020738],\n",
       "       ...,\n",
       "       [ 7.72004943,  0.        ,  0.        , ...,  1.22977408,\n",
       "         0.        , -0.03500235],\n",
       "       [ 7.72004943,  0.        ,  0.        , ...,  1.22977408,\n",
       "         0.        ,  3.48542967],\n",
       "       [ 7.72004943,  0.        ,  0.        , ...,  0.8335698 ,\n",
       "         0.        ,  1.58234773]])"
      ]
     },
     "execution_count": 59,
     "metadata": {},
     "output_type": "execute_result"
    }
   ],
   "source": [
    "#scaling of data\n",
    "st=StandardScaler()\n",
    "x=st.fit_transform(x)\n",
    "x"
   ]
  },
  {
   "cell_type": "code",
   "execution_count": 60,
   "id": "5a9a8007",
   "metadata": {},
   "outputs": [
    {
     "name": "stdout",
     "output_type": "stream",
     "text": [
      "Best accuracy 0.3283423882916945 at random state 62\n"
     ]
    }
   ],
   "source": [
    "maxAccu=0\n",
    "maxRs=0\n",
    "for i in range(1,200):\n",
    "    x_train,x_test,y_train,y_test=train_test_split(x,y,test_size=0.30,random_state=i)\n",
    "    lr=LinearRegression()\n",
    "    lr.fit(x_train,y_train)\n",
    "    pre=lr.predict(x_test)\n",
    "    acc=r2_score(y_test,pre)\n",
    "    if acc>maxAccu:\n",
    "        maxAccu=acc\n",
    "        maxRs=i\n",
    "print('Best accuracy',maxAccu,'at random state',maxRs)        \n",
    "    "
   ]
  },
  {
   "cell_type": "code",
   "execution_count": 61,
   "id": "9f2a2934",
   "metadata": {},
   "outputs": [],
   "source": [
    "x_train,x_test,y_train,y_test=train_test_split(x,y,test_size=0.30,random_state=maxRs)"
   ]
  },
  {
   "cell_type": "code",
   "execution_count": 62,
   "id": "a632fb7d",
   "metadata": {},
   "outputs": [
    {
     "name": "stdout",
     "output_type": "stream",
     "text": [
      "0.7278063561740602\n",
      "70.03868190557641\n",
      "Mean absolute error: 0.3290352216615342\n",
      "Mean square error: 0.23158064941936082\n",
      "Root mean square error: 0.48122827163349496\n"
     ]
    }
   ],
   "source": [
    "#support vector regression\n",
    "svr=SVR()\n",
    "svr.fit(x_train,y_train)\n",
    "pre=svr.predict(x_test)\n",
    "pred=svr.predict(x_train)\n",
    "print(r2_score(y_train,pred))\n",
    "print(r2_score(y_test,pre)*100)\n",
    "print('Mean absolute error:',mean_absolute_error(y_test,pre))\n",
    "print('Mean square error:',mean_squared_error(y_test,pre))\n",
    "print('Root mean square error:',np.sqrt(mean_squared_error(y_test,pre)))"
   ]
  },
  {
   "cell_type": "code",
   "execution_count": 63,
   "id": "a22f0d47",
   "metadata": {},
   "outputs": [
    {
     "name": "stdout",
     "output_type": "stream",
     "text": [
      "0.9939476631065775\n",
      "96.03741441342606\n",
      "Mean absolute error: 0.05036735726940738\n",
      "Mean square error: 0.030628096555250808\n",
      "Root mean square error: 0.1750088470770858\n"
     ]
    }
   ],
   "source": [
    "#Randomforest\n",
    "ra=RandomForestRegressor()\n",
    "ra.fit(x_train,y_train)\n",
    "pre=ra.predict(x_test)\n",
    "pred=ra.predict(x_train)\n",
    "print(r2_score(y_train,pred))\n",
    "print(r2_score(y_test,pre)*100)\n",
    "print('Mean absolute error:',mean_absolute_error(y_test,pre))\n",
    "print('Mean square error:',mean_squared_error(y_test,pre))\n",
    "print('Root mean square error:',np.sqrt(mean_squared_error(y_test,pre)))"
   ]
  },
  {
   "cell_type": "code",
   "execution_count": 64,
   "id": "76d49b69",
   "metadata": {},
   "outputs": [
    {
     "name": "stdout",
     "output_type": "stream",
     "text": [
      "0.8525761038287754\n",
      "76.20515540219624\n",
      "Mean absolute error: 0.24168564920273344\n",
      "Mean square error: 0.18391799544419132\n",
      "Root mean square error: 0.42885661408469766\n"
     ]
    }
   ],
   "source": [
    "#KNN\n",
    "knn=KNN()\n",
    "knn.fit(x_train,y_train)\n",
    "pre=knn.predict(x_test)\n",
    "pred=knn.predict(x_train)\n",
    "print(r2_score(y_train,pred))\n",
    "print(r2_score(y_test,pre)*100)\n",
    "print('Mean absolute error:',mean_absolute_error(y_test,pre))\n",
    "print('Mean square error:',mean_squared_error(y_test,pre))\n",
    "print('Root mean square error:',np.sqrt(mean_squared_error(y_test,pre)))"
   ]
  },
  {
   "cell_type": "code",
   "execution_count": 65,
   "id": "c30c41d0",
   "metadata": {},
   "outputs": [
    {
     "name": "stdout",
     "output_type": "stream",
     "text": [
      "0.9991693492440206\n",
      "95.20259482255614\n",
      "Mean absolute error: 0.056099088838268786\n",
      "Mean square error: 0.037080685269552015\n",
      "Root mean square error: 0.19256345777315076\n"
     ]
    }
   ],
   "source": [
    "#Extratrees regressor\n",
    "ex=ExtraTreesRegressor()\n",
    "ex.fit(x_train,y_train)\n",
    "pre=ex.predict(x_test)\n",
    "pred=ex.predict(x_train)\n",
    "print(r2_score(y_train,pred))\n",
    "print(r2_score(y_test,pre)*100)\n",
    "print('Mean absolute error:',mean_absolute_error(y_test,pre))\n",
    "print('Mean square error:',mean_squared_error(y_test,pre))\n",
    "print('Root mean square error:',np.sqrt(mean_squared_error(y_test,pre)))"
   ]
  },
  {
   "cell_type": "code",
   "execution_count": 66,
   "id": "12908343",
   "metadata": {},
   "outputs": [
    {
     "name": "stdout",
     "output_type": "stream",
     "text": [
      "0.26751047342947876\n",
      "32.83423882916945\n",
      "Mean absolute error: 0.5663862055217243\n",
      "Mean square error: 0.5191457379033532\n",
      "Root mean square error: 0.7205176874326911\n"
     ]
    }
   ],
   "source": [
    "#Linear regression\n",
    "lr=LinearRegression()\n",
    "lr.fit(x_train,y_train)\n",
    "pre=lr.predict(x_test)\n",
    "pred=lr.predict(x_train)\n",
    "print(r2_score(y_train,pred))\n",
    "print(r2_score(y_test,pre)*100)\n",
    "print('Mean absolute error:',mean_absolute_error(y_test,pre))\n",
    "print('Mean square error:',mean_squared_error(y_test,pre))\n",
    "print('Root mean square error:',np.sqrt(mean_squared_error(y_test,pre)))"
   ]
  },
  {
   "cell_type": "markdown",
   "id": "23556179",
   "metadata": {},
   "source": [
    "# CROSS VALIDATION"
   ]
  },
  {
   "cell_type": "code",
   "execution_count": 67,
   "id": "5d29c248",
   "metadata": {},
   "outputs": [
    {
     "name": "stdout",
     "output_type": "stream",
     "text": [
      "[0.56854025 0.72222304 0.69316378 0.65577864 0.70852794]\n",
      "0.6696467304043309\n",
      "difference between R2score and cross validation -34.13043421126364\n"
     ]
    }
   ],
   "source": [
    "# Cv score for support vector\n",
    "score= cross_val_score(svr,x,y,cv=5,scoring='r2')\n",
    "print(score)\n",
    "print(score.mean())\n",
    "print('difference between R2score and cross validation',(r2_score(y_test,pre)-score.mean())*100)"
   ]
  },
  {
   "cell_type": "markdown",
   "id": "8e7cfc73",
   "metadata": {},
   "source": [
    "cross validation score of SVR is 0.6696467304043309"
   ]
  },
  {
   "cell_type": "code",
   "execution_count": 68,
   "id": "8948a097",
   "metadata": {},
   "outputs": [
    {
     "name": "stdout",
     "output_type": "stream",
     "text": [
      "[0.62181229 0.95304351 0.98848478 0.98519011 0.90142471]\n",
      "0.8899910824687666\n",
      "difference between R2score and cross validation -56.16486941770721\n"
     ]
    }
   ],
   "source": [
    "# Cv score for Random forest\n",
    "score= cross_val_score(ra,x,y,cv=5,scoring='r2')\n",
    "print(score)\n",
    "print(score.mean())\n",
    "print('difference between R2score and cross validation',(r2_score(y_test,pre)-score.mean())*100)"
   ]
  },
  {
   "cell_type": "markdown",
   "id": "1db49442",
   "metadata": {},
   "source": [
    "cross validation score of randomforest regressor is 0.8899910824687666"
   ]
  },
  {
   "cell_type": "code",
   "execution_count": 69,
   "id": "54ed5906",
   "metadata": {},
   "outputs": [
    {
     "name": "stdout",
     "output_type": "stream",
     "text": [
      "[0.57440046 0.70534067 0.78282975 0.84001183 0.7410703 ]\n",
      "0.7287306004138174\n",
      "difference between R2score and cross validation -40.0388212122123\n"
     ]
    }
   ],
   "source": [
    "# Cv score for KNN\n",
    "score= cross_val_score(knn,x,y,cv=5,scoring='r2')\n",
    "print(score)\n",
    "print(score.mean())\n",
    "print('difference between R2score and cross validation',(r2_score(y_test,pre)-score.mean())*100)"
   ]
  },
  {
   "cell_type": "markdown",
   "id": "b6e6ac67",
   "metadata": {},
   "source": [
    "cross validation score of KNN is 0.7287306004138174"
   ]
  },
  {
   "cell_type": "code",
   "execution_count": 70,
   "id": "944757d6",
   "metadata": {},
   "outputs": [
    {
     "name": "stdout",
     "output_type": "stream",
     "text": [
      "[0.71553686 0.94579444 0.98301065 0.97484504 0.89938886]\n",
      "0.9037151704678852\n",
      "difference between R2score and cross validation -57.53727821761907\n"
     ]
    }
   ],
   "source": [
    "# Cv score for Extatrees regressor\n",
    "score= cross_val_score(ex,x,y,cv=5,scoring='r2')\n",
    "print(score)\n",
    "print(score.mean())\n",
    "print('difference between R2score and cross validation',(r2_score(y_test,pre)-score.mean())*100)"
   ]
  },
  {
   "cell_type": "markdown",
   "id": "452c855e",
   "metadata": {},
   "source": [
    "cross validation score of Extratrees regressor is 0.9037151704678852"
   ]
  },
  {
   "cell_type": "code",
   "execution_count": 71,
   "id": "ba20e815",
   "metadata": {},
   "outputs": [
    {
     "name": "stdout",
     "output_type": "stream",
     "text": [
      "[ 2.45792698e-01  2.27025345e-01  1.31431704e-01  2.18216441e-01\n",
      " -1.17676498e+03]\n",
      "-235.1885026522538\n",
      "difference between R2score and cross validation 23551.68450405455\n"
     ]
    }
   ],
   "source": [
    "# Cv score for Linear regression\n",
    "score= cross_val_score(lr,x,y,cv=5,scoring='r2')\n",
    "print(score)\n",
    "print(score.mean())\n",
    "print('difference between R2score and cross validation',(r2_score(y_test,pre)-score.mean())*100)"
   ]
  },
  {
   "cell_type": "markdown",
   "id": "19f9f57c",
   "metadata": {},
   "source": [
    "cross validation of linear regression is -235.1885026522538"
   ]
  },
  {
   "cell_type": "markdown",
   "id": "33f75ce6",
   "metadata": {},
   "source": [
    "ExtraTrees regressor is our best model as the difference between R2 score and cross validation is least."
   ]
  },
  {
   "cell_type": "markdown",
   "id": "a2d30fbe",
   "metadata": {},
   "source": [
    "# SETTING PARAMETERS"
   ]
  },
  {
   "cell_type": "code",
   "execution_count": 72,
   "id": "54984c3f",
   "metadata": {},
   "outputs": [
    {
     "name": "stdout",
     "output_type": "stream",
     "text": [
      "{'ccp_alpha': 0.0, 'criterion': 'absolute_error', 'n_estimators': 100, 'n_jobs': None}\n"
     ]
    }
   ],
   "source": [
    "para={'n_estimators':[80,100],\n",
    "      'criterion':['squared_error','absolute_error'],\n",
    "     'n_jobs':['int',None],\n",
    "     'ccp_alpha':[0.0]}\n",
    "ex_cv=GridSearchCV(ex,para,cv=5)\n",
    "ex_cv.fit(x_train,y_train)\n",
    "print(ex_cv.best_params_)"
   ]
  },
  {
   "cell_type": "code",
   "execution_count": 73,
   "id": "81ab3942",
   "metadata": {},
   "outputs": [
    {
     "name": "stdout",
     "output_type": "stream",
     "text": [
      "0.9529726533588658\n"
     ]
    }
   ],
   "source": [
    "#setting the new parameters\n",
    "ex_new=ExtraTreesRegressor(criterion='absolute_error',ccp_alpha=0.0,n_jobs=None,n_estimators=100)\n",
    "ex_new.fit(x_train,y_train)\n",
    "y_pred_new=ex_new.predict(x_test)\n",
    "print(metrics.r2_score(y_test,y_pred_new))"
   ]
  },
  {
   "cell_type": "code",
   "execution_count": 74,
   "id": "b315a1ca",
   "metadata": {},
   "outputs": [
    {
     "name": "stdout",
     "output_type": "stream",
     "text": [
      "R2 score: 0.9517893448521362\n",
      "mean absolute error: 0.05668897114654519\n",
      "mean square error; 0.037263563615223996\n",
      "root mean squre error: 0.1930377258859625\n"
     ]
    }
   ],
   "source": [
    "#checking the score of set parameters\n",
    "ex_new.fit(x_train,y_train)\n",
    "pre=ex_new.predict(x_test)\n",
    "print('R2 score:',r2_score(y_test,pre))\n",
    "print('mean absolute error:',mean_absolute_error(y_test,pre))\n",
    "print('mean square error;',mean_squared_error(y_test,pre))\n",
    "print('root mean squre error:',np.sqrt(mean_squared_error(y_test,pre)))"
   ]
  },
  {
   "cell_type": "code",
   "execution_count": 75,
   "id": "dc07a23d",
   "metadata": {},
   "outputs": [],
   "source": [
    "#importing pickle and saving files\n",
    "import joblib\n",
    "import pickle\n",
    "filename=\"Price range.pkl\"\n",
    "pickle.dump(ex_new,open(filename,'wb'))"
   ]
  },
  {
   "cell_type": "code",
   "execution_count": 76,
   "id": "78ba209e",
   "metadata": {},
   "outputs": [],
   "source": [
    "load_m=pickle.load(open('Price range.pkl','rb'))"
   ]
  },
  {
   "cell_type": "code",
   "execution_count": 77,
   "id": "57f1ca0b",
   "metadata": {},
   "outputs": [
    {
     "name": "stdout",
     "output_type": "stream",
     "text": [
      "95.17893448521362\n"
     ]
    }
   ],
   "source": [
    "result=load_m.score(x_test,y_test)\n",
    "print(result*100)"
   ]
  },
  {
   "cell_type": "code",
   "execution_count": 78,
   "id": "9cc69986",
   "metadata": {},
   "outputs": [
    {
     "data": {
      "text/html": [
       "<div>\n",
       "<style scoped>\n",
       "    .dataframe tbody tr th:only-of-type {\n",
       "        vertical-align: middle;\n",
       "    }\n",
       "\n",
       "    .dataframe tbody tr th {\n",
       "        vertical-align: top;\n",
       "    }\n",
       "\n",
       "    .dataframe thead th {\n",
       "        text-align: right;\n",
       "    }\n",
       "</style>\n",
       "<table border=\"1\" class=\"dataframe\">\n",
       "  <thead>\n",
       "    <tr style=\"text-align: right;\">\n",
       "      <th></th>\n",
       "      <th>0</th>\n",
       "      <th>1</th>\n",
       "      <th>2</th>\n",
       "      <th>3</th>\n",
       "      <th>4</th>\n",
       "      <th>5</th>\n",
       "      <th>6</th>\n",
       "      <th>7</th>\n",
       "      <th>8</th>\n",
       "      <th>9</th>\n",
       "      <th>...</th>\n",
       "      <th>2624</th>\n",
       "      <th>2625</th>\n",
       "      <th>2626</th>\n",
       "      <th>2627</th>\n",
       "      <th>2628</th>\n",
       "      <th>2629</th>\n",
       "      <th>2630</th>\n",
       "      <th>2631</th>\n",
       "      <th>2632</th>\n",
       "      <th>2633</th>\n",
       "    </tr>\n",
       "  </thead>\n",
       "  <tbody>\n",
       "    <tr>\n",
       "      <th>predicted</th>\n",
       "      <td>2.9875</td>\n",
       "      <td>1.0</td>\n",
       "      <td>1.0</td>\n",
       "      <td>1.0</td>\n",
       "      <td>2.0125</td>\n",
       "      <td>3.55</td>\n",
       "      <td>1.0</td>\n",
       "      <td>3.3875</td>\n",
       "      <td>1.0</td>\n",
       "      <td>1.0</td>\n",
       "      <td>...</td>\n",
       "      <td>2.0875</td>\n",
       "      <td>1.0</td>\n",
       "      <td>3.0</td>\n",
       "      <td>1.0</td>\n",
       "      <td>1.0</td>\n",
       "      <td>1.0</td>\n",
       "      <td>1.0</td>\n",
       "      <td>1.0</td>\n",
       "      <td>1.0</td>\n",
       "      <td>1.0</td>\n",
       "    </tr>\n",
       "    <tr>\n",
       "      <th>orginal</th>\n",
       "      <td>3.0000</td>\n",
       "      <td>1.0</td>\n",
       "      <td>1.0</td>\n",
       "      <td>1.0</td>\n",
       "      <td>2.0000</td>\n",
       "      <td>4.00</td>\n",
       "      <td>1.0</td>\n",
       "      <td>3.0000</td>\n",
       "      <td>1.0</td>\n",
       "      <td>1.0</td>\n",
       "      <td>...</td>\n",
       "      <td>2.0000</td>\n",
       "      <td>1.0</td>\n",
       "      <td>3.0</td>\n",
       "      <td>1.0</td>\n",
       "      <td>1.0</td>\n",
       "      <td>1.0</td>\n",
       "      <td>1.0</td>\n",
       "      <td>1.0</td>\n",
       "      <td>1.0</td>\n",
       "      <td>1.0</td>\n",
       "    </tr>\n",
       "  </tbody>\n",
       "</table>\n",
       "<p>2 rows × 2634 columns</p>\n",
       "</div>"
      ],
      "text/plain": [
       "             0     1     2     3       4     5     6       7     8     9     \\\n",
       "predicted  2.9875   1.0   1.0   1.0  2.0125  3.55   1.0  3.3875   1.0   1.0   \n",
       "orginal    3.0000   1.0   1.0   1.0  2.0000  4.00   1.0  3.0000   1.0   1.0   \n",
       "\n",
       "           ...    2624  2625  2626  2627  2628  2629  2630  2631  2632  2633  \n",
       "predicted  ...  2.0875   1.0   3.0   1.0   1.0   1.0   1.0   1.0   1.0   1.0  \n",
       "orginal    ...  2.0000   1.0   3.0   1.0   1.0   1.0   1.0   1.0   1.0   1.0  \n",
       "\n",
       "[2 rows x 2634 columns]"
      ]
     },
     "execution_count": 78,
     "metadata": {},
     "output_type": "execute_result"
    }
   ],
   "source": [
    "con=pd.DataFrame([load_m.predict(x_test)[:],y_test[:]],index=['predicted','orginal'])\n",
    "con"
   ]
  },
  {
   "cell_type": "code",
   "execution_count": null,
   "id": "60092b81",
   "metadata": {},
   "outputs": [],
   "source": []
  }
 ],
 "metadata": {
  "kernelspec": {
   "display_name": "Python 3 (ipykernel)",
   "language": "python",
   "name": "python3"
  },
  "language_info": {
   "codemirror_mode": {
    "name": "ipython",
    "version": 3
   },
   "file_extension": ".py",
   "mimetype": "text/x-python",
   "name": "python",
   "nbconvert_exporter": "python",
   "pygments_lexer": "ipython3",
   "version": "3.11.4"
  }
 },
 "nbformat": 4,
 "nbformat_minor": 5
}
